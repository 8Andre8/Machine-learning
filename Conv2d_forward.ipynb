{
 "cells": [
  {
   "cell_type": "code",
   "execution_count": 87,
   "metadata": {},
   "outputs": [
    {
     "name": "stdout",
     "output_type": "stream",
     "text": [
      "13.728 12.47 12.22\n",
      "12.19 12.804 10.673\n",
      "11.894 13.172 11.029\n",
      "10.776 11.907 11.507\n",
      "11.178 12.24 12.025\n",
      "14.462 11.378 10.675\n"
     ]
    }
   ],
   "source": [
    "import numpy as np\n",
    "\n",
    "\n",
    "class Conv2d:\n",
    "\n",
    "    def __init__(\n",
    "        self, in_channels, out_channels, kernel_size_h, kernel_size_w, padding=0, stride=1\n",
    "    ):\n",
    "        self.in_channels = in_channels\n",
    "        self.out_channels = out_channels\n",
    "        self.kernel_size_h = kernel_size_h\n",
    "        self.kernel_size_w = kernel_size_w\n",
    "        self.padding = padding\n",
    "        self.stride = stride\n",
    "\n",
    "        self.W, self.biases = self.init_weight_matrix()\n",
    "\n",
    "    def init_weight_matrix(self,):\n",
    "        np.random.seed(1)\n",
    "        W = np.random.uniform(size=(\n",
    "            self.in_channels, self.kernel_size_h, self.kernel_size_w, self.out_channels\n",
    "        ))\n",
    "        biases = np.random.uniform(size=(1, self.out_channels))\n",
    "        return W, biases\n",
    "\n",
    "    def forward(self, x): \n",
    "        x_with_padding = [[] for i in range(self.in_channels)]\n",
    "        for i in range(self.in_channels):\n",
    "            x_with_padding[i] = np.pad(x[i], ((self.padding, self.padding), (self.padding, self.padding)), mode='constant')\n",
    "        x_with_padding = np.array(x_with_padding)\n",
    "        \n",
    "        input_height = x.shape[1]\n",
    "        input_width = x.shape[2]\n",
    "        output_height = int(np.floor((input_height - self.kernel_size_h + self.padding*2 + self.stride)/self.stride))\n",
    "        output_width = int(np.floor((input_width - self.kernel_size_w + self.padding*2 + self.stride)/self.stride))\n",
    "        np_final_output = np.zeros([self.out_channels, output_height, output_width])\n",
    "        for output in range(self.out_channels):\n",
    "            for input in range(self.in_channels):\n",
    "                for i in range(output_height):\n",
    "                    for j in range(output_width):\n",
    "                        filter_sum = 0\n",
    "                        for m in range(self.kernel_size_h):\n",
    "                            for n in range(self.kernel_size_w):\n",
    "                                np_final_output[output][i][j] += x_with_padding[input][i*self.stride + m][j*self.stride + n] * \\\n",
    "                                                                        self.W[input][m][n][output]\n",
    "                        if input == self.in_channels - 1:\n",
    "                            np_final_output[output][i][j] += self.biases[0][output]\n",
    "        return np_final_output\n",
    "\n",
    "\n",
    "\n",
    "def read_matrix(in_channels, h, w, dtype=float):\n",
    "    return np.array([list(map(dtype, input().split())) \n",
    "                     for _ in range(in_channels * h)]).reshape(in_channels, h, w)\n",
    "\n",
    "def print_matrix(matrix):\n",
    "    for channel in matrix:\n",
    "        for row in channel:\n",
    "            print(' '.join(map(str, row)))\n",
    "\n",
    "def solution():\n",
    "    in_channels, out_channels, kernel_size_h, kernel_size_w, h, w, padding, stride = 2, 3, 2, 2, 3, 4, 0, 1\n",
    "    input_image = np.array([[1.0, 1.0, 1.0, 1.0], \n",
    "                            [1.0, 0.0, 2.0, 1.0], \n",
    "                            [1.0, 2.0, 0.0, 1.0], \n",
    "                            [5.0, 7.0, 4.0, 5.0], \n",
    "                            [3.0, 6.0, 5.0, 5.0], \n",
    "                            [8.0, 4.0, 6.0, 3.0]]).reshape(in_channels, h, w)\n",
    "    #print(input_image)\n",
    "    conv = Conv2d(in_channels, out_channels, kernel_size_h, kernel_size_w, padding, stride)\n",
    "    output = conv.forward(input_image).round(3)\n",
    "    print_matrix(output)\n",
    "\n",
    "solution()"
   ]
  },
  {
   "cell_type": "code",
   "execution_count": 9,
   "metadata": {},
   "outputs": [
    {
     "data": {
      "text/plain": [
       "array([[2., 2.],\n",
       "       [2., 2.],\n",
       "       [2., 2.],\n",
       "       [2., 2.]])"
      ]
     },
     "execution_count": 9,
     "metadata": {},
     "output_type": "execute_result"
    }
   ],
   "source": [
    "np.zeros([4, 2]) + 2"
   ]
  },
  {
   "cell_type": "code",
   "execution_count": 66,
   "metadata": {},
   "outputs": [
    {
     "data": {
      "text/plain": [
       "array([[[[4.17022005e-01, 7.20324493e-01, 1.14374817e-04],\n",
       "         [3.02332573e-01, 1.46755891e-01, 9.23385948e-02]],\n",
       "\n",
       "        [[1.86260211e-01, 3.45560727e-01, 3.96767474e-01],\n",
       "         [5.38816734e-01, 4.19194514e-01, 6.85219500e-01]]],\n",
       "\n",
       "\n",
       "       [[[2.04452250e-01, 8.78117436e-01, 2.73875932e-02],\n",
       "         [6.70467510e-01, 4.17304802e-01, 5.58689828e-01]],\n",
       "\n",
       "        [[1.40386939e-01, 1.98101489e-01, 8.00744569e-01],\n",
       "         [9.68261576e-01, 3.13424178e-01, 6.92322616e-01]]]])"
      ]
     },
     "execution_count": 66,
     "metadata": {},
     "output_type": "execute_result"
    }
   ],
   "source": [
    "in_channels, out_channels, kernel_size_h, kernel_size_w, h, w, padding, stride = 2, 3, 2, 2, 3, 4, 0, 1\n",
    "np.random.seed(1)\n",
    "W = np.random.uniform(size=(\n",
    "            in_channels, kernel_size_h, kernel_size_w, out_channels\n",
    "        ))\n",
    "biases = np.random.uniform(size=(1, out_channels))\n",
    "W"
   ]
  },
  {
   "cell_type": "code",
   "execution_count": 67,
   "metadata": {},
   "outputs": [],
   "source": [
    "X = np.array([[1.0, 1.0, 1.0, 1.0], \n",
    "                            [1.0, 0.0, 2.0, 1.0], \n",
    "                            [1.0, 2.0, 0.0, 1.0], \n",
    "                            [5.0, 7.0, 4.0, 5.0], \n",
    "                            [3.0, 6.0, 5.0, 5.0], \n",
    "                            [8.0, 4.0, 6.0, 3.0]]).reshape(in_channels, h, w)"
   ]
  },
  {
   "cell_type": "code",
   "execution_count": 82,
   "metadata": {},
   "outputs": [
    {
     "name": "stdout",
     "output_type": "stream",
     "text": [
      "np_final_output: [[[13.72826803 12.4700425  12.22047001]\n",
      "  [12.18960846 12.80374298 10.67328763]]\n",
      "\n",
      " [[11.89381811 13.17184717 11.02862511]\n",
      "  [10.77557066 11.90741955 11.50719872]]\n",
      "\n",
      " [[11.17820082 12.24048914 12.02458707]\n",
      "  [14.46191382 11.37794502 10.67465342]]]\n"
     ]
    }
   ],
   "source": [
    "\n",
    "#import tensorflow as tf\n",
    "import numpy as np\n",
    " \n",
    "batch_size = 1\n",
    " \n",
    "input_height = h\n",
    "input_width = w\n",
    " \n",
    "filter_height = kernel_size_h\n",
    "filter_width = kernel_size_w\n",
    " \n",
    "output_height = int(np.floor((input_height - filter_height + padding + stride)/stride))\n",
    "output_width = int(np.floor((input_width - filter_width + padding + stride)/stride))\n",
    " \n",
    "input_channel = in_channels\n",
    "output_channel = out_channels\n",
    " \n",
    "# [batch, in_height, in_width, in_channels]\n",
    "np_input_arg = np.ones([batch_size, input_height, input_width, input_channel])\n",
    "# [filter_height, filter_width, in_channels, out_channels]\n",
    "np_filter_arg = np.ones([filter_height, filter_width, input_channel, output_channel])\n",
    "np_biases = np.ones([batch_size,1,1,output_channel])\n",
    " \n",
    "np_final_output = np.zeros([output_channel, output_height, output_width])\n",
    " \n",
    "# manual convolution\n",
    "for output in range(output_channel):\n",
    "    for input in range(input_channel):\n",
    "        for i in range(output_height):\n",
    "            for j in range(output_width):\n",
    "                # a filter window\n",
    "                filter_sum = 0\n",
    "                # convolution operation: [i,i+1,i+2] * [j,j+1,j+2]   [3] * [3] = [9]\n",
    "                for m in range(filter_height):\n",
    "                    for n in range(filter_width):\n",
    "                        np_final_output[output][i][j] += X[input][i*stride + m][j*stride + n] * \\\n",
    "                                                                W[input][m][n][output]\n",
    "                if input == input_channel - 1:\n",
    "                    np_final_output[output][i][j] += biases[0][output]\n",
    "                # print('np_final_output[{0}][{1}][{2}][{3}]:{4}'.format(batch,i,j,output, np_final_output[batch][i][j][output]))\n",
    "print('np_final_output:', np_final_output)\n"
   ]
  },
  {
   "cell_type": "code",
   "execution_count": 77,
   "metadata": {},
   "outputs": [
    {
     "data": {
      "text/plain": [
       "3.0"
      ]
     },
     "execution_count": 77,
     "metadata": {},
     "output_type": "execute_result"
    }
   ],
   "source": [
    "output_width"
   ]
  },
  {
   "cell_type": "code",
   "execution_count": null,
   "metadata": {},
   "outputs": [],
   "source": []
  },
  {
   "cell_type": "code",
   "execution_count": 55,
   "metadata": {},
   "outputs": [
    {
     "data": {
      "text/plain": [
       "array([[[[1., 1., 1.],\n",
       "         [1., 1., 1.],\n",
       "         [1., 1., 1.],\n",
       "         [1., 1., 1.],\n",
       "         [1., 1., 1.]],\n",
       "\n",
       "        [[1., 1., 1.],\n",
       "         [1., 1., 1.],\n",
       "         [1., 1., 1.],\n",
       "         [1., 1., 1.],\n",
       "         [1., 1., 1.]],\n",
       "\n",
       "        [[1., 1., 1.],\n",
       "         [1., 1., 1.],\n",
       "         [1., 1., 1.],\n",
       "         [1., 1., 1.],\n",
       "         [1., 1., 1.]],\n",
       "\n",
       "        [[1., 1., 1.],\n",
       "         [1., 1., 1.],\n",
       "         [1., 1., 1.],\n",
       "         [1., 1., 1.],\n",
       "         [1., 1., 1.]],\n",
       "\n",
       "        [[1., 1., 1.],\n",
       "         [1., 1., 1.],\n",
       "         [1., 1., 1.],\n",
       "         [1., 1., 1.],\n",
       "         [1., 1., 1.]]]])"
      ]
     },
     "execution_count": 55,
     "metadata": {},
     "output_type": "execute_result"
    }
   ],
   "source": [
    "np_input_arg"
   ]
  },
  {
   "cell_type": "code",
   "execution_count": 71,
   "metadata": {},
   "outputs": [
    {
     "ename": "TypeError",
     "evalue": "'numpy.float64' object cannot be interpreted as an integer",
     "output_type": "error",
     "traceback": [
      "\u001b[1;31m---------------------------------------------------------------------------\u001b[0m",
      "\u001b[1;31mTypeError\u001b[0m                                 Traceback (most recent call last)",
      "\u001b[1;32m<ipython-input-71-ca16c982456f>\u001b[0m in \u001b[0;36m<module>\u001b[1;34m\u001b[0m\n\u001b[1;32m----> 1\u001b[1;33m \u001b[0mnp\u001b[0m\u001b[1;33m.\u001b[0m\u001b[0mzeros\u001b[0m\u001b[1;33m(\u001b[0m\u001b[1;33m[\u001b[0m\u001b[0moutput_channel\u001b[0m\u001b[1;33m,\u001b[0m \u001b[0moutput_height\u001b[0m\u001b[1;33m,\u001b[0m \u001b[0moutput_width\u001b[0m\u001b[1;33m]\u001b[0m\u001b[1;33m)\u001b[0m\u001b[1;33m\u001b[0m\u001b[1;33m\u001b[0m\u001b[0m\n\u001b[0m",
      "\u001b[1;31mTypeError\u001b[0m: 'numpy.float64' object cannot be interpreted as an integer"
     ]
    }
   ],
   "source": [
    "np.zeros([output_channel, output_height, output_width])"
   ]
  },
  {
   "cell_type": "code",
   "execution_count": 81,
   "metadata": {},
   "outputs": [
    {
     "name": "stdout",
     "output_type": "stream",
     "text": [
      "0\n",
      "2\n",
      "4\n",
      "6\n",
      "8\n"
     ]
    }
   ],
   "source": [
    "for i in range(0, 10, 2):\n",
    "    print(i)"
   ]
  },
  {
   "cell_type": "code",
   "execution_count": 86,
   "metadata": {},
   "outputs": [
    {
     "data": {
      "text/plain": [
       "array([[0.87638915, 0.89460666, 0.08504421]])"
      ]
     },
     "execution_count": 86,
     "metadata": {},
     "output_type": "execute_result"
    }
   ],
   "source": [
    "biases"
   ]
  },
  {
   "cell_type": "code",
   "execution_count": null,
   "metadata": {},
   "outputs": [],
   "source": []
  }
 ],
 "metadata": {
  "kernelspec": {
   "display_name": "Python 3",
   "language": "python",
   "name": "python3"
  },
  "language_info": {
   "codemirror_mode": {
    "name": "ipython",
    "version": 3
   },
   "file_extension": ".py",
   "mimetype": "text/x-python",
   "name": "python",
   "nbconvert_exporter": "python",
   "pygments_lexer": "ipython3",
   "version": "3.7.6"
  }
 },
 "nbformat": 4,
 "nbformat_minor": 4
}
