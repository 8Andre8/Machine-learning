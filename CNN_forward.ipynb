{
 "cells": [
  {
   "cell_type": "code",
   "execution_count": 1,
   "metadata": {},
   "outputs": [
    {
     "name": "stdout",
     "output_type": "stream",
     "text": [
      "5980.732 5983.56 5942.288 5905.956 5772.503\n",
      "5242.853 5199.431 5398.825 5454.699 5520.372\n"
     ]
    }
   ],
   "source": [
    "import numpy as np\n",
    "\n",
    "\n",
    "class Conv1d:\n",
    "\n",
    "    def __init__(self, in_channels, out_channels, kernel_size, padding='same', activation='relu'):\n",
    "        self.in_channels = in_channels\n",
    "        self.out_channels = out_channels\n",
    "        self.kernel_size = kernel_size\n",
    "        self.padding = padding\n",
    "        self.activation = activation\n",
    "\n",
    "        self.W, self.biases = self.init_weight_matrix()\n",
    "\n",
    "    def init_weight_matrix(self,):\n",
    "        np.random.seed(1)\n",
    "        W = np.random.uniform(size=(self.in_channels, self.kernel_size, self.out_channels))\n",
    "        biases = np.random.uniform(size=(1, self.out_channels))\n",
    "        #print('w=',W)\n",
    "        #print(W.shape)\n",
    "        #print('b=', biases)\n",
    "        return W, biases\n",
    "\n",
    "    def forward(self, x):\n",
    "        padding = (self.kernel_size - 1)//2\n",
    "        x_with_padding = np.pad(x, ((0, 0), (padding, padding)), mode='constant') # добавляем паддинг\n",
    "        res = []\n",
    "        for i in range(self.out_channels):\n",
    "            a = []\n",
    "            for j in range(x.shape[1]):\n",
    "                z = np.sum(self.W[:,:, i]*x_with_padding[:, j:j+self.kernel_size]) + self.biases[0][i]\n",
    "                a.append(z if z > 0 else 0) # применяем ReLU\n",
    "            res.append(a) # добавляем выходной одномерный вектор\n",
    "        return np.array(res)\n",
    "            \n",
    "                #print(np.sum(W[0,:,i]*x_with_padding[0, j:j+self.kernel_size] + self.W[1,:,i]*x_with_padding[1, j:j+self.kernel_size]) + self.biases[0][i])\n",
    "        #z = #np.array([x_with_padding[:,i:i+3].T*self.W for i in range(x.shape[0])])\n",
    "        #n = x.shape[1]\n",
    "        \n",
    "        #print([[x_with_padding[:,i:i+n]*self.W] for i in range(n)])\n",
    "#         for i in range(3):\n",
    "#             res += np.sum((x[:,i:i+3]*w))\n",
    "        #pass\n",
    "\n",
    "def read_matrix(n_rows, dtype=float):\n",
    "    return np.array([list(map(dtype, input().split())) for _ in range(n_rows)])\n",
    "\n",
    "def print_matrix(matrix):\n",
    "    for row in matrix:\n",
    "        print(' '.join(map(str, row)))\n",
    "\n",
    "def solution():\n",
    "    in_channels, out_channels, kernel_size = 30, 2, 15\n",
    "    input_vectors = np.arange(30*5)#np.array([[10.0, -10.0, 10.0], \n",
    "                              #[5.0, 15.0, -5.0]])\n",
    "    \n",
    "    input_vectors.resize(30, 5)\n",
    "    conv = Conv1d(in_channels, out_channels, kernel_size)\n",
    "    output = conv.forward(input_vectors).round(3)\n",
    "    print_matrix(output)\n",
    "\n",
    "solution()"
   ]
  },
  {
   "cell_type": "code",
   "execution_count": 2,
   "metadata": {},
   "outputs": [
    {
     "name": "stdout",
     "output_type": "stream",
     "text": [
      "[[ 0  1 -3]\n",
      " [ 0  6 -3]]\n",
      "[[ 2  3 -4]\n",
      " [-3 -2  3]]\n",
      "[[6 4 0]\n",
      " [1 2 0]]\n"
     ]
    }
   ],
   "source": [
    "import numpy as np\n",
    "x = np.array([[ 0,  1,  3,  4,  0],\n",
    "              [ 0,  3, -1,  1,  0]])\n",
    "w = np.array([[ 2,  1, -1],\n",
    "              [-1,  2,  3]])\n",
    "res = 0\n",
    "for i in range(3):\n",
    "    print(x[:,i:i+3]*w)"
   ]
  },
  {
   "cell_type": "code",
   "execution_count": 3,
   "metadata": {},
   "outputs": [
    {
     "data": {
      "text/plain": [
       "array([[0],\n",
       "       [0],\n",
       "       [0]])"
      ]
     },
     "execution_count": 3,
     "metadata": {},
     "output_type": "execute_result"
    }
   ],
   "source": [
    "np.array([[0] for i in range(3)])"
   ]
  },
  {
   "cell_type": "code",
   "execution_count": 4,
   "metadata": {},
   "outputs": [],
   "source": [
    "x  = np.array([[10.0, -10.0, 10.0], \n",
    "               [5.0, 15.0, -5.0]])\n",
    "np.random.seed(1)\n",
    "W = np.random.uniform(size=(2, 3, 2))\n",
    "b = np.random.uniform(size=(1, 2))"
   ]
  },
  {
   "cell_type": "code",
   "execution_count": 5,
   "metadata": {},
   "outputs": [
    {
     "data": {
      "text/plain": [
       "array([[  0.,  10., -10.,  10.,   0.],\n",
       "       [  0.,   5.,  15.,  -5.,   0.]])"
      ]
     },
     "execution_count": 5,
     "metadata": {},
     "output_type": "execute_result"
    }
   ],
   "source": [
    "x_ = np.pad(x, ((0, 0), (1, 1)), mode='constant')\n",
    "x_"
   ]
  },
  {
   "cell_type": "code",
   "execution_count": 6,
   "metadata": {},
   "outputs": [
    {
     "data": {
      "text/plain": [
       "array([[[4.17022005e-01, 7.20324493e-01],\n",
       "        [1.14374817e-04, 3.02332573e-01],\n",
       "        [1.46755891e-01, 9.23385948e-02]],\n",
       "\n",
       "       [[1.86260211e-01, 3.45560727e-01],\n",
       "        [3.96767474e-01, 5.38816734e-01],\n",
       "        [4.19194514e-01, 6.85219500e-01]]])"
      ]
     },
     "execution_count": 6,
     "metadata": {},
     "output_type": "execute_result"
    }
   ],
   "source": [
    "W"
   ]
  },
  {
   "cell_type": "code",
   "execution_count": 14,
   "metadata": {},
   "outputs": [
    {
     "data": {
      "text/plain": [
       "15.95"
      ]
     },
     "execution_count": 14,
     "metadata": {},
     "output_type": "execute_result"
    }
   ],
   "source": [
    "(np.sum(W[0,:,1]*x_[0, 0:3] + W[1,:,1]*x_[1, 0:3]) + b[0][1]).round(3)"
   ]
  },
  {
   "cell_type": "code",
   "execution_count": 7,
   "metadata": {},
   "outputs": [
    {
     "data": {
      "text/plain": [
       "array([[0.72032449, 0.30233257, 0.09233859],\n",
       "       [0.34556073, 0.53881673, 0.6852195 ]])"
      ]
     },
     "execution_count": 7,
     "metadata": {},
     "output_type": "execute_result"
    }
   ],
   "source": [
    "W[:,:, 1]"
   ]
  },
  {
   "cell_type": "code",
   "execution_count": 9,
   "metadata": {},
   "outputs": [
    {
     "data": {
      "text/plain": [
       "5.328580489352399"
      ]
     },
     "execution_count": 9,
     "metadata": {},
     "output_type": "execute_result"
    }
   ],
   "source": [
    "np.sum(x_[:, 2:5]*W[0, 0:3, :].T) + b[0][0]"
   ]
  },
  {
   "cell_type": "code",
   "execution_count": 13,
   "metadata": {},
   "outputs": [
    {
     "data": {
      "text/plain": [
       "15.95"
      ]
     },
     "execution_count": 13,
     "metadata": {},
     "output_type": "execute_result"
    }
   ],
   "source": [
    "# шифр разгадан!\n",
    "(np.sum(W[0,:,1]*x_[0, 0:3] + W[1,:,1]*x_[1, 0:3]) + b[0][1]).round(3)"
   ]
  },
  {
   "cell_type": "code",
   "execution_count": 7,
   "metadata": {},
   "outputs": [
    {
     "data": {
      "text/plain": [
       "array([[ 0,  1,  2,  3,  4,  5,  6,  7,  8,  9, 10, 11, 12, 13, 14],\n",
       "       [15, 16, 17, 18, 19, 20, 21, 22, 23, 24, 25, 26, 27, 28, 29]])"
      ]
     },
     "execution_count": 7,
     "metadata": {},
     "output_type": "execute_result"
    }
   ],
   "source": [
    "a = np.arange(30)\n",
    "a.resize(2, 15)\n",
    "a"
   ]
  },
  {
   "cell_type": "code",
   "execution_count": 30,
   "metadata": {},
   "outputs": [
    {
     "data": {
      "text/plain": [
       "array([[[ 0.        ,  7.77184251,  6.63464735],\n",
       "        [ 0.        ,  1.51280661,  4.53384484],\n",
       "        [ 0.        ,  1.92925188, -0.08247999]],\n",
       "\n",
       "       [[ 0.        ,  3.59040575,  3.32080879],\n",
       "        [ 0.        ,  6.66175841,  4.11457627],\n",
       "        [ 0.        ,  7.61804265,  6.08634736]]])"
      ]
     },
     "execution_count": 30,
     "metadata": {},
     "output_type": "execute_result"
    }
   ],
   "source": [
    "W@x_[:, 0:3]"
   ]
  },
  {
   "cell_type": "code",
   "execution_count": 28,
   "metadata": {},
   "outputs": [
    {
     "data": {
      "text/plain": [
       "array([[  0.,  10., -10.],\n",
       "       [  0.,   5.,  15.]])"
      ]
     },
     "execution_count": 28,
     "metadata": {},
     "output_type": "execute_result"
    }
   ],
   "source": [
    "x_[:, 0:3]"
   ]
  },
  {
   "cell_type": "code",
   "execution_count": null,
   "metadata": {},
   "outputs": [],
   "source": []
  },
  {
   "cell_type": "code",
   "execution_count": 6,
   "metadata": {},
   "outputs": [
    {
     "data": {
      "text/plain": [
       "array([[ 0.00000000e+00,  1.14374817e-03, -1.46755891e+00],\n",
       "       [ 0.00000000e+00,  1.51166286e+00,  1.38507892e+00]])"
      ]
     },
     "execution_count": 6,
     "metadata": {},
     "output_type": "execute_result"
    }
   ],
   "source": [
    "x_[:, 0:3]*W[0].T"
   ]
  },
  {
   "cell_type": "code",
   "execution_count": 61,
   "metadata": {},
   "outputs": [
    {
     "data": {
      "text/plain": [
       "array([[0.30233257, 0.14675589, 0.09233859]])"
      ]
     },
     "execution_count": 61,
     "metadata": {},
     "output_type": "execute_result"
    }
   ],
   "source": [
    "W[1, 0:3, :].T"
   ]
  },
  {
   "cell_type": "code",
   "execution_count": 15,
   "metadata": {},
   "outputs": [
    {
     "data": {
      "text/plain": [
       "array([  0.,  10., -10.])"
      ]
     },
     "execution_count": 15,
     "metadata": {},
     "output_type": "execute_result"
    }
   ],
   "source": [
    "x_[0, 0:3]"
   ]
  },
  {
   "cell_type": "code",
   "execution_count": 21,
   "metadata": {},
   "outputs": [
    {
     "data": {
      "text/plain": [
       "0.302332573"
      ]
     },
     "execution_count": 21,
     "metadata": {},
     "output_type": "execute_result"
    }
   ],
   "source": [
    "3.02332573e-01"
   ]
  },
  {
   "cell_type": "code",
   "execution_count": 26,
   "metadata": {},
   "outputs": [
    {
     "data": {
      "text/plain": [
       "array([[4.17022005e-01, 7.20324493e-01],\n",
       "       [1.14374817e-04, 3.02332573e-01],\n",
       "       [1.46755891e-01, 9.23385948e-02]])"
      ]
     },
     "execution_count": 26,
     "metadata": {},
     "output_type": "execute_result"
    }
   ],
   "source": [
    "W[0]"
   ]
  },
  {
   "cell_type": "code",
   "execution_count": null,
   "metadata": {},
   "outputs": [],
   "source": []
  }
 ],
 "metadata": {
  "kernelspec": {
   "display_name": "Python 3",
   "language": "python",
   "name": "python3"
  },
  "language_info": {
   "codemirror_mode": {
    "name": "ipython",
    "version": 3
   },
   "file_extension": ".py",
   "mimetype": "text/x-python",
   "name": "python",
   "nbconvert_exporter": "python",
   "pygments_lexer": "ipython3",
   "version": "3.7.6"
  }
 },
 "nbformat": 4,
 "nbformat_minor": 4
}
