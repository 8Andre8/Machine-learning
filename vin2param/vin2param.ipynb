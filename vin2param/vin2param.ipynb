{
 "cells": [
  {
   "cell_type": "code",
   "execution_count": 1,
   "metadata": {},
   "outputs": [],
   "source": [
    "import torch\n",
    "from torch import nn\n",
    "from torch.utils.data import Dataset, DataLoader\n",
    "\n",
    "import string\n",
    "from tqdm.auto import tqdm\n",
    "import matplotlib.pyplot as plt\n",
    "from IPython.display import clear_output\n",
    "import pandas as pd\n",
    "import numpy as np\n",
    "from sklearn.model_selection import train_test_split\n",
    "import ssl\n",
    "\n",
    "ssl._create_default_https_context = ssl._create_unverified_context\n",
    "%config Completer.use_jedi = False"
   ]
  },
  {
   "cell_type": "code",
   "execution_count": 2,
   "metadata": {},
   "outputs": [],
   "source": [
    "def plot_progress(train_losses, train_accs, test_loss, test_accs):\n",
    "    clear_output(True)\n",
    "    \n",
    "    f, (ax1, ax2) = plt.subplots(nrows=1, ncols=2)\n",
    "    f.set_figheight(6)\n",
    "    f.set_figwidth(12)\n",
    "    \n",
    "    ax1.plot(train_losses, label='train loss')\n",
    "    ax1.plot(test_loss, label='test loss')\n",
    "    ax1.plot(np.zeros_like(train_losses), '--', label='zero')\n",
    "    ax1.set_title('Loss')\n",
    "    ax1.set_ylabel('Loss')\n",
    "    ax1.set_xlabel('Batch number')\n",
    "    ax1.legend()\n",
    "    \n",
    "    ax2.plot(train_accs, label='train accuracy')\n",
    "    ax2.plot(test_accs, label='test accuracy')\n",
    "    ax2.plot(np.ones_like(accs), '--', label='100% accuracy')\n",
    "    ax2.set_title('Accuracy')\n",
    "    ax2.set_ylabel('Accuracy')\n",
    "    ax2.set_xlabel('Batch number')\n",
    "    ax2.legend()\n",
    "\n",
    "    plt.show()\n",
    "    \n",
    "    "
   ]
  },
  {
   "cell_type": "code",
   "execution_count": 3,
   "metadata": {},
   "outputs": [
    {
     "data": {
      "text/html": [
       "<div>\n",
       "<style scoped>\n",
       "    .dataframe tbody tr th:only-of-type {\n",
       "        vertical-align: middle;\n",
       "    }\n",
       "\n",
       "    .dataframe tbody tr th {\n",
       "        vertical-align: top;\n",
       "    }\n",
       "\n",
       "    .dataframe thead th {\n",
       "        text-align: right;\n",
       "    }\n",
       "</style>\n",
       "<table border=\"1\" class=\"dataframe\">\n",
       "  <thead>\n",
       "    <tr style=\"text-align: right;\">\n",
       "      <th></th>\n",
       "      <th>VIN</th>\n",
       "      <th>CarBrand</th>\n",
       "      <th>CarModel</th>\n",
       "      <th>YearManufactured</th>\n",
       "      <th>EngineType</th>\n",
       "      <th>EngineVolume</th>\n",
       "      <th>Color</th>\n",
       "    </tr>\n",
       "  </thead>\n",
       "  <tbody>\n",
       "    <tr>\n",
       "      <th>0</th>\n",
       "      <td>NVKZTHZ0X18TM05845</td>\n",
       "      <td>ВАЗ (LADA)</td>\n",
       "      <td>2115 Samara</td>\n",
       "      <td>2009</td>\n",
       "      <td>Бензин</td>\n",
       "      <td>1.6</td>\n",
       "      <td>Серый</td>\n",
       "    </tr>\n",
       "    <tr>\n",
       "      <th>1</th>\n",
       "      <td>HNVKZXWFJ22J206195</td>\n",
       "      <td>ВАЗ (LADA)</td>\n",
       "      <td>2112</td>\n",
       "      <td>2003</td>\n",
       "      <td>Бензин</td>\n",
       "      <td>1.6</td>\n",
       "      <td>Чёрный</td>\n",
       "    </tr>\n",
       "    <tr>\n",
       "      <th>2</th>\n",
       "      <td>HYQS2DXM922I900038</td>\n",
       "      <td>ВАЗ (LADA)</td>\n",
       "      <td>21099</td>\n",
       "      <td>2003</td>\n",
       "      <td>Бензин</td>\n",
       "      <td>1.4</td>\n",
       "      <td>Серебряный</td>\n",
       "    </tr>\n",
       "    <tr>\n",
       "      <th>3</th>\n",
       "      <td>HNVKZF1KZ636X08104</td>\n",
       "      <td>ВАЗ (LADA)</td>\n",
       "      <td>2110</td>\n",
       "      <td>1998</td>\n",
       "      <td>Бензин</td>\n",
       "      <td>1.6</td>\n",
       "      <td>Зелёный</td>\n",
       "    </tr>\n",
       "    <tr>\n",
       "      <th>4</th>\n",
       "      <td>EBLI88GR11J203825</td>\n",
       "      <td>Opel</td>\n",
       "      <td>Meriva</td>\n",
       "      <td>2008</td>\n",
       "      <td>Бензин</td>\n",
       "      <td>1.6</td>\n",
       "      <td>Чёрный</td>\n",
       "    </tr>\n",
       "  </tbody>\n",
       "</table>\n",
       "</div>"
      ],
      "text/plain": [
       "                  VIN    CarBrand     CarModel YearManufactured EngineType  \\\n",
       "0  NVKZTHZ0X18TM05845  ВАЗ (LADA)  2115 Samara             2009     Бензин   \n",
       "1  HNVKZXWFJ22J206195  ВАЗ (LADA)         2112             2003     Бензин   \n",
       "2  HYQS2DXM922I900038  ВАЗ (LADA)        21099             2003     Бензин   \n",
       "3  HNVKZF1KZ636X08104  ВАЗ (LADA)         2110             1998     Бензин   \n",
       "4   EBLI88GR11J203825        Opel       Meriva             2008     Бензин   \n",
       "\n",
       "  EngineVolume       Color  \n",
       "0          1.6       Серый  \n",
       "1          1.6      Чёрный  \n",
       "2          1.4  Серебряный  \n",
       "3          1.6     Зелёный  \n",
       "4          1.6      Чёрный  "
      ]
     },
     "execution_count": 3,
     "metadata": {},
     "output_type": "execute_result"
    }
   ],
   "source": [
    "data = pd.read_csv('vins_train.csv')\n",
    "data.head()"
   ]
  },
  {
   "cell_type": "code",
   "execution_count": 4,
   "metadata": {},
   "outputs": [],
   "source": [
    "max_vin_length = max(data['VIN'].apply(lambda x: len(x)))\n",
    "data['VIN'] = data['VIN'].apply(lambda x: x.ljust(max_vin_length, '-'))"
   ]
  },
  {
   "cell_type": "code",
   "execution_count": 5,
   "metadata": {},
   "outputs": [
    {
     "data": {
      "text/html": [
       "<div>\n",
       "<style scoped>\n",
       "    .dataframe tbody tr th:only-of-type {\n",
       "        vertical-align: middle;\n",
       "    }\n",
       "\n",
       "    .dataframe tbody tr th {\n",
       "        vertical-align: top;\n",
       "    }\n",
       "\n",
       "    .dataframe thead th {\n",
       "        text-align: right;\n",
       "    }\n",
       "</style>\n",
       "<table border=\"1\" class=\"dataframe\">\n",
       "  <thead>\n",
       "    <tr style=\"text-align: right;\">\n",
       "      <th></th>\n",
       "      <th>VIN</th>\n",
       "      <th>CarBrand</th>\n",
       "      <th>CarModel</th>\n",
       "      <th>YearManufactured</th>\n",
       "      <th>EngineType</th>\n",
       "      <th>EngineVolume</th>\n",
       "      <th>Color</th>\n",
       "    </tr>\n",
       "  </thead>\n",
       "  <tbody>\n",
       "    <tr>\n",
       "      <th>0</th>\n",
       "      <td>NVKZTHZ0X18TM05845--</td>\n",
       "      <td>ВАЗ (LADA)</td>\n",
       "      <td>2115 Samara</td>\n",
       "      <td>2009</td>\n",
       "      <td>Бензин</td>\n",
       "      <td>1.6</td>\n",
       "      <td>Серый</td>\n",
       "    </tr>\n",
       "    <tr>\n",
       "      <th>1</th>\n",
       "      <td>HNVKZXWFJ22J206195--</td>\n",
       "      <td>ВАЗ (LADA)</td>\n",
       "      <td>2112</td>\n",
       "      <td>2003</td>\n",
       "      <td>Бензин</td>\n",
       "      <td>1.6</td>\n",
       "      <td>Чёрный</td>\n",
       "    </tr>\n",
       "    <tr>\n",
       "      <th>2</th>\n",
       "      <td>HYQS2DXM922I900038--</td>\n",
       "      <td>ВАЗ (LADA)</td>\n",
       "      <td>21099</td>\n",
       "      <td>2003</td>\n",
       "      <td>Бензин</td>\n",
       "      <td>1.4</td>\n",
       "      <td>Серебряный</td>\n",
       "    </tr>\n",
       "    <tr>\n",
       "      <th>3</th>\n",
       "      <td>HNVKZF1KZ636X08104--</td>\n",
       "      <td>ВАЗ (LADA)</td>\n",
       "      <td>2110</td>\n",
       "      <td>1998</td>\n",
       "      <td>Бензин</td>\n",
       "      <td>1.6</td>\n",
       "      <td>Зелёный</td>\n",
       "    </tr>\n",
       "    <tr>\n",
       "      <th>4</th>\n",
       "      <td>EBLI88GR11J203825---</td>\n",
       "      <td>Opel</td>\n",
       "      <td>Meriva</td>\n",
       "      <td>2008</td>\n",
       "      <td>Бензин</td>\n",
       "      <td>1.6</td>\n",
       "      <td>Чёрный</td>\n",
       "    </tr>\n",
       "  </tbody>\n",
       "</table>\n",
       "</div>"
      ],
      "text/plain": [
       "                    VIN    CarBrand     CarModel YearManufactured EngineType  \\\n",
       "0  NVKZTHZ0X18TM05845--  ВАЗ (LADA)  2115 Samara             2009     Бензин   \n",
       "1  HNVKZXWFJ22J206195--  ВАЗ (LADA)         2112             2003     Бензин   \n",
       "2  HYQS2DXM922I900038--  ВАЗ (LADA)        21099             2003     Бензин   \n",
       "3  HNVKZF1KZ636X08104--  ВАЗ (LADA)         2110             1998     Бензин   \n",
       "4  EBLI88GR11J203825---        Opel       Meriva             2008     Бензин   \n",
       "\n",
       "  EngineVolume       Color  \n",
       "0          1.6       Серый  \n",
       "1          1.6      Чёрный  \n",
       "2          1.4  Серебряный  \n",
       "3          1.6     Зелёный  \n",
       "4          1.6      Чёрный  "
      ]
     },
     "execution_count": 5,
     "metadata": {},
     "output_type": "execute_result"
    }
   ],
   "source": [
    "data.head()"
   ]
  },
  {
   "cell_type": "code",
   "execution_count": 6,
   "metadata": {},
   "outputs": [
    {
     "data": {
      "text/plain": [
       "(338921, 7)"
      ]
     },
     "execution_count": 6,
     "metadata": {},
     "output_type": "execute_result"
    }
   ],
   "source": [
    "data.shape"
   ]
  },
  {
   "cell_type": "code",
   "execution_count": 7,
   "metadata": {},
   "outputs": [],
   "source": [
    "tokens = set(''.join(data['VIN']))\n",
    "car_brands = set(data['CarBrand'])\n",
    "car_models = set(data['CarModel'])\n",
    "colors = set(data['Color'])\n",
    "n_tokens = len(tokens)\n",
    "token_index_map = {l: i for i, l in enumerate(tokens)}\n",
    "car_brands_index_map = {l: i for i, l in enumerate(car_brands)}\n",
    "car_models_index_map = {l: i for i, l in enumerate(car_models)}\n",
    "colors_index_map = {l: i for i, l in enumerate(colors)}"
   ]
  },
  {
   "cell_type": "code",
   "execution_count": 8,
   "metadata": {},
   "outputs": [
    {
     "name": "stdout",
     "output_type": "stream",
     "text": [
      "{'Skoda': 0, 'ВАЗ (LADA)': 1, 'Opel': 2, 'Mazda': 3}\n",
      "{'CX-3': 0, 'Bongo Friendee': 1, 'Favorit': 2, 'Revue': 3, 'Zafira': 4, 'BT-50': 5, 'MPV': 6, 'Millenia': 7, 'Octavia': 8, 'Corsa': 9, 'Rapid': 10, 'Vivaro': 11, '2113 Samara': 12, 'Ascona': 13, 'Felicia': 14, '323': 15, 'Carol': 16, 'Insignia': 17, 'Fabia Scout': 18, 'Xedos 9': 19, 'Sentia': 20, 'AZ-Wagon': 21, 'Octavia Scout': 22, 'CX-7': 23, 'Bongo Brawny': 24, '21099': 25, 'RX-8': 26, 'Campo': 27, '1300': 28, '1111 Ока': 29, 'Kalina': 30, 'MX-5': 31, '2131 (4x4) Рысь': 32, 'Insignia OPC': 33, 'XRAY': 34, 'Octavia RS': 35, '2328': 36, '3': 37, 'Superb': 38, 'Fabia': 39, 'Astra': 40, 'Fabia RS': 41, 'Clef': 42, 'Astra GTC': 43, 'Tribute': 44, 'Verisa': 45, '2114 Samara': 46, '2103': 47, '2101': 48, '2129': 49, 'Combo': 50, 'MX-6': 51, '2110': 52, '2121 (4x4) Фора': 53, 'Vectra OPC': 54, 'Eunos': 55, 'Antara': 56, 'El Lada': 57, 'Largus': 58, 'Frontera': 59, 'Levante': 60, 'Efini': 61, 'Astra OPC': 62, 'Granta': 63, 'Astra Family': 64, '616': 65, 'Kadett': 66, 'Corsa OPC': 67, 'Protege': 68, 'Senator': 69, 'Familia': 70, 'Capella': 71, 'Другая': 72, '626': 73, 'B-Series': 74, 'Calibra': 75, 'Yeti': 76, 'Speedster': 77, '2107': 78, 'Mokka': 79, '2108': 80, 'Manta': 81, '2115 Samara': 82, 'MX-3': 83, 'Roomster Scout': 84, '2105': 85, 'Agila': 86, 'Roomster': 87, '2111': 88, 'Monterey': 89, '2109': 90, '2120 Надежда': 91, 'Citigo': 92, '2112': 93, 'Bongo': 94, 'Rekord': 95, '100': 96, 'Movano': 97, '2123': 98, '2106': 99, '121': 100, 'Vesta': 101, 'GT': 102, 'Biante': 103, 'Sintra': 104, 'Premacy': 105, '1000': 106, 'CX-9': 107, 'Xedos 6': 108, '929': 109, 'Axela': 110, 'Praktik': 111, '3 MPS': 112, 'Vectra': 113, 'RX-7': 114, 'Monza': 115, 'Eunos Cosmo': 116, '5': 117, 'Admiral': 118, '105': 119, '2104': 120, '818': 121, '2329': 122, 'Meriva': 123, 'Signum': 124, 'Demio': 125, 'CX-5': 126, 'Vita': 127, '2': 128, '4x4 (Нива)': 129, '6 MPS': 130, '6': 131, 'Cronos': 132, 'Atenza': 133, 'Omega': 134, 'Proceed': 135, 'Luce': 136, 'Priora': 137, 'Commodore': 138, '2102': 139, 'Kapitan': 140, 'Tigra': 141}\n",
      "{'Жёлтый': 0, 'Белый': 1, 'Бежевый': 2, 'Синий': 3, 'Пурпурный': 4, 'Розовый': 5, 'Зелёный': 6, 'Фиолетовый': 7, 'Чёрный': 8, 'Коричневый': 9, 'Красный': 10, 'Золотой': 11, 'Оранжевый': 12, 'Серый': 13, 'Серебряный': 14, 'Голубой': 15}\n"
     ]
    }
   ],
   "source": [
    "print(car_brands_index_map)\n",
    "print(car_models_index_map)\n",
    "print(colors_index_map)"
   ]
  },
  {
   "cell_type": "code",
   "execution_count": 9,
   "metadata": {},
   "outputs": [
    {
     "data": {
      "text/plain": [
       "4"
      ]
     },
     "execution_count": 9,
     "metadata": {},
     "output_type": "execute_result"
    }
   ],
   "source": [
    "len(car_brands_index_map)"
   ]
  },
  {
   "cell_type": "code",
   "execution_count": 10,
   "metadata": {},
   "outputs": [
    {
     "data": {
      "text/plain": [
       "37"
      ]
     },
     "execution_count": 10,
     "metadata": {},
     "output_type": "execute_result"
    }
   ],
   "source": [
    "len(tokens)"
   ]
  },
  {
   "cell_type": "code",
   "execution_count": 11,
   "metadata": {},
   "outputs": [],
   "source": [
    "class VinDataset(Dataset):\n",
    "    \n",
    "    def __init__(self, lines, labels):\n",
    "        self.lines = lines  # объекты\n",
    "        self.labels = labels  # ответы\n",
    "        \n",
    "    def __len__(self):\n",
    "        return len(self.lines)  # количество объектов\n",
    "    \n",
    "    def __getitem__(self, idx):\n",
    "        x = self.line_to_tensor(self.lines[idx]).long()  # преобразуем один объект в тензор индексов, тип long()\n",
    "        y = torch.tensor([\n",
    "            car_brands_index_map[self.labels[idx][0]], \n",
    "            car_models_index_map[self.labels[idx][1]],\n",
    "            colors_index_map[self.labels[idx][2]]\n",
    "        ]).float()  # ответы на объекте, тип float()\n",
    "        return x, y\n",
    "    \n",
    "    @staticmethod\n",
    "    def line_to_tensor(line):\n",
    "        return torch.tensor([token_index_map[l] for l in line])"
   ]
  },
  {
   "cell_type": "code",
   "execution_count": 12,
   "metadata": {},
   "outputs": [
    {
     "data": {
      "text/plain": [
       "array(['ВАЗ (LADA)', '2115 Samara'], dtype=object)"
      ]
     },
     "execution_count": 12,
     "metadata": {},
     "output_type": "execute_result"
    }
   ],
   "source": [
    "d =data[['CarBrand', 'CarModel']].values\n",
    "d[0]"
   ]
  },
  {
   "cell_type": "code",
   "execution_count": 13,
   "metadata": {},
   "outputs": [
    {
     "data": {
      "text/plain": [
       "(tensor([19,  8, 13, 23,  6, 22, 23, 20, 32, 24, 34,  6,  2, 20, 15, 34, 10, 15,\n",
       "         31, 31]),\n",
       " tensor([ 1., 82., 13.]))"
      ]
     },
     "execution_count": 13,
     "metadata": {},
     "output_type": "execute_result"
    }
   ],
   "source": [
    "vin_dataset = VinDataset(lines=data['VIN'].values, labels=data[['CarBrand', 'CarModel', 'Color']].values)\n",
    "vin_dataset[0]"
   ]
  },
  {
   "cell_type": "code",
   "execution_count": 14,
   "metadata": {},
   "outputs": [
    {
     "name": "stdout",
     "output_type": "stream",
     "text": [
      "torch.Size([1, 20])\n"
     ]
    },
    {
     "data": {
      "text/plain": [
       "torch.Size([1, 20, 8])"
      ]
     },
     "execution_count": 14,
     "metadata": {},
     "output_type": "execute_result"
    }
   ],
   "source": [
    "one_objext_batch_dataloader = DataLoader(vin_dataset, batch_size=1, shuffle=True)\n",
    "x, y = next(iter(one_objext_batch_dataloader))\n",
    "print(x.shape)\n",
    "emb_layer = nn.Embedding(num_embeddings=len(token_index_map) + 1, embedding_dim=8,)\n",
    "emb_output = emb_layer(x)\n",
    "emb_output.shape"
   ]
  },
  {
   "cell_type": "code",
   "execution_count": 15,
   "metadata": {},
   "outputs": [
    {
     "data": {
      "text/plain": [
       "tensor([[ 7, 11, 22,  6, 28,  8,  8,  6, 15, 20,  5, 16, 20, 15, 15, 10, 34, 31,\n",
       "         31, 31]])"
      ]
     },
     "execution_count": 15,
     "metadata": {},
     "output_type": "execute_result"
    }
   ],
   "source": [
    "x"
   ]
  },
  {
   "cell_type": "code",
   "execution_count": 18,
   "metadata": {},
   "outputs": [],
   "source": [
    "X_train, X_test, y_train, y_test = train_test_split(\n",
    "    data['VIN'], data[['CarBrand', 'CarModel', 'Color']], test_size=0.05, \n",
    ")\n",
    "\n",
    "train_dataset = VinDataset(lines=X_train.values, labels=y_train[['CarBrand', 'CarModel', 'Color']].values)\n",
    "test_dataset = VinDataset(lines=X_test.values, labels=y_test[['CarBrand', 'CarModel', 'Color']].values)\n",
    "\n",
    "train_vin_dataloader = DataLoader(train_dataset, batch_size=512, shuffle=True)\n",
    "test_vin_dataloader = DataLoader(test_dataset, batch_size=512, shuffle=True)"
   ]
  },
  {
   "cell_type": "code",
   "execution_count": 19,
   "metadata": {},
   "outputs": [],
   "source": [
    "class VinCNN(nn.Module):\n",
    "    \n",
    "    def __init__(self, vocab_size, hidden_size, kernel_size=1, embedding_dim=16):\n",
    "        super(VinCNN, self).__init__()\n",
    "        self.hidden_size = hidden_size\n",
    "        \n",
    "        self.embedding = nn.Embedding(vocab_size + 1, embedding_dim)\n",
    "        self.cnn = nn.Conv1d(\n",
    "            in_channels=embedding_dim,\n",
    "            out_channels=hidden_size,\n",
    "            kernel_size=kernel_size,\n",
    "            padding='same',\n",
    "        )\n",
    "        self.relu = nn.ReLU()\n",
    "        self.batchnorm = nn.BatchNorm1d(num_features=hidden_size)\n",
    "        self.dropout = nn.Dropout(0.6)\n",
    "        self.linear_car_brands = nn.Linear(hidden_size, len(car_brands_index_map))\n",
    "        self.linear_car_models = nn.Linear(hidden_size, len(car_models_index_map))\n",
    "        self.linear_colors = nn.Linear(hidden_size, len(colors_index_map))\n",
    "        self.softmax = nn.Softmax(dim=-1)\n",
    "\n",
    "\n",
    "    def forward(self, x):\n",
    "        x = self.embedding(x) # формируем слой эмбедингов (посимвольно)\n",
    "        x = self.cnn(x.permute(0, 2, 1)) # применяем одномерную свертку\n",
    "        x, _ = x.max(dim=-1) # применяем max-pooling\n",
    "        x = self.relu(x) # применяем функцию активации ReLU\n",
    "        x = self.batchnorm(x) # проводим нормализацию\n",
    "        x = self.dropout(x) # проводим регуляризацию\n",
    "        # Формируем выходы (используем softmax, т.к. решаем задачу многоклассовой классификации)\n",
    "        x_car_brands = self.linear_car_brands(x)\n",
    "        x_car_models = self.linear_car_models(x)\n",
    "        x_colors = self.linear_colors(x)\n",
    "        x_car_brands = self.softmax(x_car_brands).squeeze() \n",
    "        x_car_models = self.softmax(x_car_models).squeeze()\n",
    "        x_colors = self.softmax(x_colors).squeeze()\n",
    "        return x_car_brands, x_car_models, x_colors # 3 многоклассовых выхода"
   ]
  },
  {
   "cell_type": "code",
   "execution_count": 21,
   "metadata": {},
   "outputs": [
    {
     "data": {
      "image/png": "[encoded data removed]",
      "text/plain": [
       "<Figure size 864x432 with 2 Axes>"
      ]
     },
     "metadata": {
      "needs_background": "light"
     },
     "output_type": "display_data"
    },
    {
     "ename": "KeyboardInterrupt",
     "evalue": "",
     "output_type": "error",
     "traceback": [
      "\u001b[1;31m---------------------------------------------------------------------------\u001b[0m",
      "\u001b[1;31mKeyboardInterrupt\u001b[0m                         Traceback (most recent call last)",
      "\u001b[1;32m<ipython-input-21-76bb4099c76c>\u001b[0m in \u001b[0;36m<module>\u001b[1;34m\u001b[0m\n\u001b[0;32m     37\u001b[0m \u001b[1;33m\u001b[0m\u001b[0m\n\u001b[0;32m     38\u001b[0m         \u001b[0moptimizer\u001b[0m\u001b[1;33m.\u001b[0m\u001b[0mzero_grad\u001b[0m\u001b[1;33m(\u001b[0m\u001b[1;33m)\u001b[0m\u001b[1;33m\u001b[0m\u001b[1;33m\u001b[0m\u001b[0m\n\u001b[1;32m---> 39\u001b[1;33m         \u001b[0mtrain_total_loss\u001b[0m\u001b[1;33m.\u001b[0m\u001b[0mbackward\u001b[0m\u001b[1;33m(\u001b[0m\u001b[1;33m)\u001b[0m\u001b[1;33m\u001b[0m\u001b[1;33m\u001b[0m\u001b[0m\n\u001b[0m\u001b[0;32m     40\u001b[0m         \u001b[0moptimizer\u001b[0m\u001b[1;33m.\u001b[0m\u001b[0mstep\u001b[0m\u001b[1;33m(\u001b[0m\u001b[1;33m)\u001b[0m\u001b[1;33m\u001b[0m\u001b[1;33m\u001b[0m\u001b[0m\n\u001b[0;32m     41\u001b[0m         \u001b[0mmodel\u001b[0m\u001b[1;33m.\u001b[0m\u001b[0meval\u001b[0m\u001b[1;33m(\u001b[0m\u001b[1;33m)\u001b[0m\u001b[1;33m\u001b[0m\u001b[1;33m\u001b[0m\u001b[0m\n",
      "\u001b[1;32m~\\anaconda3\\lib\\site-packages\\torch\\_tensor.py\u001b[0m in \u001b[0;36mbackward\u001b[1;34m(self, gradient, retain_graph, create_graph, inputs)\u001b[0m\n\u001b[0;32m    305\u001b[0m                 \u001b[0mcreate_graph\u001b[0m\u001b[1;33m=\u001b[0m\u001b[0mcreate_graph\u001b[0m\u001b[1;33m,\u001b[0m\u001b[1;33m\u001b[0m\u001b[1;33m\u001b[0m\u001b[0m\n\u001b[0;32m    306\u001b[0m                 inputs=inputs)\n\u001b[1;32m--> 307\u001b[1;33m         \u001b[0mtorch\u001b[0m\u001b[1;33m.\u001b[0m\u001b[0mautograd\u001b[0m\u001b[1;33m.\u001b[0m\u001b[0mbackward\u001b[0m\u001b[1;33m(\u001b[0m\u001b[0mself\u001b[0m\u001b[1;33m,\u001b[0m \u001b[0mgradient\u001b[0m\u001b[1;33m,\u001b[0m \u001b[0mretain_graph\u001b[0m\u001b[1;33m,\u001b[0m \u001b[0mcreate_graph\u001b[0m\u001b[1;33m,\u001b[0m \u001b[0minputs\u001b[0m\u001b[1;33m=\u001b[0m\u001b[0minputs\u001b[0m\u001b[1;33m)\u001b[0m\u001b[1;33m\u001b[0m\u001b[1;33m\u001b[0m\u001b[0m\n\u001b[0m\u001b[0;32m    308\u001b[0m \u001b[1;33m\u001b[0m\u001b[0m\n\u001b[0;32m    309\u001b[0m     \u001b[1;32mdef\u001b[0m \u001b[0mregister_hook\u001b[0m\u001b[1;33m(\u001b[0m\u001b[0mself\u001b[0m\u001b[1;33m,\u001b[0m \u001b[0mhook\u001b[0m\u001b[1;33m)\u001b[0m\u001b[1;33m:\u001b[0m\u001b[1;33m\u001b[0m\u001b[1;33m\u001b[0m\u001b[0m\n",
      "\u001b[1;32m~\\anaconda3\\lib\\site-packages\\torch\\autograd\\__init__.py\u001b[0m in \u001b[0;36mbackward\u001b[1;34m(tensors, grad_tensors, retain_graph, create_graph, grad_variables, inputs)\u001b[0m\n\u001b[0;32m    154\u001b[0m     Variable._execution_engine.run_backward(\n\u001b[0;32m    155\u001b[0m         \u001b[0mtensors\u001b[0m\u001b[1;33m,\u001b[0m \u001b[0mgrad_tensors_\u001b[0m\u001b[1;33m,\u001b[0m \u001b[0mretain_graph\u001b[0m\u001b[1;33m,\u001b[0m \u001b[0mcreate_graph\u001b[0m\u001b[1;33m,\u001b[0m \u001b[0minputs\u001b[0m\u001b[1;33m,\u001b[0m\u001b[1;33m\u001b[0m\u001b[1;33m\u001b[0m\u001b[0m\n\u001b[1;32m--> 156\u001b[1;33m         allow_unreachable=True, accumulate_grad=True)  # allow_unreachable flag\n\u001b[0m\u001b[0;32m    157\u001b[0m \u001b[1;33m\u001b[0m\u001b[0m\n\u001b[0;32m    158\u001b[0m \u001b[1;33m\u001b[0m\u001b[0m\n",
      "\u001b[1;31mKeyboardInterrupt\u001b[0m: "
     ]
    }
   ],
   "source": [
    "# Инициализируем модель\n",
    "model = VinCNN(\n",
    "    vocab_size=len(token_index_map),\n",
    "    hidden_size=2048,\n",
    "    kernel_size=16,\n",
    ")\n",
    "# Определяем метод оптимизации\n",
    "optimizer = torch.optim.Adam(model.parameters(), lr=0.001)\n",
    "# Создаем для каждого из параметров свою функцию потерь \n",
    "# (используем кросс-энтропию, т.к. решаем задачу многоклассовой классификации)\n",
    "brand_head_loss_fn = nn.CrossEntropyLoss()\n",
    "model_head_loss_fn = nn.CrossEntropyLoss()\n",
    "color_head_loss_fn = nn.CrossEntropyLoss()\n",
    "\n",
    "n_epochs = 5\n",
    "\n",
    "losses = []\n",
    "accs = []\n",
    "\n",
    "test_losses = []\n",
    "test_accs = []\n",
    "\n",
    "# Обучаем сеть\n",
    "for i in range(n_epochs):\n",
    "    for x_train, y_train in train_vin_dataloader:\n",
    "        model.train() # переводим модель в режим обучения (для расчета градиентов)\n",
    "        \n",
    "        brand_pred, model_pred, color_pred = model(x_train)\n",
    "        \n",
    "        brand_head_loss = brand_head_loss_fn(brand_pred, y_train[:, 0].long())\n",
    "        model_head_loss = model_head_loss_fn(model_pred, y_train[:, 1].long())\n",
    "        color_head_loss = color_head_loss_fn(color_pred, y_train[:, 2].long())\n",
    "        # Суммируем потери, чтобы учитывать ошибки по каждому из 3 параметров\n",
    "        train_total_loss = brand_head_loss + model_head_loss + color_head_loss\n",
    "        \n",
    "        # Подсчитываем метрику (минимальная Accuracy по 3 параметрам) \n",
    "        train_brand_acc = (torch.argmax(brand_pred, dim=1) == y_train[:, 0].int()).float().mean()\n",
    "        train_model_acc = (torch.argmax(model_pred, dim=1) == y_train[:, 1].int()).float().mean()\n",
    "        train_color_acc = (torch.argmax(color_pred, dim=1) == y_train[:, 2].int()).float().mean()\n",
    "        train_total_acc = min([train_brand_acc, train_model_acc, train_color_acc])\n",
    "        \n",
    "        optimizer.zero_grad() # обнуляем градиенты с прошлого шага\n",
    "        train_total_loss.backward() # расчитываем градиенты на текущем шаге\n",
    "        optimizer.step() # обновляем веса\n",
    "        \n",
    "        model.eval() # переводим  модель в режим оценивания (чтобы не расчитывать градиенты)\n",
    "\n",
    "        x_test, y_test = next(iter(test_vin_dataloader))\n",
    "        \n",
    "        test_brand_pred, test_model_pred, test_color_pred = model(x_test)\n",
    "        \n",
    "        test_brand_head_loss = brand_head_loss_fn(test_brand_pred, y_test[:, 0].long())\n",
    "        test_model_head_loss = model_head_loss_fn(test_model_pred, y_test[:, 1].long())\n",
    "        test_color_head_loss = color_head_loss_fn(test_color_pred, y_test[:, 2].long())\n",
    "        # Суммируем потери, чтобы учитывать ошибки по каждому из 3 параметров\n",
    "        test_total_loss = test_brand_head_loss + test_model_head_loss + test_color_head_loss\n",
    "        \n",
    "        test_brand_acc = (torch.argmax(test_brand_pred, dim=1) == y_test[:, 0].int()).float().mean()\n",
    "        test_model_acc = (torch.argmax(test_model_pred, dim=1) == y_test[:, 1].int()).float().mean()\n",
    "        test_color_acc = (torch.argmax(test_color_pred, dim=1) == y_test[:, 2].int()).float().mean()\n",
    "        # Подсчитываем метрику (минимальная Accuracy по 3 параметрам) \n",
    "        test_total_acc = min([test_brand_acc, test_model_acc, test_color_acc])\n",
    "        \n",
    "        losses.append(train_total_loss.item())\n",
    "        accs.append(train_total_acc.item())\n",
    "        \n",
    "        test_losses.append(test_total_loss.item())\n",
    "        test_accs.append(test_total_acc.item())\n",
    "        \n",
    "        plot_progress(losses, accs, test_losses, test_accs)"
   ]
  },
  {
   "cell_type": "code",
   "execution_count": 22,
   "metadata": {},
   "outputs": [],
   "source": [
    "def get_test_accuraccy(model, dataloader):\n",
    "    test_accs = []\n",
    "\n",
    "    for x_test, y_test in dataloader:\n",
    "        test_brand_pred, test_model_pred, test_color_pred = model(x_test)\n",
    "        \n",
    "        test_brand_acc = (torch.argmax(test_brand_pred, dim=1) == y_test[:, 0].int()).float().mean()\n",
    "        test_model_acc = (torch.argmax(test_model_pred, dim=1) == y_test[:, 1].int()).float().mean()\n",
    "        test_color_acc = (torch.argmax(test_color_pred, dim=1) == y_test[:, 2].int()).float().mean()\n",
    "        test_total_acc = min([test_brand_acc, test_model_acc, test_color_acc]).numpy()\n",
    "        test_accs.extend(test_total_acc.reshape(-1, 1))\n",
    "\n",
    "    return np.mean(test_accs)"
   ]
  },
  {
   "cell_type": "code",
   "execution_count": 23,
   "metadata": {},
   "outputs": [
    {
     "data": {
      "text/plain": [
       "0.96127546"
      ]
     },
     "execution_count": 23,
     "metadata": {},
     "output_type": "execute_result"
    }
   ],
   "source": [
    "get_test_accuraccy(model, test_vin_dataloader)"
   ]
  },
  {
   "cell_type": "code",
   "execution_count": 144,
   "metadata": {},
   "outputs": [],
   "source": [
    "class VinLSTM(nn.Module):\n",
    "    \n",
    "    def __init__(self, vocab_size, hidden_size, embedding_dim=16):\n",
    "        super(VinLSTM, self).__init__()\n",
    "        self.hidden_size = hidden_size\n",
    "        \n",
    "        self.embedding = nn.Embedding(vocab_size + 1, embedding_dim)\n",
    "        self.lstm = nn.LSTM(embedding_dim, hidden_size)\n",
    "        #self.relu = nn.ReLU()\n",
    "        self.batchnorm = nn.BatchNorm1d(num_features=hidden_size)\n",
    "        self.dropout = nn.Dropout(0.2)\n",
    "        self.linear_car_brands = nn.Linear(hidden_size, len(car_brands_index_map))\n",
    "        self.linear_car_models = nn.Linear(hidden_size, len(car_models_index_map))\n",
    "        self.linear_colors = nn.Linear(hidden_size, len(colors_index_map))\n",
    "        self.softmax = nn.Softmax(dim=-1)\n",
    "\n",
    "\n",
    "    def forward(self, x):\n",
    "        x = self.embedding(x)\n",
    "        x, _ = self.lstm(x)\n",
    "        #x = self.relu(x)\n",
    "        #x = self.batchnorm(x[:, -1, :])\n",
    "        x = self.dropout(x)\n",
    "        #print(x)\n",
    "        #print(x[0])\n",
    "        x_car_brands = self.linear_car_brands(x[:, -1, :])\n",
    "        x_car_models = self.linear_car_models(x[:, -1, :])\n",
    "        x_colors = self.linear_colors(x[:, -1, :])\n",
    "        x_car_brands = self.softmax(x_car_brands).squeeze()\n",
    "        x_car_models = self.softmax(x_car_models).squeeze()\n",
    "        x_colors = self.softmax(x_colors).squeeze()\n",
    "        return x_car_brands, x_car_models, x_colors"
   ]
  },
  {
   "cell_type": "code",
   "execution_count": null,
   "metadata": {},
   "outputs": [
    {
     "data": {
      "image/png": "[encoded data removed]",
      "text/plain": [
       "<Figure size 864x432 with 2 Axes>"
      ]
     },
     "metadata": {
      "needs_background": "light"
     },
     "output_type": "display_data"
    }
   ],
   "source": [
    "model = VinLSTM(\n",
    "    vocab_size=len(token_index_map),\n",
    "    hidden_size=16,\n",
    ")\n",
    "\n",
    "optimizer = torch.optim.Adam(model.parameters(), lr=0.01)\n",
    "brand_head_loss_fn = nn.CrossEntropyLoss()\n",
    "model_head_loss_fn = nn.CrossEntropyLoss()\n",
    "color_head_loss_fn = nn.CrossEntropyLoss()\n",
    "\n",
    "n_epochs = 5\n",
    "\n",
    "losses = []\n",
    "accs = []\n",
    "\n",
    "test_losses = []\n",
    "test_accs = []\n",
    "\n",
    "\n",
    "for i in range(n_epochs):\n",
    "    for x_train, y_train in train_vin_dataloader:\n",
    "\n",
    "        model.train()\n",
    "        \n",
    "        brand_pred, model_pred, color_pred = model(x_train)\n",
    "        \n",
    "        brand_head_loss = brand_head_loss_fn(brand_pred, y_train[:, 0].long())\n",
    "        model_head_loss = model_head_loss_fn(model_pred, y_train[:, 1].long())\n",
    "        color_head_loss = color_head_loss_fn(color_pred, y_train[:, 2].long())\n",
    "        train_total_loss = brand_head_loss + model_head_loss + color_head_loss\n",
    "        \n",
    "        train_brand_acc = (torch.argmax(brand_pred, dim=1) == y_train[:, 0].int()).float().mean()\n",
    "        train_model_acc = (torch.argmax(model_pred, dim=1) == y_train[:, 1].int()).float().mean()\n",
    "        train_color_acc = (torch.argmax(color_pred, dim=1) == y_train[:, 2].int()).float().mean()\n",
    "        train_total_acc = min([train_brand_acc, train_model_acc, train_color_acc])\n",
    "        \n",
    "        optimizer.zero_grad()\n",
    "        train_total_loss.backward()\n",
    "        optimizer.step()\n",
    "        model.eval()\n",
    "\n",
    "        x_test, y_test = next(iter(test_vin_dataloader))\n",
    "        \n",
    "        test_brand_pred, test_model_pred, test_color_pred = model(x_test)\n",
    "        \n",
    "        test_brand_head_loss = brand_head_loss_fn(test_brand_pred, y_test[:, 0].long())\n",
    "        test_model_head_loss = model_head_loss_fn(test_model_pred, y_test[:, 1].long())\n",
    "        test_color_head_loss = color_head_loss_fn(test_color_pred, y_test[:, 2].long())\n",
    "        test_total_loss = test_brand_head_loss + test_model_head_loss + test_color_head_loss\n",
    "        \n",
    "        test_brand_acc = (torch.argmax(test_brand_pred, dim=1) == y_test[:, 0].int()).float().mean()\n",
    "        test_model_acc = (torch.argmax(test_model_pred, dim=1) == y_test[:, 1].int()).float().mean()\n",
    "        test_color_acc = (torch.argmax(test_color_pred, dim=1) == y_test[:, 2].int()).float().mean()\n",
    "        test_total_acc = min([test_brand_acc, test_model_acc, test_color_acc])\n",
    "        \n",
    "        losses.append(train_total_loss.item())\n",
    "        accs.append(train_total_acc.item())\n",
    "        \n",
    "        test_losses.append(test_total_loss.item())\n",
    "        test_accs.append(test_total_acc.item())\n",
    "        \n",
    "        plot_progress(losses, accs, test_losses, test_accs)"
   ]
  },
  {
   "cell_type": "markdown",
   "metadata": {},
   "source": [
    "# Для Stepik"
   ]
  },
  {
   "cell_type": "code",
   "execution_count": 48,
   "metadata": {},
   "outputs": [
    {
     "data": {
      "text/html": [
       "<div>\n",
       "<style scoped>\n",
       "    .dataframe tbody tr th:only-of-type {\n",
       "        vertical-align: middle;\n",
       "    }\n",
       "\n",
       "    .dataframe tbody tr th {\n",
       "        vertical-align: top;\n",
       "    }\n",
       "\n",
       "    .dataframe thead th {\n",
       "        text-align: right;\n",
       "    }\n",
       "</style>\n",
       "<table border=\"1\" class=\"dataframe\">\n",
       "  <thead>\n",
       "    <tr style=\"text-align: right;\">\n",
       "      <th></th>\n",
       "      <th>VIN</th>\n",
       "    </tr>\n",
       "  </thead>\n",
       "  <tbody>\n",
       "    <tr>\n",
       "      <th>0</th>\n",
       "      <td>YQSR9TLW9JO00224----</td>\n",
       "    </tr>\n",
       "    <tr>\n",
       "      <th>1</th>\n",
       "      <td>3I394K1QKM9H02594---</td>\n",
       "    </tr>\n",
       "    <tr>\n",
       "      <th>2</th>\n",
       "      <td>EYQSM78R362WN07506--</td>\n",
       "    </tr>\n",
       "    <tr>\n",
       "      <th>3</th>\n",
       "      <td>ENVKZF1KZ097TQ03193-</td>\n",
       "    </tr>\n",
       "    <tr>\n",
       "      <th>4</th>\n",
       "      <td>HNVKZAHVI572HFP01935</td>\n",
       "    </tr>\n",
       "  </tbody>\n",
       "</table>\n",
       "</div>"
      ],
      "text/plain": [
       "                    VIN\n",
       "0  YQSR9TLW9JO00224----\n",
       "1  3I394K1QKM9H02594---\n",
       "2  EYQSM78R362WN07506--\n",
       "3  ENVKZF1KZ097TQ03193-\n",
       "4  HNVKZAHVI572HFP01935"
      ]
     },
     "execution_count": 48,
     "metadata": {},
     "output_type": "execute_result"
    }
   ],
   "source": [
    "df_test = pd.read_csv('vins_test.csv')\n",
    "df_test['VIN'] = df_test['VIN'].apply(lambda x: x.ljust(max_vin_length, '-'))\n",
    "df_test.head()"
   ]
  },
  {
   "cell_type": "code",
   "execution_count": 49,
   "metadata": {},
   "outputs": [],
   "source": [
    "class VinTestDataset(Dataset):\n",
    "    \n",
    "    def __init__(self, lines):\n",
    "        self.lines = lines  # объекты\n",
    "        \n",
    "    def __len__(self):\n",
    "        return len(self.lines)  # количество объектов\n",
    "    \n",
    "    def __getitem__(self, idx):\n",
    "        x = self.line_to_tensor(self.lines[idx]).long()  # преобразуем один объект в тензор индексов, тип long()\n",
    "        return x\n",
    "    \n",
    "    @staticmethod\n",
    "    def line_to_tensor(line):\n",
    "        return torch.tensor([token_index_map[l] for l in line])"
   ]
  },
  {
   "cell_type": "code",
   "execution_count": 52,
   "metadata": {},
   "outputs": [],
   "source": [
    "test = VinTestDataset(lines=df_test['VIN'].values)"
   ]
  },
  {
   "cell_type": "code",
   "execution_count": 81,
   "metadata": {},
   "outputs": [],
   "source": [
    "test_brands_ind = []\n",
    "test_models_ind = []\n",
    "test_colors_ind = []\n",
    "\n",
    "for x_test in test_dataloader:\n",
    "        model.eval()\n",
    "        \n",
    "        test_brand_pred, test_model_pred, test_color_pred = model(x_test)\n",
    "        \n",
    "        test_brands_batch = torch.argmax(test_brand_pred, dim=1)\n",
    "        test_models_batch = torch.argmax(test_model_pred, dim=1)\n",
    "        test_colors_batch = torch.argmax(test_color_pred, dim=1)\n",
    "        test_brands_ind.extend(test_brands_batch.tolist())\n",
    "        test_models_ind.extend(test_models_batch.tolist())\n",
    "        test_colors_ind.extend(test_colors_batch.tolist())\n",
    "        \n",
    "test_brands_ind = np.array(test_brands_ind)\n",
    "test_models_ind = np.array(test_models_ind)\n",
    "test_colors_ind = np.array(test_colors_ind)"
   ]
  },
  {
   "cell_type": "code",
   "execution_count": 96,
   "metadata": {},
   "outputs": [
    {
     "data": {
      "text/html": [
       "<div>\n",
       "<style scoped>\n",
       "    .dataframe tbody tr th:only-of-type {\n",
       "        vertical-align: middle;\n",
       "    }\n",
       "\n",
       "    .dataframe tbody tr th {\n",
       "        vertical-align: top;\n",
       "    }\n",
       "\n",
       "    .dataframe thead th {\n",
       "        text-align: right;\n",
       "    }\n",
       "</style>\n",
       "<table border=\"1\" class=\"dataframe\">\n",
       "  <thead>\n",
       "    <tr style=\"text-align: right;\">\n",
       "      <th></th>\n",
       "      <th>CarBrand</th>\n",
       "      <th>CarModel</th>\n",
       "      <th>Color</th>\n",
       "    </tr>\n",
       "  </thead>\n",
       "  <tbody>\n",
       "    <tr>\n",
       "      <th>0</th>\n",
       "      <td>1</td>\n",
       "      <td>46</td>\n",
       "      <td>13</td>\n",
       "    </tr>\n",
       "    <tr>\n",
       "      <th>1</th>\n",
       "      <td>1</td>\n",
       "      <td>99</td>\n",
       "      <td>1</td>\n",
       "    </tr>\n",
       "    <tr>\n",
       "      <th>2</th>\n",
       "      <td>1</td>\n",
       "      <td>129</td>\n",
       "      <td>10</td>\n",
       "    </tr>\n",
       "    <tr>\n",
       "      <th>3</th>\n",
       "      <td>1</td>\n",
       "      <td>52</td>\n",
       "      <td>2</td>\n",
       "    </tr>\n",
       "    <tr>\n",
       "      <th>4</th>\n",
       "      <td>2</td>\n",
       "      <td>25</td>\n",
       "      <td>8</td>\n",
       "    </tr>\n",
       "    <tr>\n",
       "      <th>...</th>\n",
       "      <td>...</td>\n",
       "      <td>...</td>\n",
       "      <td>...</td>\n",
       "    </tr>\n",
       "    <tr>\n",
       "      <th>19995</th>\n",
       "      <td>1</td>\n",
       "      <td>85</td>\n",
       "      <td>1</td>\n",
       "    </tr>\n",
       "    <tr>\n",
       "      <th>19996</th>\n",
       "      <td>1</td>\n",
       "      <td>12</td>\n",
       "      <td>14</td>\n",
       "    </tr>\n",
       "    <tr>\n",
       "      <th>19997</th>\n",
       "      <td>1</td>\n",
       "      <td>25</td>\n",
       "      <td>6</td>\n",
       "    </tr>\n",
       "    <tr>\n",
       "      <th>19998</th>\n",
       "      <td>2</td>\n",
       "      <td>123</td>\n",
       "      <td>1</td>\n",
       "    </tr>\n",
       "    <tr>\n",
       "      <th>19999</th>\n",
       "      <td>1</td>\n",
       "      <td>99</td>\n",
       "      <td>1</td>\n",
       "    </tr>\n",
       "  </tbody>\n",
       "</table>\n",
       "<p>20000 rows × 3 columns</p>\n",
       "</div>"
      ],
      "text/plain": [
       "       CarBrand  CarModel  Color\n",
       "0             1        46     13\n",
       "1             1        99      1\n",
       "2             1       129     10\n",
       "3             1        52      2\n",
       "4             2        25      8\n",
       "...         ...       ...    ...\n",
       "19995         1        85      1\n",
       "19996         1        12     14\n",
       "19997         1        25      6\n",
       "19998         2       123      1\n",
       "19999         1        99      1\n",
       "\n",
       "[20000 rows x 3 columns]"
      ]
     },
     "execution_count": 96,
     "metadata": {},
     "output_type": "execute_result"
    }
   ],
   "source": [
    "answers = pd.DataFrame([test_brands_ind, test_models_ind, test_colors_ind])\n",
    "answers = answers.T\n",
    "answers.columns = ['CarBrand', 'CarModel', 'Color']\n",
    "answers"
   ]
  },
  {
   "cell_type": "code",
   "execution_count": 110,
   "metadata": {},
   "outputs": [],
   "source": [
    "answers['CarBrand'] = answers['CarBrand'].apply(lambda x: get_brand(x))\n",
    "answers['CarModel'] = answers['CarModel'].apply(lambda x: get_model(x))\n",
    "answers['Color'] = answers['Color'].apply(lambda x: get_color(x))"
   ]
  },
  {
   "cell_type": "code",
   "execution_count": 112,
   "metadata": {},
   "outputs": [],
   "source": [
    "answers[['CarBrand', 'CarModel', 'Color']].to_csv('submission.csv', index=False)"
   ]
  },
  {
   "cell_type": "code",
   "execution_count": 84,
   "metadata": {},
   "outputs": [
    {
     "data": {
      "text/plain": [
       "(20000,)"
      ]
     },
     "execution_count": 84,
     "metadata": {},
     "output_type": "execute_result"
    }
   ],
   "source": [
    "test_brands_ind.shape"
   ]
  },
  {
   "cell_type": "code",
   "execution_count": 87,
   "metadata": {},
   "outputs": [
    {
     "data": {
      "text/plain": [
       "1    1\n",
       "1    1\n",
       "1    1\n",
       "1    1\n",
       "2    2\n",
       "    ..\n",
       "1    1\n",
       "1    1\n",
       "1    1\n",
       "2    2\n",
       "1    1\n",
       "Length: 20000, dtype: int32"
      ]
     },
     "execution_count": 87,
     "metadata": {},
     "output_type": "execute_result"
    }
   ],
   "source": [
    "pd.Series(test_brands_ind, test_brands_ind)"
   ]
  },
  {
   "cell_type": "code",
   "execution_count": 92,
   "metadata": {},
   "outputs": [
    {
     "data": {
      "text/plain": [
       "array([1, 1, 1, ..., 1, 2, 1])"
      ]
     },
     "execution_count": 92,
     "metadata": {},
     "output_type": "execute_result"
    }
   ],
   "source": [
    "test_brands_ind"
   ]
  },
  {
   "cell_type": "code",
   "execution_count": 99,
   "metadata": {},
   "outputs": [
    {
     "data": {
      "text/plain": [
       "Серебряный    57979\n",
       "Белый         51763\n",
       "Чёрный        43598\n",
       "Зелёный       38775\n",
       "Серый         38069\n",
       "Синий         36808\n",
       "Красный       29402\n",
       "Бежевый       11456\n",
       "Фиолетовый     8385\n",
       "Голубой        6335\n",
       "Коричневый     6211\n",
       "Золотой        3679\n",
       "Пурпурный      2893\n",
       "Жёлтый         1924\n",
       "Оранжевый      1192\n",
       "Розовый         452\n",
       "Name: Color, dtype: int64"
      ]
     },
     "execution_count": 99,
     "metadata": {},
     "output_type": "execute_result"
    }
   ],
   "source": []
  },
  {
   "cell_type": "code",
   "execution_count": null,
   "metadata": {},
   "outputs": [],
   "source": []
  },
  {
   "cell_type": "code",
   "execution_count": 101,
   "metadata": {},
   "outputs": [
    {
     "ename": "NameError",
     "evalue": "name 'car_brands_dict' is not defined",
     "output_type": "error",
     "traceback": [
      "\u001b[1;31m---------------------------------------------------------------------------\u001b[0m",
      "\u001b[1;31mNameError\u001b[0m                                 Traceback (most recent call last)",
      "\u001b[1;32m<ipython-input-101-5555516ed999>\u001b[0m in \u001b[0;36m<module>\u001b[1;34m\u001b[0m\n\u001b[1;32m----> 1\u001b[1;33m \u001b[0mcar_brands_dict\u001b[0m\u001b[1;33m\u001b[0m\u001b[1;33m\u001b[0m\u001b[0m\n\u001b[0m",
      "\u001b[1;31mNameError\u001b[0m: name 'car_brands_dict' is not defined"
     ]
    }
   ],
   "source": [
    "car_brands_dict"
   ]
  },
  {
   "cell_type": "code",
   "execution_count": 102,
   "metadata": {},
   "outputs": [
    {
     "data": {
      "text/plain": [
       "{'Жёлтый': 0,\n",
       " 'Белый': 1,\n",
       " 'Бежевый': 2,\n",
       " 'Синий': 3,\n",
       " 'Пурпурный': 4,\n",
       " 'Розовый': 5,\n",
       " 'Зелёный': 6,\n",
       " 'Фиолетовый': 7,\n",
       " 'Чёрный': 8,\n",
       " 'Коричневый': 9,\n",
       " 'Красный': 10,\n",
       " 'Золотой': 11,\n",
       " 'Оранжевый': 12,\n",
       " 'Серый': 13,\n",
       " 'Серебряный': 14,\n",
       " 'Голубой': 15}"
      ]
     },
     "execution_count": 102,
     "metadata": {},
     "output_type": "execute_result"
    }
   ],
   "source": [
    "colors_index_map"
   ]
  },
  {
   "cell_type": "code",
   "execution_count": 105,
   "metadata": {},
   "outputs": [],
   "source": [
    "# Функции для получения ключа по значению\n",
    "def get_brand(val):\n",
    "    for key, value in car_brands_index_map.items():\n",
    "         if val == value:\n",
    "            return key\n",
    "    return \"key doesn't exist\"\n",
    "\n",
    "def get_model(val):\n",
    "    for key, value in car_models_index_map.items():\n",
    "         if val == value:\n",
    "            return key\n",
    "    return \"key doesn't exist\"\n",
    "\n",
    "\n",
    "def get_color(val):\n",
    "    for key, value in colors_index_map.items():\n",
    "         if val == value:\n",
    "            return key\n",
    "    return \"key doesn't exist\"\n"
   ]
  }
 ],
 "metadata": {
  "kernelspec": {
   "display_name": "Python 3",
   "language": "python",
   "name": "python3"
  },
  "language_info": {
   "codemirror_mode": {
    "name": "ipython",
    "version": 3
   },
   "file_extension": ".py",
   "mimetype": "text/x-python",
   "name": "python",
   "nbconvert_exporter": "python",
   "pygments_lexer": "ipython3",
   "version": "3.7.6"
  }
 },
 "nbformat": 4,
 "nbformat_minor": 4
}
