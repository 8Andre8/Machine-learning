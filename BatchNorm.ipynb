{
 "cells": [
  {
   "cell_type": "code",
   "execution_count": 66,
   "metadata": {},
   "outputs": [
    {
     "name": "stdout",
     "output_type": "stream",
     "text": [
      "-0.894 0.97 -0.447 0.832\n",
      "0.894 -0.97 0.447 -0.832\n",
      "\n",
      "0.136 1.072 0.487 1.135\n",
      "0.344 0.659 0.592 1.03\n"
     ]
    }
   ],
   "source": [
    "import numpy as np\n",
    "import torch\n",
    "import torch.nn as nn\n",
    "\n",
    "\n",
    "class BatchNorm1d(nn.Module):\n",
    "\n",
    "    def __init__(self, num_features, eps=1e-05, momentum=0.1):\n",
    "        super().__init__()\n",
    "        shape = (1, num_features)\n",
    "\n",
    "        self.gamma = nn.Parameter(torch.ones(shape))\n",
    "        self.beta = nn.Parameter(torch.zeros(shape))\n",
    "\n",
    "        self.moving_mean = torch.zeros(shape)\n",
    "        self.moving_var = torch.ones(shape)\n",
    "\n",
    "        self.eps = eps\n",
    "        self.momentum = momentum\n",
    "\n",
    "    def forward(self, x):\n",
    "        # torch.is_grad_enabled() возвращает True, если расчёт градиентов включен, \n",
    "        # то есть модель находится в состоянии обучения (train)\n",
    "        if not torch.is_grad_enabled():\n",
    "            return self.gamma*(x - self.moving_mean)/np.sqrt(self.moving_var + self.eps) + self.beta\n",
    "        else:\n",
    "            neuron_mean = x.mean(dim=0)\n",
    "            self.moving_mean = (1 - self.momentum)*self.moving_mean + self.momentum*neuron_mean\n",
    "            neuron_var_bias = x.var(dim=0, unbiased=False)\n",
    "            neuron_var_unbias = x.var(dim=0, unbiased=True)\n",
    "            self.moving_var = (1 - self.momentum)*self.moving_var + self.momentum*neuron_var_unbias\n",
    "            z = (x - neuron_mean)/np.sqrt(neuron_var_bias + self.eps)\n",
    "            return self.gamma*z + self.beta\n",
    "\n",
    "def read_matrix(n_rows, dtype=float):\n",
    "    return np.array([list(map(dtype, input().split())) for _ in range(n_rows)]).astype(float)\n",
    "\n",
    "def print_matrix(matrix):\n",
    "    for row in matrix:\n",
    "        print(' '.join(map(str, row)))\n",
    "\n",
    "def solution():\n",
    "    batch_size, num_features = 2, 4\n",
    "    eps, momentum = 0.01, 0.1\n",
    "    train_vectors = np.array([[0.5, 1.0, 0.3, 1.3], [0.9, 0.2, 0.4, 1.0]])\n",
    "    test_vectors = np.array([[0.2, 1.1, 0.5, 1.2], [0.4, 0.7, 0.6, 1.1]])\n",
    "\n",
    "    train_vectors = torch.from_numpy(train_vectors).float()\n",
    "    test_vectors = torch.from_numpy(test_vectors).float()\n",
    "\n",
    "    batch_norm_1d = BatchNorm1d(num_features, eps, momentum)\n",
    "    output_train = batch_norm_1d.forward(train_vectors).detach().numpy().round(3)\n",
    "    with torch.no_grad():\n",
    "        output_eval = batch_norm_1d.forward(test_vectors).detach().numpy().round(3)\n",
    "\n",
    "    print_matrix(output_train)\n",
    "    print()\n",
    "    print_matrix(output_eval)\n",
    "\n",
    "solution()"
   ]
  },
  {
   "cell_type": "code",
   "execution_count": 61,
   "metadata": {},
   "outputs": [
    {
     "data": {
      "text/plain": [
       "tensor([0.7000, 0.6000, 0.3500, 1.1500])"
      ]
     },
     "execution_count": 61,
     "metadata": {},
     "output_type": "execute_result"
    }
   ],
   "source": [
    "a =  np.array([[0.5, 1.0, 0.3, 1.3], [0.9, 0.2, 0.4, 1.0]]) \n",
    "t = torch.from_numpy(a).float()\n",
    "np.repeat(t.var(dim=1), 4).reshape(-1, 4)\n",
    "t.mean(dim=0)"
   ]
  },
  {
   "cell_type": "code",
   "execution_count": 22,
   "metadata": {},
   "outputs": [
    {
     "data": {
      "text/plain": [
       "array([0.156875, 0.111875])"
      ]
     },
     "execution_count": 22,
     "metadata": {},
     "output_type": "execute_result"
    }
   ],
   "source": [
    "a.var(axis=1)"
   ]
  },
  {
   "cell_type": "code",
   "execution_count": 9,
   "metadata": {},
   "outputs": [
    {
     "data": {
      "text/plain": [
       "array([[0.70710678, 1.        , 0.54772256, 1.14017543],\n",
       "       [0.9486833 , 0.4472136 , 0.63245553, 1.        ]])"
      ]
     },
     "execution_count": 9,
     "metadata": {},
     "output_type": "execute_result"
    }
   ],
   "source": [
    "np.sqrt(t)"
   ]
  },
  {
   "cell_type": "code",
   "execution_count": 10,
   "metadata": {},
   "outputs": [
    {
     "data": {
      "text/plain": [
       "0.15687500000000001"
      ]
     },
     "execution_count": 10,
     "metadata": {},
     "output_type": "execute_result"
    }
   ],
   "source": [
    "np.array([0.5, 1.0, 0.3, 1.3]).var()"
   ]
  },
  {
   "cell_type": "code",
   "execution_count": null,
   "metadata": {},
   "outputs": [],
   "source": []
  }
 ],
 "metadata": {
  "kernelspec": {
   "display_name": "Python 3",
   "language": "python",
   "name": "python3"
  },
  "language_info": {
   "codemirror_mode": {
    "name": "ipython",
    "version": 3
   },
   "file_extension": ".py",
   "mimetype": "text/x-python",
   "name": "python",
   "nbconvert_exporter": "python",
   "pygments_lexer": "ipython3",
   "version": "3.7.6"
  }
 },
 "nbformat": 4,
 "nbformat_minor": 4
}
