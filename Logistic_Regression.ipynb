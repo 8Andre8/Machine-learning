{
 "cells": [
  {
   "cell_type": "markdown",
   "metadata": {},
   "source": [
    "# Логистическая регрессия\n",
    "\n",
    "Файл с данными - [Davis.csv](https://github.com/sdukshis/ml-intro/blob/master/datasets/Davis.csv).\n",
    "На основе набора данных об измерениях роста и веса решим следующую задачу.\n",
    "\n",
    "1. Обучим модель логистической регресси на данных, используя в качестве целевой переменной пол (sex), а в качестве признаков рост и вес (height, weight). Для обучения будем использовать класс из библиотеки scikit-learn - [LogisticRegression](https://scikit-learn.org/stable/modules/generated/sklearn.linear_model.LogisticRegression.html).\n",
    "2. Изобразим точки выборки и разделяющую поверхность.\n",
    "3. Оценим точность и полноту полученного решения и построим график ROC кривой.\n",
    "4. Расширим пространство признаков квадратичными признаками.\n",
    "5. Изобразим точки выборки и разделяющую поверхность.\n",
    "6. Оценим точность и полноту полученного решения и построим график ROC кривой.\n",
    "\n",
    "В некоторых строках встречаются пропуски. Будем удалять их из таблицы вместе со всей строкой с помощью метода [pandas.DataFrame.dropna](https://pandas.pydata.org/pandas-docs/stable/generated/pandas.DataFrame.dropna.html)."
   ]
  },
  {
   "cell_type": "code",
   "execution_count": 1,
   "metadata": {},
   "outputs": [],
   "source": [
    "import pandas as pd\n",
    "import numpy as np"
   ]
  },
  {
   "cell_type": "code",
   "execution_count": 2,
   "metadata": {},
   "outputs": [
    {
     "data": {
      "text/html": [
       "<div>\n",
       "<style scoped>\n",
       "    .dataframe tbody tr th:only-of-type {\n",
       "        vertical-align: middle;\n",
       "    }\n",
       "\n",
       "    .dataframe tbody tr th {\n",
       "        vertical-align: top;\n",
       "    }\n",
       "\n",
       "    .dataframe thead th {\n",
       "        text-align: right;\n",
       "    }\n",
       "</style>\n",
       "<table border=\"1\" class=\"dataframe\">\n",
       "  <thead>\n",
       "    <tr style=\"text-align: right;\">\n",
       "      <th></th>\n",
       "      <th>sex</th>\n",
       "      <th>weight</th>\n",
       "      <th>height</th>\n",
       "      <th>repwt</th>\n",
       "      <th>repht</th>\n",
       "    </tr>\n",
       "  </thead>\n",
       "  <tbody>\n",
       "    <tr>\n",
       "      <th>1</th>\n",
       "      <td>M</td>\n",
       "      <td>77</td>\n",
       "      <td>182</td>\n",
       "      <td>77.0</td>\n",
       "      <td>180.0</td>\n",
       "    </tr>\n",
       "    <tr>\n",
       "      <th>2</th>\n",
       "      <td>F</td>\n",
       "      <td>58</td>\n",
       "      <td>161</td>\n",
       "      <td>51.0</td>\n",
       "      <td>159.0</td>\n",
       "    </tr>\n",
       "    <tr>\n",
       "      <th>3</th>\n",
       "      <td>F</td>\n",
       "      <td>53</td>\n",
       "      <td>161</td>\n",
       "      <td>54.0</td>\n",
       "      <td>158.0</td>\n",
       "    </tr>\n",
       "    <tr>\n",
       "      <th>4</th>\n",
       "      <td>M</td>\n",
       "      <td>68</td>\n",
       "      <td>177</td>\n",
       "      <td>70.0</td>\n",
       "      <td>175.0</td>\n",
       "    </tr>\n",
       "    <tr>\n",
       "      <th>5</th>\n",
       "      <td>F</td>\n",
       "      <td>59</td>\n",
       "      <td>157</td>\n",
       "      <td>59.0</td>\n",
       "      <td>155.0</td>\n",
       "    </tr>\n",
       "  </tbody>\n",
       "</table>\n",
       "</div>"
      ],
      "text/plain": [
       "  sex  weight  height  repwt  repht\n",
       "1   M      77     182   77.0  180.0\n",
       "2   F      58     161   51.0  159.0\n",
       "3   F      53     161   54.0  158.0\n",
       "4   M      68     177   70.0  175.0\n",
       "5   F      59     157   59.0  155.0"
      ]
     },
     "execution_count": 2,
     "metadata": {},
     "output_type": "execute_result"
    }
   ],
   "source": [
    "ds = pd.read_csv('https://raw.githubusercontent.com/sdukshis/ml-intro/master/datasets/Davis.csv', index_col=0)\n",
    "ds.head()"
   ]
  },
  {
   "cell_type": "markdown",
   "metadata": {},
   "source": [
    "## Задание\n",
    "\n",
    "1. Обучите модель логистической регресси на данных, используя в качестве целевой переменной пол (sex), а в качестве признаков рост и вес (height, weight).\n",
    "2. Нарисуйте точки выборки и разделяющую поверхость.\n",
    "2. Оцените точность и полноту полученного решения и постройте график ROC кривой\n",
    "3. Расширьте простарнство признаков квадратичными признаками.\n",
    "2. Нарисуйте точки выборки и разделяющую поверхость.\n",
    "2. Оцените точность и полноту полученного решения и постройте график ROC кривой"
   ]
  },
  {
   "cell_type": "code",
   "execution_count": 3,
   "metadata": {},
   "outputs": [],
   "source": [
    "random_point = 3 # For representation"
   ]
  },
  {
   "cell_type": "code",
   "execution_count": 4,
   "metadata": {
    "scrolled": true
   },
   "outputs": [
    {
     "data": {
      "text/html": [
       "<div>\n",
       "<style scoped>\n",
       "    .dataframe tbody tr th:only-of-type {\n",
       "        vertical-align: middle;\n",
       "    }\n",
       "\n",
       "    .dataframe tbody tr th {\n",
       "        vertical-align: top;\n",
       "    }\n",
       "\n",
       "    .dataframe thead th {\n",
       "        text-align: right;\n",
       "    }\n",
       "</style>\n",
       "<table border=\"1\" class=\"dataframe\">\n",
       "  <thead>\n",
       "    <tr style=\"text-align: right;\">\n",
       "      <th></th>\n",
       "      <th>sex</th>\n",
       "      <th>weight</th>\n",
       "      <th>height</th>\n",
       "      <th>repwt</th>\n",
       "      <th>repht</th>\n",
       "    </tr>\n",
       "  </thead>\n",
       "  <tbody>\n",
       "    <tr>\n",
       "      <th>1</th>\n",
       "      <td>M</td>\n",
       "      <td>77</td>\n",
       "      <td>182</td>\n",
       "      <td>77.0</td>\n",
       "      <td>180.0</td>\n",
       "    </tr>\n",
       "    <tr>\n",
       "      <th>2</th>\n",
       "      <td>F</td>\n",
       "      <td>58</td>\n",
       "      <td>161</td>\n",
       "      <td>51.0</td>\n",
       "      <td>159.0</td>\n",
       "    </tr>\n",
       "    <tr>\n",
       "      <th>3</th>\n",
       "      <td>F</td>\n",
       "      <td>53</td>\n",
       "      <td>161</td>\n",
       "      <td>54.0</td>\n",
       "      <td>158.0</td>\n",
       "    </tr>\n",
       "    <tr>\n",
       "      <th>4</th>\n",
       "      <td>M</td>\n",
       "      <td>68</td>\n",
       "      <td>177</td>\n",
       "      <td>70.0</td>\n",
       "      <td>175.0</td>\n",
       "    </tr>\n",
       "    <tr>\n",
       "      <th>5</th>\n",
       "      <td>F</td>\n",
       "      <td>59</td>\n",
       "      <td>157</td>\n",
       "      <td>59.0</td>\n",
       "      <td>155.0</td>\n",
       "    </tr>\n",
       "    <tr>\n",
       "      <th>...</th>\n",
       "      <td>...</td>\n",
       "      <td>...</td>\n",
       "      <td>...</td>\n",
       "      <td>...</td>\n",
       "      <td>...</td>\n",
       "    </tr>\n",
       "    <tr>\n",
       "      <th>195</th>\n",
       "      <td>F</td>\n",
       "      <td>62</td>\n",
       "      <td>164</td>\n",
       "      <td>61.0</td>\n",
       "      <td>161.0</td>\n",
       "    </tr>\n",
       "    <tr>\n",
       "      <th>196</th>\n",
       "      <td>M</td>\n",
       "      <td>74</td>\n",
       "      <td>175</td>\n",
       "      <td>71.0</td>\n",
       "      <td>175.0</td>\n",
       "    </tr>\n",
       "    <tr>\n",
       "      <th>197</th>\n",
       "      <td>M</td>\n",
       "      <td>83</td>\n",
       "      <td>180</td>\n",
       "      <td>80.0</td>\n",
       "      <td>180.0</td>\n",
       "    </tr>\n",
       "    <tr>\n",
       "      <th>199</th>\n",
       "      <td>M</td>\n",
       "      <td>90</td>\n",
       "      <td>181</td>\n",
       "      <td>91.0</td>\n",
       "      <td>178.0</td>\n",
       "    </tr>\n",
       "    <tr>\n",
       "      <th>200</th>\n",
       "      <td>M</td>\n",
       "      <td>79</td>\n",
       "      <td>177</td>\n",
       "      <td>81.0</td>\n",
       "      <td>178.0</td>\n",
       "    </tr>\n",
       "  </tbody>\n",
       "</table>\n",
       "<p>181 rows × 5 columns</p>\n",
       "</div>"
      ],
      "text/plain": [
       "    sex  weight  height  repwt  repht\n",
       "1     M      77     182   77.0  180.0\n",
       "2     F      58     161   51.0  159.0\n",
       "3     F      53     161   54.0  158.0\n",
       "4     M      68     177   70.0  175.0\n",
       "5     F      59     157   59.0  155.0\n",
       "..   ..     ...     ...    ...    ...\n",
       "195   F      62     164   61.0  161.0\n",
       "196   M      74     175   71.0  175.0\n",
       "197   M      83     180   80.0  180.0\n",
       "199   M      90     181   91.0  178.0\n",
       "200   M      79     177   81.0  178.0\n",
       "\n",
       "[181 rows x 5 columns]"
      ]
     },
     "execution_count": 4,
     "metadata": {},
     "output_type": "execute_result"
    }
   ],
   "source": [
    "# Using logistic regression for the prediction of human sex\n",
    "import pandas as pd\n",
    "from sklearn.linear_model import LogisticRegression\n",
    "from sklearn.model_selection import train_test_split\n",
    "from sklearn.metrics import mean_squared_error\n",
    "from sklearn.metrics import mean_absolute_error\n",
    "\n",
    "df = pd.read_csv('https://raw.githubusercontent.com/sdukshis/ml-intro/master/datasets/Davis.csv', index_col=0)\n",
    "# Deliting NaN-values\n",
    "df = df.dropna()\n",
    "df"
   ]
  },
  {
   "cell_type": "code",
   "execution_count": 5,
   "metadata": {},
   "outputs": [],
   "source": [
    "X = df.loc[:, ['height', 'weight']]\n",
    "y = df.replace('M', 1).replace('F', 0).loc[:, 'sex']\n",
    "# Dividing the total sample into training and test samples\n",
    "x_train, x_test, y_train, y_test = train_test_split(X, y, test_size=0.3, random_state = random_point)"
   ]
  },
  {
   "cell_type": "code",
   "execution_count": 6,
   "metadata": {},
   "outputs": [
    {
     "data": {
      "text/html": [
       "<div>\n",
       "<style scoped>\n",
       "    .dataframe tbody tr th:only-of-type {\n",
       "        vertical-align: middle;\n",
       "    }\n",
       "\n",
       "    .dataframe tbody tr th {\n",
       "        vertical-align: top;\n",
       "    }\n",
       "\n",
       "    .dataframe thead th {\n",
       "        text-align: right;\n",
       "    }\n",
       "</style>\n",
       "<table border=\"1\" class=\"dataframe\">\n",
       "  <thead>\n",
       "    <tr style=\"text-align: right;\">\n",
       "      <th></th>\n",
       "      <th>height</th>\n",
       "      <th>weight</th>\n",
       "    </tr>\n",
       "  </thead>\n",
       "  <tbody>\n",
       "    <tr>\n",
       "      <th>119</th>\n",
       "      <td>169</td>\n",
       "      <td>75</td>\n",
       "    </tr>\n",
       "    <tr>\n",
       "      <th>58</th>\n",
       "      <td>183</td>\n",
       "      <td>73</td>\n",
       "    </tr>\n",
       "    <tr>\n",
       "      <th>28</th>\n",
       "      <td>166</td>\n",
       "      <td>58</td>\n",
       "    </tr>\n",
       "    <tr>\n",
       "      <th>84</th>\n",
       "      <td>167</td>\n",
       "      <td>60</td>\n",
       "    </tr>\n",
       "    <tr>\n",
       "      <th>115</th>\n",
       "      <td>167</td>\n",
       "      <td>76</td>\n",
       "    </tr>\n",
       "    <tr>\n",
       "      <th>...</th>\n",
       "      <td>...</td>\n",
       "      <td>...</td>\n",
       "    </tr>\n",
       "    <tr>\n",
       "      <th>22</th>\n",
       "      <td>170</td>\n",
       "      <td>61</td>\n",
       "    </tr>\n",
       "    <tr>\n",
       "      <th>1</th>\n",
       "      <td>182</td>\n",
       "      <td>77</td>\n",
       "    </tr>\n",
       "    <tr>\n",
       "      <th>142</th>\n",
       "      <td>163</td>\n",
       "      <td>52</td>\n",
       "    </tr>\n",
       "    <tr>\n",
       "      <th>166</th>\n",
       "      <td>159</td>\n",
       "      <td>59</td>\n",
       "    </tr>\n",
       "    <tr>\n",
       "      <th>113</th>\n",
       "      <td>174</td>\n",
       "      <td>55</td>\n",
       "    </tr>\n",
       "  </tbody>\n",
       "</table>\n",
       "<p>126 rows × 2 columns</p>\n",
       "</div>"
      ],
      "text/plain": [
       "     height  weight\n",
       "119     169      75\n",
       "58      183      73\n",
       "28      166      58\n",
       "84      167      60\n",
       "115     167      76\n",
       "..      ...     ...\n",
       "22      170      61\n",
       "1       182      77\n",
       "142     163      52\n",
       "166     159      59\n",
       "113     174      55\n",
       "\n",
       "[126 rows x 2 columns]"
      ]
     },
     "execution_count": 6,
     "metadata": {},
     "output_type": "execute_result"
    }
   ],
   "source": [
    "x_train"
   ]
  },
  {
   "cell_type": "code",
   "execution_count": 7,
   "metadata": {},
   "outputs": [
    {
     "name": "stdout",
     "output_type": "stream",
     "text": [
      "MSE = 0.03636363636363636\n",
      "Recall:  0.95\n",
      "Precision:  0.95\n",
      "B0 = -51.915430259280974 ; B1 = 0.2571384047007678 ; B2 = 0.12140968896343883\n"
     ]
    }
   ],
   "source": [
    "log_reg = LogisticRegression(random_state = random_point).fit(x_train, y_train)\n",
    "y_predict = log_reg.predict(x_test)\n",
    "mse = mean_squared_error(y_test, y_predict)\n",
    "print(\"MSE =\", mse)\n",
    "from sklearn.metrics import recall_score\n",
    "print(\"Recall: \", recall_score(y_test, y_predict))\n",
    "from sklearn.metrics import precision_score\n",
    "print(\"Precision: \", precision_score(y_test, y_predict))\n",
    "# Getting weights of model\n",
    "coef = log_reg.densify().coef_[0] \n",
    "coef = np.append(coef, log_reg.intercept_)\n",
    "print(\"B0 =\", coef[2], \"; B1 =\", coef[0], \"; B2 =\", coef[1])"
   ]
  },
  {
   "cell_type": "code",
   "execution_count": 8,
   "metadata": {},
   "outputs": [
    {
     "name": "stdout",
     "output_type": "stream",
     "text": [
      "AUC (ROC-curve) = 0.99\n"
     ]
    },
    {
     "data": {
      "image/png": "[encoded data removed]",
      "text/plain": [
       "<Figure size 432x288 with 1 Axes>"
      ]
     },
     "metadata": {
      "needs_background": "light"
     },
     "output_type": "display_data"
    }
   ],
   "source": [
    "# Building a ROC-curve\n",
    "from sklearn.metrics import plot_roc_curve\n",
    "from sklearn.metrics import roc_auc_score\n",
    "\n",
    "logreg_y_proba = log_reg.predict_proba(x_test)[:, 1]\n",
    "\n",
    "disp = plot_roc_curve(log_reg, x_test, y_test)\n",
    "disp.ax_.plot([0, 1], [0, 1], 'k--');\n",
    "disp.ax_.set_title('ROC-curve (logistic regression)', fontsize = 15)\n",
    "print('AUC (ROC-curve) = %.2f' % roc_auc_score(y_test, logreg_y_proba))"
   ]
  },
  {
   "cell_type": "code",
   "execution_count": 9,
   "metadata": {},
   "outputs": [],
   "source": [
    "# Forming a dividing line\n",
    "w = np.arange(min(X['weight']), max(X['weight']), 0.5)\n",
    "h = np.arange(min(X['height']), max(X['height']), 0.5)\n",
    "w_plot = []\n",
    "h_plot = []\n",
    "eps = 0.01\n",
    "for w_l in w:\n",
    "    for h_l in h:\n",
    "        if ((coef[2] + coef[0] * h_l + coef[1] * w_l) < eps) and ((coef[2] + coef[0] * h_l + coef[1] * w_l) > -eps):\n",
    "            w_plot.append(w_l)\n",
    "            h_plot.append(h_l)"
   ]
  },
  {
   "cell_type": "code",
   "execution_count": 10,
   "metadata": {
    "scrolled": true
   },
   "outputs": [
    {
     "data": {
      "image/png": "[encoded data removed]",
      "text/plain": [
       "<Figure size 720x432 with 1 Axes>"
      ]
     },
     "metadata": {
      "needs_background": "light"
     },
     "output_type": "display_data"
    }
   ],
   "source": [
    "# Data visualization \n",
    "import matplotlib.pyplot as plt\n",
    "import matplotlib.patches as mpatches\n",
    "plt.figure(figsize=(10, 6))\n",
    "colors = y.map({0: 'r', 1: 'b'})\n",
    "plt.scatter(X['weight'], X['height'], c=colors, edgecolors = 'black')\n",
    "red_patch = mpatches.Patch(color='red', label='Women')\n",
    "blue_patch = mpatches.Patch(color='blue', label='Men')\n",
    "plt.legend(handles=[red_patch, blue_patch], fontsize = 15)\n",
    "plt.title('Data visualization', fontsize = 20, fontweight=\"bold\")\n",
    "plt.xlabel('Weight, kg', fontsize = 15, fontweight=\"bold\")\n",
    "plt.ylabel('Height, cm', fontsize = 15, fontweight=\"bold\")\n",
    "plt.plot(w_plot, h_plot, color=\"green\", alpha=0.8, linestyle='--')\n",
    "plt.show()"
   ]
  },
  {
   "cell_type": "code",
   "execution_count": 11,
   "metadata": {},
   "outputs": [
    {
     "data": {
      "text/html": [
       "<div>\n",
       "<style scoped>\n",
       "    .dataframe tbody tr th:only-of-type {\n",
       "        vertical-align: middle;\n",
       "    }\n",
       "\n",
       "    .dataframe tbody tr th {\n",
       "        vertical-align: top;\n",
       "    }\n",
       "\n",
       "    .dataframe thead th {\n",
       "        text-align: right;\n",
       "    }\n",
       "</style>\n",
       "<table border=\"1\" class=\"dataframe\">\n",
       "  <thead>\n",
       "    <tr style=\"text-align: right;\">\n",
       "      <th></th>\n",
       "      <th>height</th>\n",
       "      <th>weight</th>\n",
       "      <th>weight^2</th>\n",
       "      <th>weight*height</th>\n",
       "      <th>height^2</th>\n",
       "    </tr>\n",
       "  </thead>\n",
       "  <tbody>\n",
       "    <tr>\n",
       "      <th>1</th>\n",
       "      <td>182</td>\n",
       "      <td>77</td>\n",
       "      <td>5929</td>\n",
       "      <td>14014</td>\n",
       "      <td>33124</td>\n",
       "    </tr>\n",
       "    <tr>\n",
       "      <th>2</th>\n",
       "      <td>161</td>\n",
       "      <td>58</td>\n",
       "      <td>3364</td>\n",
       "      <td>9338</td>\n",
       "      <td>25921</td>\n",
       "    </tr>\n",
       "    <tr>\n",
       "      <th>3</th>\n",
       "      <td>161</td>\n",
       "      <td>53</td>\n",
       "      <td>2809</td>\n",
       "      <td>8533</td>\n",
       "      <td>25921</td>\n",
       "    </tr>\n",
       "    <tr>\n",
       "      <th>4</th>\n",
       "      <td>177</td>\n",
       "      <td>68</td>\n",
       "      <td>4624</td>\n",
       "      <td>12036</td>\n",
       "      <td>31329</td>\n",
       "    </tr>\n",
       "    <tr>\n",
       "      <th>5</th>\n",
       "      <td>157</td>\n",
       "      <td>59</td>\n",
       "      <td>3481</td>\n",
       "      <td>9263</td>\n",
       "      <td>24649</td>\n",
       "    </tr>\n",
       "  </tbody>\n",
       "</table>\n",
       "</div>"
      ],
      "text/plain": [
       "   height  weight  weight^2  weight*height  height^2\n",
       "1     182      77      5929          14014     33124\n",
       "2     161      58      3364           9338     25921\n",
       "3     161      53      2809           8533     25921\n",
       "4     177      68      4624          12036     31329\n",
       "5     157      59      3481           9263     24649"
      ]
     },
     "execution_count": 11,
     "metadata": {},
     "output_type": "execute_result"
    }
   ],
   "source": [
    "# Expanding the feature space\n",
    "df['weight^2'] = df['weight'] * df['weight']\n",
    "df['weight*height'] = df['height'] * df['weight']\n",
    "df['height^2'] = df['height'] * df['height']\n",
    "X_expanded = df.loc[:, ['height', 'weight', 'weight^2', 'weight*height', 'height^2']]\n",
    "x_train_expanded, x_test_expanded, y_train_expanded, y_test_expanded = train_test_split(X_expanded, y, test_size= 0.3, random_state= random_point)\n",
    "X_expanded.head()"
   ]
  },
  {
   "cell_type": "code",
   "execution_count": 12,
   "metadata": {},
   "outputs": [
    {
     "name": "stdout",
     "output_type": "stream",
     "text": [
      "MSE = 0.03636363636363636\n",
      "Recall:  0.95\n",
      "Precision:  0.95\n",
      "B0 = -0.003 ; B1 = -0.270 ; B2 =-0.099 ; B3 =-0.001 ; B4 =0.002 ; B5 =0.001\n"
     ]
    }
   ],
   "source": [
    "log_reg = LogisticRegression(random_state = random_point).fit(x_train_expanded, y_train_expanded)\n",
    "y_predict_expanded = log_reg.predict(x_test_expanded)\n",
    "mse = mean_squared_error(y_test_expanded, y_predict_expanded)\n",
    "print(\"MSE =\", mse)\n",
    "from sklearn.metrics import recall_score\n",
    "print(\"Recall: \", recall_score(y_test_expanded, y_predict_expanded))\n",
    "from sklearn.metrics import precision_score\n",
    "print(\"Precision: \", precision_score(y_test_expanded, y_predict_expanded))\n",
    "# Getting weights of model\n",
    "coef = log_reg.densify().coef_[0] \n",
    "coef = np.append(coef, log_reg.intercept_)\n",
    "print(\"B0 = %.3f\" % coef[5], \"; B1 = %.3f\" % coef[0], \"; B2 =%.3f\" % coef[1], \\\n",
    "      \"; B3 =%.3f\" % coef[2], \"; B4 =%.3f\" % coef[3], \"; B5 =%.3f\" % coef[4])"
   ]
  },
  {
   "cell_type": "code",
   "execution_count": 13,
   "metadata": {},
   "outputs": [
    {
     "name": "stdout",
     "output_type": "stream",
     "text": [
      "AUC (ROC-curve) = 0.99\n"
     ]
    },
    {
     "data": {
      "image/png": "[encoded data removed]",
      "text/plain": [
       "<Figure size 432x288 with 1 Axes>"
      ]
     },
     "metadata": {
      "needs_background": "light"
     },
     "output_type": "display_data"
    }
   ],
   "source": [
    "# Building a ROC-curve\n",
    "from sklearn.metrics import plot_roc_curve\n",
    "from sklearn.metrics import roc_auc_score\n",
    "\n",
    "logreg_y_proba = log_reg.predict_proba(x_test_expanded)[:, 1]\n",
    "\n",
    "disp = plot_roc_curve(log_reg, x_test_expanded, y_test_expanded)\n",
    "disp.ax_.plot([0, 1], [0, 1], 'k--');\n",
    "disp.ax_.set_title('ROC-curve (logistic regression (expanded))', fontsize = 15)\n",
    "print('AUC (ROC-curve) = %.2f' % roc_auc_score(y_test_expanded, logreg_y_proba))"
   ]
  },
  {
   "cell_type": "code",
   "execution_count": 14,
   "metadata": {},
   "outputs": [
    {
     "data": {
      "image/png": "[encoded data removed]",
      "text/plain": [
       "<Figure size 720x432 with 1 Axes>"
      ]
     },
     "metadata": {
      "needs_background": "light"
     },
     "output_type": "display_data"
    }
   ],
   "source": [
    "# Data visualization \n",
    "plt.figure(figsize=(10, 6))\n",
    "# Reduction of the dimensionality\n",
    "p1 = plt.scatter(x_test_expanded['height'].values * coef[0] + x_test_expanded['weight'].values * coef[1] + \\\n",
    "                 x_test_expanded['weight^2'].values * coef[2] + x_test_expanded['weight*height'].values * coef[3] + \\\n",
    "                 x_test_expanded['height^2'].values * coef[4] + coef[5], y_test_expanded, c = 'blue')\n",
    "p2 = plt.scatter(x_test_expanded['height'].values * coef[0] + x_test_expanded['weight'].values * coef[1] + \\\n",
    "                 x_test_expanded['weight^2'].values * coef[2] + x_test_expanded['weight*height'].values * coef[3] + \\\n",
    "                 x_test_expanded['height^2'].values * coef[4] + coef[5], y_predict_expanded, c = 'red')\n",
    "import math\n",
    "# Building logistic function\n",
    "x_logit = x_test_expanded['height'].values * coef[0] + x_test_expanded['weight'].values * coef[1] + \\\n",
    "          x_test_expanded['weight^2'].values * coef[2] + x_test_expanded['weight*height'].values * coef[3] + \\\n",
    "          x_test_expanded['height^2'].values * coef[4] + coef[5]\n",
    "x_logit = np.linspace(min(x_logit), max(x_logit), 100)\n",
    "def logit (x_logit):\n",
    "    return 1/(1+math.exp(-(x_logit)))\n",
    "p = []\n",
    "for i in x_logit:\n",
    "    p.append(logit(i))\n",
    "plt.plot(x_logit, p, color = 'grey')\n",
    "# Drawing a dividing line\n",
    "plt.axvline(x=0, color=\"green\", alpha=0.8, linestyle='--')\n",
    "plt.legend((p1, p2), (\"Test data set\", \"Prediction\"), fontsize = 15)\n",
    "plt.title('Logistic regression model (expanded)', fontsize = 20, fontweight=\"bold\")\n",
    "plt.ylabel('Sex', fontsize = 15, fontweight=\"bold\")\n",
    "plt.show()"
   ]
  }
 ],
 "metadata": {
  "kernelspec": {
   "display_name": "Python 3",
   "language": "python",
   "name": "python3"
  },
  "language_info": {
   "codemirror_mode": {
    "name": "ipython",
    "version": 3
   },
   "file_extension": ".py",
   "mimetype": "text/x-python",
   "name": "python",
   "nbconvert_exporter": "python",
   "pygments_lexer": "ipython3",
   "version": "3.7.6"
  }
 },
 "nbformat": 4,
 "nbformat_minor": 2
}
