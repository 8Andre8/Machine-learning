{
 "cells": [
  {
   "cell_type": "code",
   "execution_count": 2,
   "metadata": {},
   "outputs": [],
   "source": [
    "# 1.0 0.0 2.5 2.0 2.0 1.5 3.5"
   ]
  },
  {
   "cell_type": "code",
   "execution_count": 6,
   "metadata": {},
   "outputs": [
    {
     "name": "stdout",
     "output_type": "stream",
     "text": [
      "1.0 0.0 2.5 2.0 2.0 1.5 3.5\n"
     ]
    }
   ],
   "source": [
    "import numpy as np\n",
    "\n",
    "def mse(y):\n",
    "    n = len(y)\n",
    "    if n == 0:\n",
    "        return 0\n",
    "    y_mean = np.mean(y)\n",
    "    return np.sum((y - y_mean)**2)/n\n",
    "\n",
    "def Q(l, r, full_mse):\n",
    "    l_n  = len(l)\n",
    "    r_n = len(r)\n",
    "    n = l_n + r_n\n",
    "    return full_mse - (l_n/n*mse(l) + r_n/n*mse(r))\n",
    "\n",
    "def find_splits(X, column):\n",
    "    X_unique = np.unique(X[:, column])\n",
    "    split_values = np.empty(X_unique.shape[0] - 1)\n",
    "    for i in range(1, X_unique.shape[0]):\n",
    "        average = (X_unique[i - 1] + X_unique[i]) / 2\n",
    "        split_values[i - 1] = average\n",
    "    return split_values\n",
    "\n",
    "def decision_stump(X, y):\n",
    "\n",
    "    best_Q = None \n",
    "    best_j = None  # индекс признака по которому производился лучший сплит\n",
    "    best_t = None  # порог с котором сравнивается признак\n",
    "    best_left_ids = None # вектор со значениями True для объектов в левом поддереве, остальные False\n",
    "    best_right_ids = None # вектор со значениями True для объектов в правом поддереве, остальные False\n",
    "    y_preds_left = None # предсказание в левом поддерева\n",
    "    y_preds_right = None # предсказание в правом поддерева\n",
    "    \n",
    "    full_mse = mse(y)\n",
    "    features = X.shape[1]\n",
    "    for j in range(features):\n",
    "        split_values = find_splits(X, j)\n",
    "        for t in split_values:\n",
    "            left_mask = X[:, j] <= t\n",
    "            right_mask = X[:, j] > t\n",
    "            left_y, right_y = y[left_mask], y[right_mask]\n",
    "            Q_cur = Q(left_y, right_y, full_mse)\n",
    "            if best_Q is None or Q_cur > best_Q:\n",
    "                best_Q = Q_cur\n",
    "                best_j = j\n",
    "                best_t = t\n",
    "                best_left_ids = left_mask\n",
    "                best_right_ids = right_mask\n",
    "                y_preds_left = np.mean(left_y)\n",
    "                y_preds_right = np.mean(right_y)\n",
    "    result = [\n",
    "        best_Q,\n",
    "        best_j,\n",
    "        best_t,\n",
    "        best_left_ids.sum(),\n",
    "        best_right_ids.sum(),\n",
    "        y_preds_left,\n",
    "        y_preds_right\n",
    "    ]\n",
    "    return result\n",
    "\n",
    "def read_input():\n",
    "    n, m = 4, 2\n",
    "    x_train = np.array([[1.0, 0.0], [2.0, 0.0], [3.0, 0.0], [4.0, 0.0]])\n",
    "    y_train = np.array([1.0, 2.0, 3.0, 4.0])\n",
    "    return x_train, y_train\n",
    "\n",
    "def solution():\n",
    "    X, y = read_input()\n",
    "    result = decision_stump(X, y)\n",
    "    result = np.round(result, 2)\n",
    "    output = ' '.join(map(str, result))\n",
    "    print(output)\n",
    "\n",
    "solution()"
   ]
  },
  {
   "cell_type": "code",
   "execution_count": null,
   "metadata": {},
   "outputs": [],
   "source": [
    "# 1.0 0.0 2.5 2.0 2.0 1.5 3.5"
   ]
  },
  {
   "cell_type": "code",
   "execution_count": 5,
   "metadata": {},
   "outputs": [
    {
     "data": {
      "text/plain": [
       "array([[1],\n",
       "       [4],\n",
       "       [5]])"
      ]
     },
     "execution_count": 5,
     "metadata": {},
     "output_type": "execute_result"
    }
   ],
   "source": [
    "import numpy as np\n",
    "a = np.array([[1], [2], [3], [4], [5]])\n",
    "mask = np.array([True, False, False, True, True])\n",
    "a[mask]"
   ]
  },
  {
   "cell_type": "code",
   "execution_count": 1,
   "metadata": {},
   "outputs": [
    {
     "name": "stdout",
     "output_type": "stream",
     "text": [
      "[1. 2. 3. 4.]\n",
      "[1. 2. 3. 4.]\n",
      "[1. 2. 3. 4.]\n",
      "[1.]\n",
      "[2. 3. 4.]\n",
      "[1. 2. 3. 4.]\n",
      "[1. 2.]\n",
      "[3. 4.]\n",
      "[1. 2. 3. 4.]\n",
      "[1. 2. 3.]\n",
      "[4.]\n",
      "[1. 2. 3. 4.]\n",
      "[1. 2. 3. 4.]\n",
      "[1. 2. 3. 4.]\n",
      "[1. 2. 3. 4.]\n",
      "[1. 2. 3. 4.]\n",
      "[1. 2. 3. 4.]\n",
      "[1. 2. 3. 4.]\n",
      "[1. 2. 3. 4.]\n",
      "[1.0, 0, 2.5, 2, 2, 1.5, 3.5]\n",
      "1.0 0.0 2.5 2.0 2.0 1.5 3.5\n"
     ]
    }
   ],
   "source": [
    "# неудавшийся вариант\n",
    "import numpy as np\n",
    "\n",
    "def mse(y):\n",
    "    n = len(y)\n",
    "    if n == 0:\n",
    "        return 0\n",
    "    y_mean = np.mean(y)\n",
    "    return np.sum((y - y_mean)**2)/n\n",
    "\n",
    "def Q(l, r, full):\n",
    "    l_n  = len(l)\n",
    "    r_n = len(r)\n",
    "    n = l_n + r_n\n",
    "    return mse(full) - (l_n/n*mse(l) + r_n/n*mse(r))\n",
    "\n",
    "def decision_stump(X, y):\n",
    "\n",
    "    best_Q = -1  \n",
    "    best_j = -1  # индекс признака по которому производился лучший сплит\n",
    "    best_t = -1  # порог с котором сравнивается признак\n",
    "    best_left_ids = [] # вектор со значениями True для объектов в левом поддереве, остальные False\n",
    "    best_right_ids = [] # вектор со значениями True для объектов в правом поддереве, остальные False\n",
    "    y_preds_left = -1 # предсказание в левом поддерева\n",
    "    y_preds_right = -1 # предсказание в правом поддерева\n",
    "    \n",
    "    features = X.shape[1]\n",
    "    for j in range(features):\n",
    "        t_min = min(X[:, j])\n",
    "        for i, t in enumerate(X[:, j]):\n",
    "            l_arr = np.array([y_ for x, y_ in zip(X[:, j], y) if x < t])\n",
    "            r_arr = np.array([y_ for x, y_ in zip(X[:, j], y) if x >= t])\n",
    "            Q_cur = Q(l_arr, r_arr, y)\n",
    "            if Q_cur > best_Q:\n",
    "                best_Q = Q_cur\n",
    "                best_j = j\n",
    "                best_t = (t + X[i - 1][j])/2 if t > t_min else t\n",
    "                best_left_ids = np.array([True if y_ in l_arr else False for y_ in y])\n",
    "                best_right_ids = np.array([True if y_ in r_arr else False for y_ in y])\n",
    "                y_preds_left = np.mean(l_arr) if len(l_arr) > 0 else 0\n",
    "                y_preds_right = np.mean(r_arr) if len(r_arr) > 0 else 0\n",
    "    result = [\n",
    "        best_Q,\n",
    "        best_j,\n",
    "        best_t,\n",
    "        best_left_ids.sum(),\n",
    "        best_right_ids.sum(),\n",
    "        y_preds_left,\n",
    "        y_preds_right\n",
    "    ]\n",
    "    return result\n",
    "\n",
    "def read_input():\n",
    "    n, m = 4, 2\n",
    "    x_train = np.array([[1.0, 0.0], [2.0, 0.0], [3.0, 0.0], [4.0, 0.0]])\n",
    "    y_train = np.array([1.0, 2.0, 3.0, 4.0])\n",
    "    return x_train, y_train\n",
    "\n",
    "def solution():\n",
    "    X, y = read_input()\n",
    "    result = decision_stump(X, y)\n",
    "    print(result)\n",
    "    result = np.round(result, 2)\n",
    "    output = ' '.join(map(str, result))\n",
    "    print(output)\n",
    "\n",
    "solution()"
   ]
  },
  {
   "cell_type": "code",
   "execution_count": null,
   "metadata": {},
   "outputs": [],
   "source": []
  }
 ],
 "metadata": {
  "kernelspec": {
   "display_name": "Python 3",
   "language": "python",
   "name": "python3"
  },
  "language_info": {
   "codemirror_mode": {
    "name": "ipython",
    "version": 3
   },
   "file_extension": ".py",
   "mimetype": "text/x-python",
   "name": "python",
   "nbconvert_exporter": "python",
   "pygments_lexer": "ipython3",
   "version": "3.7.6"
  }
 },
 "nbformat": 4,
 "nbformat_minor": 4
}
