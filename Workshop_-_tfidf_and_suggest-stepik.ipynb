{
 "cells": [
  {
   "cell_type": "markdown",
   "metadata": {},
   "source": [
    "<h3>Задача семинара</h3>\n",
    "\n",
    "<p>Мы будем решать задачу, о которой говорили на лекции &mdash;&nbsp;реализуем&nbsp;механизм подсказок (<em>suggest</em>) категории по заголовку.</p>\n",
    "\n",
    "<p>Представьте, что вы хотите разместить объявление о продаже шин. Чтобы положить своё объявление в нужную категорию, вам необходимо выбрать одну из 10 верхнеуровневых категорий, одну из 5 на следющем уровне, одну из 12 на следующем уровне, одну из 5 на последнем уровне.</p>\n",
    "\n",
    "<p>Даже если варианты правильных&nbsp;категорий&nbsp;на каждом уровне очевидны, процесс подачи объявления лучше упростить.</p>\n",
    "\n",
    "<div style=\"text-align:center\">\n",
    "<figure class=\"image\" style=\"display:inline-block\"><img alt=\"\" height=\"259\" src=\"http://labelimages.avito.ru/mlcourse_week3_without_suggest.png\" width=\"563\" />\n",
    "<figcaption>Пример поиска нужной категории без подсказок</figcaption>\n",
    "</figure>\n",
    "</div>\n",
    "\n",
    "<p>&nbsp;Упрощённый процесс подачи объявлений может выглядеть следующим образом. Пользователь заполняет заголовок объявления, затем выбирает один из предложенных вариантов категорий, который больше всего подходит его объявлению.</p>\n",
    "\n",
    "<div style=\"text-align:center\">\n",
    "<figure class=\"image\" style=\"display:inline-block\"><img alt=\"\" height=\"324\" src=\"http://labelimages.avito.ru/mlcourse_week3_with_suggest.png\" width=\"534\" />\n",
    "<figcaption>Работа suggest при публикации объявления</figcaption>\n",
    "</figure>\n",
    "</div>\n",
    "\n",
    "<p>Задача &mdash; определить категорию объявления, используя заголовок. Всего в выборке будет 54 категории.</p>\n"
   ]
  },
  {
   "cell_type": "markdown",
   "metadata": {},
   "source": [
    "<h3><strong>Многоклассовая классификация</strong></h3>\n",
    "\n",
    "<p>Для решения задачи будем использовать модель логистической регрессии – линейная модель для бинарной классификации. Как её использовать для решения задачи классификации на 54 класса? Оказывается, любой бинарный классификатор, который способен оценивать меру принадлежности объектов к одному из 2 классов, можно использовать для многоклассовой классификации. </p>\n",
    "\n",
    "<p>Мнгоклассовая классификация на основе бинарного классификатора может быть реализована с помощью одной из двух стратегий:</p>\n",
    "\n",
    "<ul>\n",
    "\t<li>Один против всех (<em>One-vs-Rest</em> или <em>One-vs-All</em>);</li>\n",
    "\t<li>One-vs-One.</li>\n",
    "</ul>\n",
    "\n",
    "<p> </p>\n",
    "\n",
    "<p><strong>One-vs-All </strong></p>\n",
    "\n",
    "<p>В стратегии <em>One-vs-All</em> строятся <span class=\"math-tex\">\\(k\\)</span> классификаторов, отделяющих каждый класс от остальных. Например, для 3 классов нужно обучить 3 классификатора:</p>\n",
    "\n",
    "<div style=\"text-align: center;\">\n",
    "<figure class=\"image\" style=\"\"><img alt=\"\" height=\"436\" name=\"Снимок экрана 2021-08-03 в 19.26.56.png\" src=\"https://ucarecdn.com/2abe5812-3f6e-42cf-97a4-a35a6de58c6d/\" width=\"513\">\n",
    "<figcaption>Многоклассовая классфикация по стратегии OVR</figcaption>\n",
    "</figure>\n",
    "</div>\n",
    "\n",
    "<p>Помимо эффективности построения (необходимы только <span class=\"math-tex\">\\(k\\)</span> классификаторов), одним из преимуществ этого подхода является его интерпретируемость. Поскольку для каждого класса обучался свой классификатор, можно анализировать каждый классификатор в отдельности, чтобы понять, почему модель приняла такое решение.</p>\n",
    "\n",
    "<p><em>Предсказания на тестовой выборке для OVR.</em></p>\n",
    "\n",
    "<p>Для объектов из тестовой выборки предсказывается класс, получивший максимальную вероятность в результате предсказаний <span class=\"math-tex\">\\(k\\)</span> классификаторов:</p>\n",
    "\n",
    "<p style=\"text-align: center;\"><span class=\"math-tex\">\\(\\hat{y} = \\underset{k}{argmax} \\ a_{k}(x),\\)</span></p>\n",
    "\n",
    "<p>где <span class=\"math-tex\">\\(a_k(x) -\\)</span> предсказание модели бинарной классификации для класса <span class=\"math-tex\">\\(k\\)</span>.  Выражение<em> <em><em><em><em><em><em><em><span class=\"math-tex\">\\(\\argmax\\)</span></em></em></em></em></em></em></em></em> означает выбор <span class=\"math-tex\">\\(k\\)</span>, при котором значение <span class=\"math-tex\">\\(a_{k}(x)\\)</span> максимально.</p>\n",
    "\n",
    "<p><em>На практике обычно используют OVR стратегию или алгоритмы с нативной поддержкой многоклассовой классификации – нейронные сети или алгоритмы, которые мы будем изучать дальше в этом курсе (RandomForest, KNN).</em></p>\n",
    "\n",
    "<p> </p>\n",
    "\n",
    "<p><strong>One-vs-One (опционально)</strong></p>\n",
    "\n",
    "<p>В стратегии <em>One-vs-One </em>обучается один классификатор для каждой пары классов. При этом каждый классификатор обучается только на объектах, относящихся к этим классам: </p>\n",
    "\n",
    "<div style=\"text-align: center;\">\n",
    "<figure class=\"image\" style=\"\"><img alt=\"\" height=\"551\" name=\"Снимок экрана 2021-08-01 в 23.43.15.png\" src=\"https://ucarecdn.com/b6a950d0-a787-49de-b6cd-9f2faadb91c3/\" width=\"637\">\n",
    "<figcaption>Многклассовая классификация стратегией OVO</figcaption>\n",
    "</figure>\n",
    "</div>\n",
    "\n",
    "<p>Таким образом, требуется построить квадратичное число классификаторов <span class=\"math-tex\">\\(\\frac{k(k-1)}{2}\\)</span>.</p>\n",
    "\n",
    "<p>При больших <span class=\"math-tex\">\\(k\\)</span> может потребоваться много времени на обучение. Однако этот метод может быть полезен для алгоритмов, которые плохо масштабируются с увеличением размера выборки, так как каждая отдельная задача обучения классификатора включает в себя только объекты, принадлежащие двум выбранным классам. </p>\n",
    "\n",
    "<p><em>Предсказания на тестовой выборке для OVO.</em></p>\n",
    "\n",
    "<p>Для объектов из тестовой выборки все <span class=\"math-tex\">\\(\\frac{k(k-1)}{2}\\)</span> классификаторов делают предсказания, а финальный ответ получается в результате «жёсткого» голосования:</p>\n",
    "\n",
    "<p style=\"text-align: center;\"><span class=\"math-tex\">\\(\\hat{y} = \\underset{k}{argmax} \\sum_{m \\neq k} [a_{km}(x) = 1],\\)</span></p>\n",
    "\n",
    "<p>где  <span class=\"math-tex\">\\(a_{km}(x) -\\)</span>классификатор с позитивным классом <span class=\"math-tex\">\\(k\\)</span> и негативным классом <span class=\"math-tex\">\\(m\\)</span>.  Жёстким оно называется потому, что никак не учитывается, насколько уверены были классификаторы в своих предсказаниях.</p>\n",
    "\n",
    "<p>Если несколько классов для объекта получили одинаковое количество голосов или нужно определить не только класс, но и меру принадлежности, производится «мягкое» голосование: выигрывает тот класс в котором суммарно больше уверены классификаторы.</p>\n"
   ]
  },
  {
   "cell_type": "markdown",
   "metadata": {},
   "source": [
    "## EDA"
   ]
  },
  {
   "cell_type": "markdown",
   "metadata": {},
   "source": [
    "<p>Начнем работу с данными с импорта нужных библиотек:</p>"
   ]
  },
  {
   "cell_type": "code",
   "execution_count": 1,
   "metadata": {},
   "outputs": [],
   "source": [
    "import numpy as np\n",
    "import pandas as pd\n",
    "\n",
    "from sklearn.linear_model import LogisticRegression\n",
    "from sklearn.feature_extraction.text import CountVectorizer\n",
    "from sklearn.model_selection import train_test_split\n",
    "from sklearn.metrics import accuracy_score\n",
    "\n",
    "from sklearn.feature_extraction.text import TfidfVectorizer"
   ]
  },
  {
   "cell_type": "markdown",
   "metadata": {},
   "source": [
    "<p>Прочитаем <a href=\"https://stepik.org/media/attachments/lesson/537384/suggest_train.csv\" rel=\"noopener noreferrer nofollow\">данные</a>:</p>\n"
   ]
  },
  {
   "cell_type": "code",
   "execution_count": 2,
   "metadata": {},
   "outputs": [
    {
     "data": {
      "text/html": [
       "<div>\n",
       "<style scoped>\n",
       "    .dataframe tbody tr th:only-of-type {\n",
       "        vertical-align: middle;\n",
       "    }\n",
       "\n",
       "    .dataframe tbody tr th {\n",
       "        vertical-align: top;\n",
       "    }\n",
       "\n",
       "    .dataframe thead th {\n",
       "        text-align: right;\n",
       "    }\n",
       "</style>\n",
       "<table border=\"1\" class=\"dataframe\">\n",
       "  <thead>\n",
       "    <tr style=\"text-align: right;\">\n",
       "      <th></th>\n",
       "      <th>title</th>\n",
       "      <th>category_id</th>\n",
       "      <th>name</th>\n",
       "    </tr>\n",
       "    <tr>\n",
       "      <th>item_id</th>\n",
       "      <th></th>\n",
       "      <th></th>\n",
       "      <th></th>\n",
       "    </tr>\n",
       "  </thead>\n",
       "  <tbody>\n",
       "    <tr>\n",
       "      <th>335330</th>\n",
       "      <td>Раствор. Товарный бетон от производителя</td>\n",
       "      <td>15</td>\n",
       "      <td>Для дома и дачи|Ремонт и строительство|Стройма...</td>\n",
       "    </tr>\n",
       "    <tr>\n",
       "      <th>137480</th>\n",
       "      <td>Детская кроватка</td>\n",
       "      <td>16</td>\n",
       "      <td>Для дома и дачи|Мебель и интерьер|Кровати, див...</td>\n",
       "    </tr>\n",
       "    <tr>\n",
       "      <th>242690</th>\n",
       "      <td>Кровать -качалка с ящиком для вещей, два полож...</td>\n",
       "      <td>34</td>\n",
       "      <td>Личные вещи|Товары для детей и игрушки|Детская...</td>\n",
       "    </tr>\n",
       "  </tbody>\n",
       "</table>\n",
       "</div>"
      ],
      "text/plain": [
       "                                                     title  category_id  \\\n",
       "item_id                                                                   \n",
       "335330            Раствор. Товарный бетон от производителя           15   \n",
       "137480                                    Детская кроватка           16   \n",
       "242690   Кровать -качалка с ящиком для вещей, два полож...           34   \n",
       "\n",
       "                                                      name  \n",
       "item_id                                                     \n",
       "335330   Для дома и дачи|Ремонт и строительство|Стройма...  \n",
       "137480   Для дома и дачи|Мебель и интерьер|Кровати, див...  \n",
       "242690   Личные вещи|Товары для детей и игрушки|Детская...  "
      ]
     },
     "execution_count": 2,
     "metadata": {},
     "output_type": "execute_result"
    }
   ],
   "source": [
    "data = pd.read_csv('suggest_train.csv', index_col=0)\n",
    "data.head(3)"
   ]
  },
  {
   "cell_type": "code",
   "execution_count": 3,
   "metadata": {},
   "outputs": [
    {
     "data": {
      "text/plain": [
       "20000"
      ]
     },
     "execution_count": 3,
     "metadata": {},
     "output_type": "execute_result"
    }
   ],
   "source": [
    "data.shape[0]"
   ]
  },
  {
   "cell_type": "code",
   "execution_count": 4,
   "metadata": {},
   "outputs": [],
   "source": [
    "#data = data.drop_duplicates(subset=['title'])\n",
    "#data.shape[0]"
   ]
  },
  {
   "cell_type": "markdown",
   "metadata": {},
   "source": [
    "Видим, что данные упорядочены по категориям. Это может привести к ошибке при разбиении данных. Перемешаем данные:"
   ]
  },
  {
   "cell_type": "code",
   "execution_count": 5,
   "metadata": {},
   "outputs": [],
   "source": [
    "data = data.sample(frac=1).reset_index(drop=True)"
   ]
  },
  {
   "cell_type": "markdown",
   "metadata": {},
   "source": [
    "Проверим, правильно ли закодированы категории:"
   ]
  },
  {
   "cell_type": "code",
   "execution_count": 6,
   "metadata": {},
   "outputs": [
    {
     "data": {
      "text/plain": [
       "array([ 0,  1,  2,  3,  4,  5,  6,  7,  8,  9, 10, 11, 12, 13, 14, 15, 16,\n",
       "       17, 18, 19, 20, 21, 22, 23, 24, 25, 26, 27, 28, 29, 30, 31, 32, 33,\n",
       "       34, 35, 36, 37, 38, 39, 40, 41, 42, 43, 44, 45, 46, 47, 48, 49, 50,\n",
       "       51, 52, 53], dtype=int64)"
      ]
     },
     "execution_count": 6,
     "metadata": {},
     "output_type": "execute_result"
    }
   ],
   "source": [
    "np.sort(data.category_id.unique())"
   ]
  },
  {
   "cell_type": "code",
   "execution_count": 7,
   "metadata": {},
   "outputs": [
    {
     "data": {
      "text/plain": [
       "(0, 53)"
      ]
     },
     "execution_count": 7,
     "metadata": {},
     "output_type": "execute_result"
    }
   ],
   "source": [
    "data.category_id.min(), data.category_id.max()"
   ]
  },
  {
   "cell_type": "markdown",
   "metadata": {},
   "source": [
    "Категории закодированы правильно."
   ]
  },
  {
   "cell_type": "markdown",
   "metadata": {},
   "source": [
    "**Баланс классов**\n",
    "\n",
    "Посмотрим на распределение классов. Большой дисбаланс может вызвать проблемы модели. Например, в топ-3 по вероятности будут попадать нерелевантные категории просто потому, что в датасете их намного больше, чем остальных."
   ]
  },
  {
   "cell_type": "code",
   "execution_count": 50,
   "metadata": {},
   "outputs": [
    {
     "data": {
      "text/plain": [
       "count     54.000000\n",
       "mean     370.370370\n",
       "std       33.178361\n",
       "min      309.000000\n",
       "25%      346.000000\n",
       "50%      361.000000\n",
       "75%      398.750000\n",
       "max      447.000000\n",
       "dtype: float64"
      ]
     },
     "execution_count": 50,
     "metadata": {},
     "output_type": "execute_result"
    }
   ],
   "source": [
    "data.groupby('category_id').size().describe()"
   ]
  },
  {
   "cell_type": "markdown",
   "metadata": {},
   "source": [
    "Видим, что минимальное количество примеров на категорию 309, а максимальное 447. Скорее всего, проблемы не возникнет."
   ]
  },
  {
   "cell_type": "markdown",
   "metadata": {},
   "source": [
    "**Примеры заголовков**\n",
    "\n",
    "Посмотрим на примеры топ-3 наиболее и наименее популярных категорий:"
   ]
  },
  {
   "cell_type": "code",
   "execution_count": 300,
   "metadata": {},
   "outputs": [
    {
     "data": {
      "text/html": [
       "<div>\n",
       "<style scoped>\n",
       "    .dataframe tbody tr th:only-of-type {\n",
       "        vertical-align: middle;\n",
       "    }\n",
       "\n",
       "    .dataframe tbody tr th {\n",
       "        vertical-align: top;\n",
       "    }\n",
       "\n",
       "    .dataframe thead th {\n",
       "        text-align: right;\n",
       "    }\n",
       "</style>\n",
       "<table border=\"1\" class=\"dataframe\">\n",
       "  <thead>\n",
       "    <tr style=\"text-align: right;\">\n",
       "      <th></th>\n",
       "      <th>title</th>\n",
       "      <th>category_id</th>\n",
       "      <th>name</th>\n",
       "    </tr>\n",
       "  </thead>\n",
       "  <tbody>\n",
       "    <tr>\n",
       "      <th>12</th>\n",
       "      <td>Повязка на руку</td>\n",
       "      <td>37</td>\n",
       "      <td>Личные вещи|Красота и здоровье|Приборы и аксес...</td>\n",
       "    </tr>\n",
       "    <tr>\n",
       "      <th>67</th>\n",
       "      <td>Наволочки простыни комплекты для дома и гостиниц</td>\n",
       "      <td>27</td>\n",
       "      <td>Для дома и дачи|Мебель и интерьер|Текстиль и к...</td>\n",
       "    </tr>\n",
       "    <tr>\n",
       "      <th>69</th>\n",
       "      <td>Продам трильяж</td>\n",
       "      <td>23</td>\n",
       "      <td>Для дома и дачи|Мебель и интерьер|Другое</td>\n",
       "    </tr>\n",
       "  </tbody>\n",
       "</table>\n",
       "</div>"
      ],
      "text/plain": [
       "                                               title  category_id  \\\n",
       "12                                   Повязка на руку           37   \n",
       "67  Наволочки простыни комплекты для дома и гостиниц           27   \n",
       "69                                    Продам трильяж           23   \n",
       "\n",
       "                                                 name  \n",
       "12  Личные вещи|Красота и здоровье|Приборы и аксес...  \n",
       "67  Для дома и дачи|Мебель и интерьер|Текстиль и к...  \n",
       "69           Для дома и дачи|Мебель и интерьер|Другое  "
      ]
     },
     "execution_count": 300,
     "metadata": {},
     "output_type": "execute_result"
    }
   ],
   "source": [
    "data[data.name.isin(data.name.value_counts()[:3].index)].drop_duplicates(subset='name')"
   ]
  },
  {
   "cell_type": "markdown",
   "metadata": {},
   "source": [
    "Наименее популярные:"
   ]
  },
  {
   "cell_type": "code",
   "execution_count": 301,
   "metadata": {},
   "outputs": [
    {
     "data": {
      "text/html": [
       "<div>\n",
       "<style scoped>\n",
       "    .dataframe tbody tr th:only-of-type {\n",
       "        vertical-align: middle;\n",
       "    }\n",
       "\n",
       "    .dataframe tbody tr th {\n",
       "        vertical-align: top;\n",
       "    }\n",
       "\n",
       "    .dataframe thead th {\n",
       "        text-align: right;\n",
       "    }\n",
       "</style>\n",
       "<table border=\"1\" class=\"dataframe\">\n",
       "  <thead>\n",
       "    <tr style=\"text-align: right;\">\n",
       "      <th></th>\n",
       "      <th>title</th>\n",
       "      <th>category_id</th>\n",
       "      <th>name</th>\n",
       "    </tr>\n",
       "  </thead>\n",
       "  <tbody>\n",
       "    <tr>\n",
       "      <th>9</th>\n",
       "      <td>Кольцо золото</td>\n",
       "      <td>40</td>\n",
       "      <td>Личные вещи|Часы и украшения|Ювелирные изделия</td>\n",
       "    </tr>\n",
       "    <tr>\n",
       "      <th>52</th>\n",
       "      <td>Телевизор Panasonic TX-PR65VT20</td>\n",
       "      <td>5</td>\n",
       "      <td>Бытовая электроника|Аудио и видео|Телевизоры и...</td>\n",
       "    </tr>\n",
       "    <tr>\n",
       "      <th>382</th>\n",
       "      <td>Apple MacBook Air 13 early 2015</td>\n",
       "      <td>1</td>\n",
       "      <td>Бытовая электроника|Ноутбуки</td>\n",
       "    </tr>\n",
       "  </tbody>\n",
       "</table>\n",
       "</div>"
      ],
      "text/plain": [
       "                               title  category_id  \\\n",
       "9                      Кольцо золото           40   \n",
       "52   Телевизор Panasonic TX-PR65VT20            5   \n",
       "382  Apple MacBook Air 13 early 2015            1   \n",
       "\n",
       "                                                  name  \n",
       "9       Личные вещи|Часы и украшения|Ювелирные изделия  \n",
       "52   Бытовая электроника|Аудио и видео|Телевизоры и...  \n",
       "382                       Бытовая электроника|Ноутбуки  "
      ]
     },
     "execution_count": 301,
     "metadata": {},
     "output_type": "execute_result"
    }
   ],
   "source": [
    "data[data.name.isin(data.name.value_counts()[-3:].index)].drop_duplicates(subset='name')"
   ]
  },
  {
   "cell_type": "markdown",
   "metadata": {},
   "source": [
    "Видим, что в бытовой технике могут быть довольно редкие сочетания букв, например \"K50AB\", есть слова с орфографическими ошибками (\"гаршок\"). Есть и частые слова, которые встретились в 2 из 6 объявлений. "
   ]
  },
  {
   "cell_type": "markdown",
   "metadata": {},
   "source": [
    "**Названия категорий**\n",
    "\n",
    "Посмотрим на названия категорий:"
   ]
  },
  {
   "cell_type": "code",
   "execution_count": 302,
   "metadata": {},
   "outputs": [
    {
     "data": {
      "text/plain": [
       "array(['Хобби и отдых|Спорт и отдых|Другое',\n",
       "       'Для дома и дачи|Мебель и интерьер|Освещение',\n",
       "       'Бытовая электроника|Товары для компьютера|Сетевое оборудование'],\n",
       "      dtype=object)"
      ]
     },
     "execution_count": 302,
     "metadata": {},
     "output_type": "execute_result"
    }
   ],
   "source": [
    "data.name.unique()[:3]"
   ]
  },
  {
   "cell_type": "markdown",
   "metadata": {},
   "source": [
    "Видим, что категории могут находиться на разном уровне иерархии. Посмотрим, насколько сильно может отличаться глубина категории:"
   ]
  },
  {
   "cell_type": "code",
   "execution_count": 303,
   "metadata": {},
   "outputs": [
    {
     "data": {
      "text/plain": [
       "2     1406\n",
       "3    15973\n",
       "4     2621\n",
       "Name: name, dtype: int64"
      ]
     },
     "execution_count": 303,
     "metadata": {},
     "output_type": "execute_result"
    }
   ],
   "source": [
    "data.name.apply(lambda x: len(x.split('|'))).value_counts().sort_index()"
   ]
  },
  {
   "cell_type": "markdown",
   "metadata": {},
   "source": [
    "Можно подумать, как использовать данные о том, что у классов есть иерархическая структура."
   ]
  },
  {
   "cell_type": "markdown",
   "metadata": {},
   "source": [
    "**Статистики по текстам**\n",
    "\n",
    "Посмотрим, отличаются ли статистически тексты заголовков для разных категорий. Посчитаем количество уникальных символов в заголовке:"
   ]
  },
  {
   "cell_type": "code",
   "execution_count": 304,
   "metadata": {},
   "outputs": [
    {
     "data": {
      "text/plain": [
       "count    20000.000000\n",
       "mean        25.093300\n",
       "std         12.474148\n",
       "min          5.000000\n",
       "25%         15.000000\n",
       "50%         23.000000\n",
       "75%         34.000000\n",
       "max         50.000000\n",
       "Name: title, dtype: float64"
      ]
     },
     "execution_count": 304,
     "metadata": {},
     "output_type": "execute_result"
    }
   ],
   "source": [
    "data.title.apply(len).describe()"
   ]
  },
  {
   "cell_type": "markdown",
   "metadata": {},
   "source": [
    "Посмотрим на на распределение количества слов:"
   ]
  },
  {
   "cell_type": "code",
   "execution_count": 305,
   "metadata": {},
   "outputs": [
    {
     "data": {
      "text/plain": [
       "count    20000.00000\n",
       "mean         3.79825\n",
       "std          1.96368\n",
       "min          1.00000\n",
       "25%          2.00000\n",
       "50%          3.00000\n",
       "75%          5.00000\n",
       "max         14.00000\n",
       "Name: title, dtype: float64"
      ]
     },
     "execution_count": 305,
     "metadata": {},
     "output_type": "execute_result"
    }
   ],
   "source": [
    "data.title.apply(lambda x: len(x.split())).describe()"
   ]
  },
  {
   "cell_type": "markdown",
   "metadata": {},
   "source": [
    "В среднем в заголовках 3-4 слова. Заголовки короткие\n",
    "\n",
    "Интересно посмотреть на краевые случаи. Давайте выведем примеры, где в заголовок получилось уместить больше 12 слов:"
   ]
  },
  {
   "cell_type": "code",
   "execution_count": 306,
   "metadata": {},
   "outputs": [
    {
     "data": {
      "text/html": [
       "<div>\n",
       "<style scoped>\n",
       "    .dataframe tbody tr th:only-of-type {\n",
       "        vertical-align: middle;\n",
       "    }\n",
       "\n",
       "    .dataframe tbody tr th {\n",
       "        vertical-align: top;\n",
       "    }\n",
       "\n",
       "    .dataframe thead th {\n",
       "        text-align: right;\n",
       "    }\n",
       "</style>\n",
       "<table border=\"1\" class=\"dataframe\">\n",
       "  <thead>\n",
       "    <tr style=\"text-align: right;\">\n",
       "      <th></th>\n",
       "      <th>title</th>\n",
       "      <th>category_id</th>\n",
       "      <th>name</th>\n",
       "    </tr>\n",
       "  </thead>\n",
       "  <tbody>\n",
       "    <tr>\n",
       "      <th>3357</th>\n",
       "      <td>HP 17.3 / Core i5 / 4 озу / 2 видео/ как новый</td>\n",
       "      <td>1</td>\n",
       "      <td>Бытовая электроника|Ноутбуки</td>\n",
       "    </tr>\n",
       "    <tr>\n",
       "      <th>4272</th>\n",
       "      <td>Отдам 2 альбома для фото 10 х 15 на 96 и 48 фот</td>\n",
       "      <td>19</td>\n",
       "      <td>Для дома и дачи|Мебель и интерьер|Предметы инт...</td>\n",
       "    </tr>\n",
       "    <tr>\n",
       "      <th>8873</th>\n",
       "      <td>PS3 Slim + Ps Move + Ps Eye + 3 джойстика + 12...</td>\n",
       "      <td>4</td>\n",
       "      <td>Бытовая электроника|Игры, приставки и программ...</td>\n",
       "    </tr>\n",
       "  </tbody>\n",
       "</table>\n",
       "</div>"
      ],
      "text/plain": [
       "                                                  title  category_id  \\\n",
       "3357     HP 17.3 / Core i5 / 4 озу / 2 видео/ как новый            1   \n",
       "4272    Отдам 2 альбома для фото 10 х 15 на 96 и 48 фот           19   \n",
       "8873  PS3 Slim + Ps Move + Ps Eye + 3 джойстика + 12...            4   \n",
       "\n",
       "                                                   name  \n",
       "3357                       Бытовая электроника|Ноутбуки  \n",
       "4272  Для дома и дачи|Мебель и интерьер|Предметы инт...  \n",
       "8873  Бытовая электроника|Игры, приставки и программ...  "
      ]
     },
     "execution_count": 306,
     "metadata": {},
     "output_type": "execute_result"
    }
   ],
   "source": [
    "data[data.title.apply(lambda x: len(x.split()) > 12)].head(3)"
   ]
  },
  {
   "cell_type": "markdown",
   "metadata": {},
   "source": [
    "Все примеры из бытовой электроники. Значит, количество слов может послужить предиктором категории. Посчитаем статистики для категорий:"
   ]
  },
  {
   "cell_type": "code",
   "execution_count": 307,
   "metadata": {},
   "outputs": [
    {
     "data": {
      "text/plain": [
       "name\n",
       "Личные вещи|Одежда, обувь, аксессуары|Женская одежда|Платья и юбки     2.576190\n",
       "Для дома и дачи|Мебель и интерьер|Шкафы и комоды                       2.756219\n",
       "Личные вещи|Одежда, обувь, аксессуары|Женская одежда|Верхняя одежда    2.824074\n",
       "Name: word_count, dtype: float64"
      ]
     },
     "execution_count": 307,
     "metadata": {},
     "output_type": "execute_result"
    }
   ],
   "source": [
    "data['word_count'] = data.title.apply(lambda x: len(x.split()))\n",
    "data.groupby('name')['word_count'].mean().sort_values().head(3)"
   ]
  },
  {
   "cell_type": "markdown",
   "metadata": {},
   "source": [
    "Действительно, среднее количество слов для категории отличается в 2 раза."
   ]
  },
  {
   "cell_type": "code",
   "execution_count": 308,
   "metadata": {},
   "outputs": [
    {
     "data": {
      "text/plain": [
       "name\n",
       "Хобби и отдых|Велосипеды|Запчасти и аксессуары            5.508600\n",
       "Бытовая электроника|Телефоны|Аксессуары|Чехлы и плёнки    5.531429\n",
       "Хобби и отдых|Билеты и путешествия|Путешествия            5.641399\n",
       "Name: word_count, dtype: float64"
      ]
     },
     "execution_count": 308,
     "metadata": {},
     "output_type": "execute_result"
    }
   ],
   "source": [
    "data.groupby('name')['word_count'].mean().sort_values().tail(3)"
   ]
  },
  {
   "cell_type": "markdown",
   "metadata": {},
   "source": [
    "Кажется, что статистики по тексту могут помочь улучшить качество работы классификатора. С другой стороны, нужно хорошенько подумать, стоит ли использовать такие признаки в сервисе?  "
   ]
  },
  {
   "cell_type": "markdown",
   "metadata": {},
   "source": [
    "## Бейзлайн"
   ]
  },
  {
   "cell_type": "markdown",
   "metadata": {},
   "source": [
    "Разобьем данные на обучающую выборку и валидацию:"
   ]
  },
  {
   "cell_type": "code",
   "execution_count": 6,
   "metadata": {},
   "outputs": [],
   "source": [
    "train_titles, val_titles, y_train, y_val = train_test_split(\n",
    "    data['title'],\n",
    "    data['category_id'],\n",
    "    random_state=42, stratify=data['category_id'], test_size=0.05\n",
    ")"
   ]
  },
  {
   "cell_type": "code",
   "execution_count": 373,
   "metadata": {},
   "outputs": [
    {
     "data": {
      "text/plain": [
       "3639                  Продаю входную металлическую дверь\n",
       "2489                                              Стенка\n",
       "19136                                     Системный блок\n",
       "4040       Наволочка двухцветкая 50x70 Бельпостель новая\n",
       "3257                     Лампа светодиодная для растений\n",
       "                              ...                       \n",
       "19076                             Платья желтое барадина\n",
       "19568                     iPhone 4 в идеальном состоянии\n",
       "4089                   Моноблок 18.5\" Acer Aspire Z1-601\n",
       "17823                 Детская кровать \"Лютик\" с матрасом\n",
       "19400    Виброплита поступательного движения grost VH 80\n",
       "Name: title, Length: 19000, dtype: object"
      ]
     },
     "execution_count": 373,
     "metadata": {},
     "output_type": "execute_result"
    }
   ],
   "source": [
    "train_titles"
   ]
  },
  {
   "cell_type": "markdown",
   "metadata": {},
   "source": [
    "Обычно, в задачах классификации первым бейзлайном является предсказание самым популярным классом. Но когда выборка сбалансирована, а классов много, такой бейзлайн не очень информативен:"
   ]
  },
  {
   "cell_type": "code",
   "execution_count": 6,
   "metadata": {},
   "outputs": [
    {
     "data": {
      "text/plain": [
       "0.022"
      ]
     },
     "execution_count": 6,
     "metadata": {},
     "output_type": "execute_result"
    }
   ],
   "source": [
    "(y_val == y_train.mode().values[0]).mean()"
   ]
  },
  {
   "cell_type": "markdown",
   "metadata": {},
   "source": [
    "## CountVectorizer "
   ]
  },
  {
   "cell_type": "markdown",
   "metadata": {},
   "source": [
    "Для получения матриц признаков преобразуем заголовки с помощью CountVectorizer():"
   ]
  },
  {
   "cell_type": "code",
   "execution_count": 33,
   "metadata": {},
   "outputs": [],
   "source": [
    "count_vectorizer = CountVectorizer()\n",
    "\n",
    "X_train = count_vectorizer.fit_transform(train_titles.values)\n",
    "X_val = count_vectorizer.transform(val_titles.values)"
   ]
  },
  {
   "cell_type": "code",
   "execution_count": 8,
   "metadata": {},
   "outputs": [],
   "source": [
    "count_vectorizer = TfidfVectorizer(analyzer='char_wb', ngram_range=(3, 6), min_df=1)\n",
    "X_train = count_vectorizer.fit_transform(train_titles.values)\n",
    "X_val = count_vectorizer.transform(val_titles.values)"
   ]
  },
  {
   "cell_type": "code",
   "execution_count": 9,
   "metadata": {},
   "outputs": [
    {
     "data": {
      "text/plain": [
       "<19000x217877 sparse matrix of type '<class 'numpy.float64'>'\n",
       "\twith 1272231 stored elements in Compressed Sparse Row format>"
      ]
     },
     "execution_count": 9,
     "metadata": {},
     "output_type": "execute_result"
    }
   ],
   "source": [
    "X_train"
   ]
  },
  {
   "cell_type": "markdown",
   "metadata": {},
   "source": [
    "<p>В данном случае вместо&nbsp;<span class=\"math-tex\">\\(15000 \\times 17316=259740000\\)</span>&nbsp;значений мы храним всего&nbsp;<span class=\"math-tex\">\\(54676\\)</span> тройки&nbsp;<span class=\"math-tex\">\\((i, j, x_j^{(i)})\\)</span>. Это&nbsp;1500&nbsp;раз меньше!</p>\n",
    "\n",
    "<p>Sparse формат не доставляет никаких неудобств &mdash;&nbsp;все полезные функции можно применять к матрицам в разреженном формате. Единственное &laquo;неудобство&raquo;&nbsp;&mdash;&nbsp;нельзя посмотреть&nbsp;на матрицу.<span style=\"color:#a03881\"> </span>Но в данном случае этого делать не нужно, потому что всё, что мы увидим, это матрица&nbsp;из нулей. Не повторяйте этого на практике, на больших&nbsp;выборках преобразованные данные могут не поместиться в оперативную память:</p>"
   ]
  },
  {
   "cell_type": "code",
   "execution_count": 35,
   "metadata": {},
   "outputs": [
    {
     "data": {
      "text/plain": [
       "array([[0, 0, 0, ..., 0, 0, 0],\n",
       "       [0, 0, 0, ..., 0, 0, 0],\n",
       "       [0, 0, 0, ..., 0, 0, 0],\n",
       "       ...,\n",
       "       [0, 0, 0, ..., 0, 0, 0],\n",
       "       [0, 0, 0, ..., 0, 0, 0],\n",
       "       [0, 0, 0, ..., 0, 0, 0]], dtype=int64)"
      ]
     },
     "execution_count": 35,
     "metadata": {},
     "output_type": "execute_result"
    }
   ],
   "source": [
    "X_train.toarray()"
   ]
  },
  {
   "cell_type": "markdown",
   "metadata": {},
   "source": [
    "Посмотрим на получившийся словарь:"
   ]
  },
  {
   "cell_type": "code",
   "execution_count": 36,
   "metadata": {},
   "outputs": [
    {
     "name": "stdout",
     "output_type": "stream",
     "text": [
      "words in vocab:  20203\n"
     ]
    },
    {
     "data": {
      "text/plain": [
       "{'шторы': 19828,\n",
       " 'тюль': 18667,\n",
       " 'тарелки': 18229,\n",
       " 'глубокие': 10593,\n",
       " 'продам': 16201,\n",
       " 'откосы': 15051,\n",
       " 'обналичку': 14747,\n",
       " 'счетчик': 18126,\n",
       " 'воды': 10171,\n",
       " '15': 420,\n",
       " 'бетар': 9425,\n",
       " 'kop': 5330,\n",
       " 'импорт': 11896,\n",
       " 'исландия': 11996,\n",
       " '10': 120,\n",
       " 'эйре': 19890,\n",
       " '1961': 699,\n",
       " 'фанки': 18927,\n",
       " 'тайм': 18179,\n",
       " 'композ': 12644,\n",
       " 'n12': 6105,\n",
       " 'samsung': 7164,\n",
       " 'galaxy': 4546,\n",
       " 's3': 7086,\n",
       " 'duos': 3916,\n",
       " 'шарм': 19620,\n",
       " 'sunlight': 7624,\n",
       " 'крышка': 13034,\n",
       " 'zepter': 8646,\n",
       " 'synchro': 7671,\n",
       " 'click': 3436,\n",
       " 'панельку': 15197,\n",
       " 'на': 14313,\n",
       " 'iphone': 5095,\n",
       " '5s': 1860,\n",
       " 'grand': 4670,\n",
       " 'theft': 7797,\n",
       " 'auto': 2783,\n",
       " 'ps': 6715,\n",
       " 'телевизор': 18277,\n",
       " 'lg': 5490,\n",
       " 'сапоги': 17093,\n",
       " 'фрг': 19134,\n",
       " 'марок': 13668,\n",
       " '1990': 731,\n",
       " 'серебро': 17299,\n",
       " '800': 2198,\n",
       " 'лет': 13298,\n",
       " 'тевтонскому': 18265,\n",
       " 'орде': 14943,\n",
       " 'пуховая': 16381,\n",
       " 'косынка': 12839,\n",
       " 'sony': 7457,\n",
       " 'xperia': 8540,\n",
       " 'z2': 8602,\n",
       " 'андорра': 8982,\n",
       " 'из': 11831,\n",
       " 'москвы': 14172,\n",
       " 'часы': 19473,\n",
       " 'apple': 2662,\n",
       " 'watch': 8303,\n",
       " 'или': 11877,\n",
       " 'обменяю': 14746,\n",
       " 'игры': 11817,\n",
       " 'ps3': 6718,\n",
       " 'ваза': 9807,\n",
       " 'латунь': 13213,\n",
       " 'комплект': 12632,\n",
       " 'детского': 11008,\n",
       " 'постельного': 15985,\n",
       " 'белья': 9365,\n",
       " 'lumia': 5618,\n",
       " '920': 2360,\n",
       " 'black': 3018,\n",
       " 'люстра': 13500,\n",
       " 'югославия': 20111,\n",
       " 'бронза': 9688,\n",
       " 'рублей': 16873,\n",
       " '2015': 845,\n",
       " 'ммд': 14018,\n",
       " 'крымская': 13027,\n",
       " 'наступательная': 14452,\n",
       " 'операция': 14908,\n",
       " 'хрусталь': 19327,\n",
       " 'женские': 11466,\n",
       " 'полупрозрачном': 15882,\n",
       " 'корпусе': 12806,\n",
       " 'новая': 14624,\n",
       " 'шапка': 19610,\n",
       " 'диван': 11070,\n",
       " 'дамаск': 10823,\n",
       " 'новый': 14642,\n",
       " 'microsoft': 5899,\n",
       " '640': 1967,\n",
       " 'xl': 8528,\n",
       " 'nokia': 6261,\n",
       " 'x2': 8471,\n",
       " '02': 57,\n",
       " 'керамический': 12322,\n",
       " 'рог': 16757,\n",
       " 'для': 11141,\n",
       " 'вина': 10077,\n",
       " 'hilti': 4861,\n",
       " 'gx': 4744,\n",
       " '120': 271,\n",
       " 'nan': 6164,\n",
       " 'гипоаллергенный': 10544,\n",
       " '400': 1462,\n",
       " 's5': 7103,\n",
       " 'мобильный': 14036,\n",
       " 'телефон': 18286,\n",
       " 'l925': 5395,\n",
       " 'кольцо': 12574,\n",
       " 'золото': 11757,\n",
       " '585': 1837,\n",
       " 'бриллиантами': 9670,\n",
       " 'армейский': 9066,\n",
       " 'мужской': 14221,\n",
       " 'подарок': 15653,\n",
       " 'игровой': 11808,\n",
       " 'компьютер': 12660,\n",
       " 'ядра': 20139,\n",
       " 'гига': 10508,\n",
       " 'вилки': 10071,\n",
       " 'костяными': 12836,\n",
       " 'ручками': 16937,\n",
       " 'ссср': 17812,\n",
       " 'системный': 17402,\n",
       " 'блок': 9512,\n",
       " 'е8400': 11359,\n",
       " 'озу': 14863,\n",
       " 'ddr3': 3687,\n",
       " 'гиг': 10507,\n",
       " 'кровать': 12974,\n",
       " 'италия': 12025,\n",
       " 'peg': 6497,\n",
       " 'perego': 6509,\n",
       " 'completo': 3477,\n",
       " 'цвет': 19358,\n",
       " 'руль': 16909,\n",
       " 'кампьютера': 12129,\n",
       " 'диалог': 11062,\n",
       " 'гонок': 10648,\n",
       " 'пластик': 15529,\n",
       " 'контейнер': 12698,\n",
       " 'дезинфекции': 10928,\n",
       " 'ман': 13619,\n",
       " 'инструмент': 11938,\n",
       " 'фото': 19102,\n",
       " 'ноутбук': 14691,\n",
       " 'разборку': 16474,\n",
       " 'ложки': 13410,\n",
       " 'мнц': 14030,\n",
       " 'зиш': 11734,\n",
       " '1950': 688,\n",
       " 'ые': 19875,\n",
       " 'годы': 10617,\n",
       " 'трельяж': 18529,\n",
       " 'молочного': 14101,\n",
       " 'цвета': 19360,\n",
       " 'коляску': 12579,\n",
       " 'apart': 2653,\n",
       " 'сабвуфер': 16995,\n",
       " '012': 44,\n",
       " '21qsebb00178c': 914,\n",
       " '19': 639,\n",
       " '99': 2411,\n",
       " 'kubcirkonii': 5352,\n",
       " '18': 574,\n",
       " 'кольца': 12570,\n",
       " '925': 2363,\n",
       " 'наручные': 14417,\n",
       " 'fossil': 4399,\n",
       " 'am4562': 2607,\n",
       " 'конфетница': 12710,\n",
       " 'старинная': 17851,\n",
       " 'старинное': 17852,\n",
       " 'зеркало': 11713,\n",
       " 'стул': 18051,\n",
       " 'кормления': 12767,\n",
       " 'happy': 4788,\n",
       " 'baby': 2850,\n",
       " 'william': 8368,\n",
       " 'blue': 3034,\n",
       " 'настенное': 14438,\n",
       " 'раме': 16545,\n",
       " 'протанга': 16261,\n",
       " 'реставрация': 16709,\n",
       " 'икон': 11870,\n",
       " 'методические': 13889,\n",
       " 'рекомендации': 16675,\n",
       " 'косметичка': 12823,\n",
       " 'мак': 13556,\n",
       " 'mac': 5690,\n",
       " 'softsac': 7435,\n",
       " 'medium': 5832,\n",
       " 'электрический': 19940,\n",
       " 'чайник': 19445,\n",
       " 'tefal': 7767,\n",
       " 'prelude': 6662,\n",
       " 'детская': 11004,\n",
       " 'кроватка': 12971,\n",
       " 'шери': 19677,\n",
       " 'бандана': 9234,\n",
       " 'buff': 3145,\n",
       " 'original': 6369,\n",
       " 'le': 5452,\n",
       " 'mans': 5729,\n",
       " '16': 473,\n",
       " '10764000': 201,\n",
       " 'fc': 4286,\n",
       " 'отдых': 15038,\n",
       " 'испании': 11997,\n",
       " 'летом': 13310,\n",
       " '2016': 847,\n",
       " 'фритюрница': 19152,\n",
       " 'moulinex': 6006,\n",
       " 'серебрянные': 17302,\n",
       " 'серьги': 17322,\n",
       " 'гидроизоляция': 10517,\n",
       " 'ленты': 13271,\n",
       " 'выпускников': 10323,\n",
       " 'итальянский': 12029,\n",
       " 'пеленальный': 15307,\n",
       " 'комод': 12616,\n",
       " 'ванночкой': 9834,\n",
       " 'продаю': 16203,\n",
       " 'как': 12081,\n",
       " 'прожектор': 16217,\n",
       " 'галогенный': 10403,\n",
       " 'стерилизатор': 17924,\n",
       " 'avent': 2793,\n",
       " 'z1': 8599,\n",
       " 'идеал': 11820,\n",
       " 'шкаф': 19740,\n",
       " 'купе': 13087,\n",
       " 'wi': 8355,\n",
       " 'fi': 4319,\n",
       " 'адаптер': 8764,\n",
       " 'link': 5519,\n",
       " 'dwa': 3934,\n",
       " '126': 306,\n",
       " 'чайные': 19449,\n",
       " 'времен': 10247,\n",
       " 'гриллер': 10756,\n",
       " 'цептер': 19406,\n",
       " 'd265мм': 3641,\n",
       " 'норковая': 14674,\n",
       " 'шуба': 19842,\n",
       " 'недорого': 14508,\n",
       " 'хорошем': 19298,\n",
       " 'состоянии': 17699,\n",
       " 'машина': 13763,\n",
       " 'манеж': 13627,\n",
       " 'st': 7532,\n",
       " '25i': 1035,\n",
       " 'генератор': 10469,\n",
       " 'hyundai': 4966,\n",
       " 'hy2000si': 4959,\n",
       " 'бензин': 9373,\n",
       " 'идеальное': 11823,\n",
       " 'состояние': 17698,\n",
       " '3500': 1341,\n",
       " '6игр': 2043,\n",
       " 'болторез': 9579,\n",
       " '900': 2333,\n",
       " 'мм': 14017,\n",
       " 'электроакустика': 19944,\n",
       " 'martinez': 5756,\n",
       " 'faw': 4282,\n",
       " '817eq': 2237,\n",
       " 'nat': 6179,\n",
       " 'учебники': 18896,\n",
       " 'класс': 12384,\n",
       " 'по': 15620,\n",
       " 'программе': 16183,\n",
       " '2100': 890,\n",
       " 'ворота': 10215,\n",
       " 'кованые': 12462,\n",
       " 'стиральная': 17949,\n",
       " 'ariston': 2693,\n",
       " 'ходунки': 19263,\n",
       " 'babyton': 2855,\n",
       " 'сумка': 18080,\n",
       " 'bottega': 3083,\n",
       " 'veneta': 8118,\n",
       " 'оригинал': 14950,\n",
       " 'электронные': 19976,\n",
       " 'ферари': 18969,\n",
       " 'розницу': 16785,\n",
       " 'опт': 14922,\n",
       " 'мультиварка': 14244,\n",
       " 'zr': 8676,\n",
       " 'учебник': 18895,\n",
       " 'история': 12015,\n",
       " 'россии': 16833,\n",
       " 'данилов': 10825,\n",
       " 'маршрутизатор': 13679,\n",
       " 'dir': 3786,\n",
       " '100': 121,\n",
       " 'противогаз': 16265,\n",
       " 'спальный': 17729,\n",
       " 'гарнитур': 10435,\n",
       " 'тумба': 18618,\n",
       " 'ванны': 9837,\n",
       " 'раковиной': 16538,\n",
       " 'мирта': 13995,\n",
       " 'керамзитоблоки': 12317,\n",
       " 'ковер': 12464,\n",
       " 'русская': 16918,\n",
       " 'красавица': 12897,\n",
       " '2х3': 1189,\n",
       " 'airport': 2556,\n",
       " 'express': 4212,\n",
       " '802': 2207,\n",
       " '11n': 269,\n",
       " 'm9470z': 5687,\n",
       " 'встраиваемый': 10274,\n",
       " 'светильник': 17153,\n",
       " 'acuto': 2517,\n",
       " 'led': 5463,\n",
       " '070054': 97,\n",
       " 'горящий': 10694,\n",
       " 'тур': 18632,\n",
       " 'доминикану': 11198,\n",
       " 'кожаная': 12489,\n",
       " 'юбка': 20102,\n",
       " 'статуэтки': 17873,\n",
       " 'жевотных': 11439,\n",
       " 'угловой': 18691,\n",
       " 'акустическая': 8856,\n",
       " 'гитара': 10561,\n",
       " 'платье': 15551,\n",
       " 'жаккард': 11427,\n",
       " 'масленичный': 13690,\n",
       " 'панель': 15196,\n",
       " 'диммер': 11091,\n",
       " 'женский': 11468,\n",
       " 'кожаный': 12495,\n",
       " 'ремень': 16680,\n",
       " 'vera': 8123,\n",
       " 'pelle': 6501,\n",
       " 'чехлы': 19543,\n",
       " 'meizu': 5836,\n",
       " 'm2': 5653,\n",
       " 'mini': 5929,\n",
       " 'note': 6271,\n",
       " 'дверь': 10859,\n",
       " 'ламинированная': 13179,\n",
       " 'тип': 18385,\n",
       " 'бандаж': 9231,\n",
       " 'шейный': 19662,\n",
       " 'отдел': 15032,\n",
       " 'позвоничника': 15771,\n",
       " 'стенка': 17913,\n",
       " 'детской': 11010,\n",
       " 'молокоотсос': 14092,\n",
       " 'пододеяльник': 15713,\n",
       " 'махрового': 13756,\n",
       " 'полотна': 15860,\n",
       " 'входные': 10296,\n",
       " 'двери': 10850,\n",
       " 'установкой': 18862,\n",
       " 'бритва': 9680,\n",
       " 'philips': 6539,\n",
       " 'бронзовая': 9689,\n",
       " 'рожковая': 16776,\n",
       " 'плафонами': 15557,\n",
       " 'кронштейн': 12990,\n",
       " 'cameron': 3238,\n",
       " 'спиннинговое': 17753,\n",
       " 'удилище': 18716,\n",
       " 'gad': 4535,\n",
       " 'p21': 6400,\n",
       " 'booch': 3067,\n",
       " '228см': 952,\n",
       " 'системник': 17399,\n",
       " 'geforce': 4577,\n",
       " '8600': 2275,\n",
       " '51': 1714,\n",
       " 'меховой': 13912,\n",
       " 'конверт': 12677,\n",
       " 'голубой': 10644,\n",
       " 'греция': 10748,\n",
       " 'крит': 12966,\n",
       " 'майские': 13555,\n",
       " 'праздники': 16042,\n",
       " 'бампер': 9227,\n",
       " 'принтом': 16138,\n",
       " 'пеларгонии': 15304,\n",
       " 'светодиодный': 17172,\n",
       " '1195x595x50мм': 264,\n",
       " '72': 2104,\n",
       " 'вт': 10282,\n",
       " 'сборе': 17122,\n",
       " 'дома': 11182,\n",
       " 'офиса': 15093,\n",
       " 'много': 14020,\n",
       " 'мониторов': 14123,\n",
       " '107': 197,\n",
       " 'см': 17521,\n",
       " 'алое': 8897,\n",
       " 'вера': 9955,\n",
       " 'e1': 3948,\n",
       " 'd2005': 3633,\n",
       " 'вьетнам': 10365,\n",
       " 'нячанг': 14719,\n",
       " 'вылет': 10312,\n",
       " '17': 519,\n",
       " 'февраля': 18957,\n",
       " '12': 270,\n",
       " 'ночей': 14695,\n",
       " 'колыбель': 12564,\n",
       " 'люлька': 13491,\n",
       " 'pali': 6440,\n",
       " 'prestige': 6670,\n",
       " 'полировочная': 15822,\n",
       " 'elitech': 4084,\n",
       " 'мп': 14195,\n",
       " '1418э': 392,\n",
       " 'гирлянда': 10555,\n",
       " 'водопад': 10168,\n",
       " 'дождь': 11164,\n",
       " 'бахрома': 9302,\n",
       " 'занавес': 11609,\n",
       " 'штора': 19824,\n",
       " 'admira': 2529,\n",
       " 'malaga': 5717,\n",
       " 'испания': 11999,\n",
       " '16gb': 507,\n",
       " 'сандали': 17074,\n",
       " 'dior': 3785,\n",
       " 'джинсовка': 11038,\n",
       " 'бас': 9277,\n",
       " 'stagg': 7545,\n",
       " '8910i': 2297,\n",
       " 'ko': 5324,\n",
       " '410': 1505,\n",
       " 'thermovision': 7805,\n",
       " 'испанская': 12000,\n",
       " 'серебряная': 17300,\n",
       " 'монета': 14112,\n",
       " 'евро': 11363,\n",
       " '2008': 817,\n",
       " 'год': 10611,\n",
       " 'ванну': 9835,\n",
       " 'гидромассажем': 10521,\n",
       " 'нокиа': 14660,\n",
       " '1110': 243,\n",
       " 'антирадар': 9010,\n",
       " 'японская': 20169,\n",
       " 'качественная': 12254,\n",
       " 'музыка': 14229,\n",
       " 'машину': 13768,\n",
       " 'цена': 19386,\n",
       " '3000': 1199,\n",
       " 'ротгипс': 16850,\n",
       " 'мутоновая': 14274,\n",
       " 'набор': 14316,\n",
       " 'маникюра': 13634,\n",
       " 'педикюра': 15296,\n",
       " 'farcry': 4273,\n",
       " 'сварочный': 17142,\n",
       " 'аппарат': 9026,\n",
       " 'сюзане': 18147,\n",
       " 'ручной': 16941,\n",
       " 'работы': 16435,\n",
       " 'шелк': 19667,\n",
       " 'размер': 16507,\n",
       " '150x210': 432,\n",
       " 'компрессор': 12656,\n",
       " 'поршневой': 15964,\n",
       " 'диолд': 11106,\n",
       " 'кмп': 12432,\n",
       " '1600': 475,\n",
       " '50': 1661,\n",
       " 'кошелек': 12870,\n",
       " 'подарочный': 15658,\n",
       " 'xbox': 8507,\n",
       " '360': 1367,\n",
       " 'kinect': 5305,\n",
       " 'note2': 6272,\n",
       " 'n7100': 6145,\n",
       " 'без': 9325,\n",
       " 'корпуса': 12805,\n",
       " 'abloy': 2498,\n",
       " 'el410': 4061,\n",
       " 'смесь': 17546,\n",
       " 'симилак': 17364,\n",
       " 'премиум': 16082,\n",
       " 'hitachi': 4868,\n",
       " 'h65sb2': 4765,\n",
       " 'чердак': 19498,\n",
       " 'письменный': 15491,\n",
       " 'столом': 17980,\n",
       " 'шкафом': 19743,\n",
       " 'детское': 11009,\n",
       " 'кресло': 12948,\n",
       " 'качалка': 12246,\n",
       " 'осп': 15003,\n",
       " 'плита': 15585,\n",
       " '12мм': 335,\n",
       " 'образный': 14765,\n",
       " 'замок': 11602,\n",
       " 'лыжи': 13466,\n",
       " 'ботинки': 9617,\n",
       " 'альбомы': 8909,\n",
       " 'монет': 14110,\n",
       " 'детский': 11006,\n",
       " 'мебель': 13786,\n",
       " 'шезлонг': 19659,\n",
       " 'укачивания': 18753,\n",
       " 'mamaroo': 5720,\n",
       " 'lego': 5466,\n",
       " '9488': 2386,\n",
       " 'nhl': 6234,\n",
       " 'ps4': 6720,\n",
       " 'jbl': 5169,\n",
       " 'charge': 3363,\n",
       " 'сервиз': 17278,\n",
       " 'сирень': 17394,\n",
       " 'чайно': 19448,\n",
       " 'кофейный': 12857,\n",
       " 'персон': 15383,\n",
       " 'bloom': 3032,\n",
       " 'zen': 8637,\n",
       " 'коляска': 12576,\n",
       " 'прогулочная': 16193,\n",
       " 'шубка': 19843,\n",
       " 'автоледи': 8731,\n",
       " '44р': 1558,\n",
       " 'akg': 2563,\n",
       " 'wms40': 8415,\n",
       " 'vocal': 8210,\n",
       " 'set': 7265,\n",
       " 'шт': 19812,\n",
       " 'зимние': 11726,\n",
       " 'кроссовки': 12993,\n",
       " 'nike': 6242,\n",
       " 'плестейшен4': 15572,\n",
       " 'чехол': 19545,\n",
       " 'со': 17586,\n",
       " 'стразами': 17993,\n",
       " '3d': 1416,\n",
       " 'постельное': 15986,\n",
       " 'белье': 9363,\n",
       " 'тенсель': 18306,\n",
       " 'арт': 9077,\n",
       " 'т022': 18150,\n",
       " 'сибирь': 17337,\n",
       " 'skypemate': 7380,\n",
       " 'usb': 8051,\n",
       " 'w1dl': 8254,\n",
       " 'рюкзак': 16963,\n",
       " 'горшок': 10684,\n",
       " 'глиняный': 10586,\n",
       " 'кенгуру': 12309,\n",
       " 'move': 6009,\n",
       " 'playstation3': 6589,\n",
       " 'играми': 11805,\n",
       " 'романы': 16817,\n",
       " 'модуль': 14059,\n",
       " 'atheros': 2760,\n",
       " 'ar5bxb63': 2677,\n",
       " 'антеннами': 8998,\n",
       " 'box': 3091,\n",
       " 'wf8590nmw9': 8338,\n",
       " 'нуга': 14706,\n",
       " 'бест': 9420,\n",
       " 'масажер': 13681,\n",
       " 'ног': 14645,\n",
       " 'миостимуляией': 13984,\n",
       " 'колонки': 12555,\n",
       " 'sven': 7646,\n",
       " 'ms': 6024,\n",
       " '309': 1238,\n",
       " 'пальто': 15178,\n",
       " 'утеплённое': 18872,\n",
       " 'демисезонное': 10958,\n",
       " 'с1505': 16977,\n",
       " 'сонька': 17673,\n",
       " 'так': 18187,\n",
       " 'себ': 17218,\n",
       " 'послеоперационный': 15977,\n",
       " 'всей': 10258,\n",
       " 'семьи': 17261,\n",
       " '003': 18,\n",
       " 'кц0024043': 13127,\n",
       " 'красного': 12910,\n",
       " 'белого': 9348,\n",
       " 'золота': 11754,\n",
       " 'блузки': 9520,\n",
       " 'бадлоны': 9175,\n",
       " 'футболки': 19183,\n",
       " 'ceresit': 3337,\n",
       " 'cm': 3442,\n",
       " '14': 375,\n",
       " 'нетбук': 14571,\n",
       " 'msi': 6032,\n",
       " 'фурнитура': 19178,\n",
       " 'кухонной': 13120,\n",
       " 'мойки': 14077,\n",
       " 'фирмы': 19040,\n",
       " 'florentina': 4372,\n",
       " 'бра': 9633,\n",
       " 'лучшие': 13460,\n",
       " 'аксессуары': 8835,\n",
       " 'вашего': 9864,\n",
       " 'декоративные': 10942,\n",
       " 'цветы': 19379,\n",
       " 'светодиодах': 17167,\n",
       " 'костюм': 12832,\n",
       " 'горка': 10662,\n",
       " 'лето': 13309,\n",
       " 'черный': 19523,\n",
       " 'тк': 18395,\n",
       " 'рип': 16736,\n",
       " 'стоп': 17986,\n",
       " 'дальномер': 10819,\n",
       " 'саперный': 17090,\n",
       " 'два': 10846,\n",
       " 'жк': 11511,\n",
       " 'монитора': 14122,\n",
       " 'нерабочие': 14548,\n",
       " 'loft': 5544,\n",
       " 'interios': 5069,\n",
       " 'sospensione': 7460,\n",
       " 'lsp': 5595,\n",
       " '9674': 2398,\n",
       " 'картины': 12206,\n",
       " 'настольный': 14444,\n",
       " 'звонок': 11680,\n",
       " 'el': 4058,\n",
       " 'casco': 3289,\n",
       " 'ehx': 4051,\n",
       " 'metal': 5855,\n",
       " 'muff': 6053,\n",
       " 'with': 8389,\n",
       " 'top': 7873,\n",
       " 'boost': 3070,\n",
       " 'банан': 9230,\n",
       " 'тропикана': 18577,\n",
       " 'фея': 18978,\n",
       " 'тренажёр': 18535,\n",
       " 'прамотор': 16057,\n",
       " 'sr': 7516,\n",
       " 'snap': 7422,\n",
       " 'ego': 4047,\n",
       " 'номерам': 14667,\n",
       " 'афремов': 9141,\n",
       " 'микшерный': 13951,\n",
       " 'пульт': 16347,\n",
       " 'туалетный': 18611,\n",
       " 'столик': 17972,\n",
       " 'зеркалом': 11714,\n",
       " 'римини': 16732,\n",
       " 'тик': 18377,\n",
       " 'колготки': 12512,\n",
       " 'sisi': 7355,\n",
       " '20': 794,\n",
       " 'den': 3716,\n",
       " 'usd': 8052,\n",
       " '36': 1366,\n",
       " 'серии': 17313,\n",
       " 'президенты': 16074,\n",
       " 'сша': 18132,\n",
       " 'подсвечник': 15734,\n",
       " 'деревянный': 10989,\n",
       " 'лиственницы': 13362,\n",
       " 'футляр': 19185,\n",
       " 'ef': 4040,\n",
       " 'c1a2l': 3183,\n",
       " 'черная': 19508,\n",
       " 'кожа': 12488,\n",
       " 'хрустальная': 19328,\n",
       " 'цветок': 19371,\n",
       " 'золотые': 11761,\n",
       " 'трость': 18582,\n",
       " 'авс': 8721,\n",
       " 'система': 17398,\n",
       " 'shimano': 7305,\n",
       " 'claris': 3425,\n",
       " '2450': 988,\n",
       " '175мм': 560,\n",
       " 'под': 15649,\n",
       " 'каретку': 12186,\n",
       " 'санки': 17080,\n",
       " 'ядерный': 20138,\n",
       " 'phenom': 6535,\n",
       " 'amd': 2610,\n",
       " '6g': 2027,\n",
       " 'жкх': 11512,\n",
       " 'стол': 17965,\n",
       " 'трансформер': 18514,\n",
       " 'стулья': 18056,\n",
       " '44': 1548,\n",
       " 'размера': 16508,\n",
       " 'ободки': 14753,\n",
       " 'джойстик': 11045,\n",
       " 'геймпад': 10459,\n",
       " 'монитор': 14121,\n",
       " 'аристон': 9055,\n",
       " 'als': 2599,\n",
       " '129x': 321,\n",
       " 'куртка': 13103,\n",
       " 'mexx': 5860,\n",
       " 'adsl2': 2532,\n",
       " 'ethernet': 4169,\n",
       " 'router': 7006,\n",
       " 'профессиональная': 16278,\n",
       " 'hohner': 4884,\n",
       " 'mass': 5764,\n",
       " 'effect': 4042,\n",
       " 'нераспакованная': 14550,\n",
       " 'банные': 9241,\n",
       " 'веники': 9943,\n",
       " 'рукоделия': 16894,\n",
       " 'dimensions': 3779,\n",
       " 'мака': 13557,\n",
       " 's4': 7091,\n",
       " 'черн': 19507,\n",
       " 'серебряную': 17305,\n",
       " 'цепь': 19407,\n",
       " 'лица': 13383,\n",
       " 'старт': 17859,\n",
       " 'дуас': 11283,\n",
       " 'компрессионный': 12654,\n",
       " 'микродвигатель': 13935,\n",
       " 'терморегулятор': 18343,\n",
       " 'подвесной': 15671,\n",
       " 'eurosvet': 4184,\n",
       " '1626': 492,\n",
       " 'хром': 19323,\n",
       " 'sм': 7678,\n",
       " 'g313н': 4495,\n",
       " 'во': 10149,\n",
       " 'хюэ': 19346,\n",
       " 'стульчик': 18054,\n",
       " 'neonato': 6209,\n",
       " 'пустышка': 16359,\n",
       " 'nuk': 6293,\n",
       " 'стеллаж': 17906,\n",
       " 'икеа': 11867,\n",
       " 'каллакс': 12099,\n",
       " 'обеденный': 14728,\n",
       " '700х1100': 2070,\n",
       " 'пальма': 15176,\n",
       " 'ливистона': 13322,\n",
       " 'палки': 15174,\n",
       " 'горнолыжные': 10668,\n",
       " 'leki': 5468,\n",
       " 'wc': 8312,\n",
       " 'lite': 5524,\n",
       " 'sl': 7383,\n",
       " 'tr': 7902,\n",
       " '14г': 416,\n",
       " '90pc': 2349,\n",
       " 'новое': 14633,\n",
       " 'спортивный': 17776,\n",
       " 'не': 14486,\n",
       " 'промокаемый': 16238,\n",
       " 'розовый': 16793,\n",
       " 'детки': 11002,\n",
       " 'гладиолусов': 10575,\n",
       " 'излишки': 11845,\n",
       " 'более': 9574,\n",
       " 'сортов': 17683,\n",
       " 'салют': 17037,\n",
       " 'новогоднее': 14631,\n",
       " 'настроение': 14451,\n",
       " '6s': 2034,\n",
       " 'zyxel': 8686,\n",
       " '600series': 1898,\n",
       " 'продается': 16197,\n",
       " 'гостиная': 10698,\n",
       " 'fac': 4258,\n",
       " '502': 1679,\n",
       " 'тормозной': 18469,\n",
       " 'диск': 11111,\n",
       " 'мтб': 14209,\n",
       " '180': 575,\n",
       " 'великие': 9894,\n",
       " 'приставки': 16146,\n",
       " 'one': 6346,\n",
       " 'консоль': 12689,\n",
       " 'ornament': 6373,\n",
       " 'kare': 5263,\n",
       " 'design': 3731,\n",
       " 'радиатор': 16448,\n",
       " 'отопления': 15072,\n",
       " 'коньки': 12719,\n",
       " 'reebok': 6878,\n",
       " 'ev': 4186,\n",
       " 'zx1': 8683,\n",
       " '90': 2332,\n",
       " 'megafon': 5834,\n",
       " 'login': 5548,\n",
       " 'silver': 7340,\n",
       " 'lte': 5609,\n",
       " 'кож': 12487,\n",
       " 'mofi': 5974,\n",
       " 'max': 5778,\n",
       " 'core': 3511,\n",
       " 'sega': 7248,\n",
       " 'dreamcast': 3874,\n",
       " 'айфон': 8795,\n",
       " 'белый': 9360,\n",
       " 'запчасти': 11634,\n",
       " 'оригинальный': 14955,\n",
       " 'скальные': 17421,\n",
       " 'туфли': 18655,\n",
       " 'net': 6220,\n",
       " 'book': 3068,\n",
       " 'прошитый': 16304,\n",
       " 'уйма': 18750,\n",
       " 'игр': 11800,\n",
       " 'джойстика': 11046,\n",
       " 'роутера': 16854,\n",
       " 'лыжные': 13468,\n",
       " 'детские': 11005,\n",
       " 'клапан': 12379,\n",
       " 'подпиточный': 15716,\n",
       " 'watts': 8308,\n",
       " 'almd': 2595,\n",
       " 'alimat': 2587,\n",
       " 'мобиль': 14032,\n",
       " 'бум': 9741,\n",
       " 'бокс': 9566,\n",
       " 'коврик': 12469,\n",
       " 'от': 15013,\n",
       " 'tiny': 7834,\n",
       " 'love': 5571,\n",
       " 'тини': 18384,\n",
       " 'лав': 13141,\n",
       " 'брелок': 9660,\n",
       " 'настоящих': 14448,\n",
       " 'танкистов': 18213,\n",
       " 'мини': 13968,\n",
       " 'книжечка': 12442,\n",
       " 'библия': 9439,\n",
       " 'lenovo': 5474,\n",
       " 'ideacentre': 5011,\n",
       " 'b545g': 2841,\n",
       " '57312793': 1824,\n",
       " 'стир': 17945,\n",
       " 'bosch': 3076,\n",
       " 'w6252': 8266,\n",
       " 'гарантия': 10422,\n",
       " 'доставка': 11229,\n",
       " 'смартфон': 17529,\n",
       " 'samsunq': 7168,\n",
       " 'calaxu': 3224,\n",
       " 'acer': 2507,\n",
       " 'al1717': 2567,\n",
       " 'горелка': 10655,\n",
       " 'керосиновая': 12327,\n",
       " 'лампа': 13184,\n",
       " 'lt26w': 5603,\n",
       " 'acro': 2511,\n",
       " 'трикотажное': 18563,\n",
       " 'эффектное': 20086,\n",
       " 'коралловое': 12746,\n",
       " 'летнее': 13304,\n",
       " 'вафельница': 9861,\n",
       " 'электрическая': 19939,\n",
       " 'кортотека': 12815,\n",
       " 'выставки': 10347,\n",
       " 'салона': 17027,\n",
       " 'terani': 7775,\n",
       " 'новые': 14641,\n",
       " '34': 1328,\n",
       " 'арктика': 9059,\n",
       " 'syncmaster': 7673,\n",
       " '743n': 2131,\n",
       " 'икея': 11869,\n",
       " 'panasonik': 6445,\n",
       " '42': 1517,\n",
       " 'dm': 3820,\n",
       " 'mk': 5954,\n",
       " 'summer': 7618,\n",
       " 'big': 2993,\n",
       " 'йогуртница': 12043,\n",
       " 'smile': 7415,\n",
       " 'ym': 8581,\n",
       " '3012': 1221,\n",
       " 'inglesina': 5057,\n",
       " 'vittoria': 8200,\n",
       " 'рст': 16858,\n",
       " 's6': 7115,\n",
       " '32гб': 1305,\n",
       " 'студийные': 18048,\n",
       " 'мониторы': 14125,\n",
       " 'audio': 2774,\n",
       " 'studiophile': 7607,\n",
       " 'bx5a': 3169,\n",
       " 'кукла': 13065,\n",
       " 'гдр': 10455,\n",
       " 'копытка': 12739,\n",
       " 'schalkau': 7209,\n",
       " 'каталка': 12229,\n",
       " 'велопокрышка': 9911,\n",
       " 'kenda': 5279,\n",
       " 'х2': 19195,\n",
       " '00': 0,\n",
       " '54': 1769,\n",
       " '406': 1484,\n",
       " 'k884': 5244,\n",
       " 'низкий': 14587,\n",
       " 'shock': 7312,\n",
       " 'gma': 4644,\n",
       " 's110gd': 7067,\n",
       " '4a1': 1615,\n",
       " 'работника': 16434,\n",
       " 'склада': 17441,\n",
       " 'настенные': 14439,\n",
       " 'mirron': 5941,\n",
       " 'белые': 9359,\n",
       " 'приготовления': 16114,\n",
       " 'смеси': 17540,\n",
       " 'графин': 10737,\n",
       " 'стаканами': 17825,\n",
       " 'винтаж': 10088,\n",
       " 'детективы': 11000,\n",
       " 'ларисы': 13201,\n",
       " 'соболевой': 17598,\n",
       " 'массива': 13703,\n",
       " 'журнальный': 11522,\n",
       " 'соковыжималка': 17632,\n",
       " 'scarlett': 7200,\n",
       " 'стильный': 17940,\n",
       " 'letv': 5484,\n",
       " '1s': 768,\n",
       " 'gold': 4650,\n",
       " '3gb': 1420,\n",
       " '32gb': 1296,\n",
       " 'fhd': 4317,\n",
       " 'книжные': 12447,\n",
       " 'полки': 15832,\n",
       " 'книгами': 12438,\n",
       " 'кадка': 12069,\n",
       " 'дубовая': 11293,\n",
       " 'текстильные': 18271,\n",
       " 'игрушки': 11816,\n",
       " 'лицензионные': 13384,\n",
       " 'акустика': 8852,\n",
       " 'siemens': 7327,\n",
       " 'klangfilm': 5316,\n",
       " 'kl': 5315,\n",
       " '405': 1480,\n",
       " 'ipad': 5089,\n",
       " 'white': 8350,\n",
       " 'параплан': 15217,\n",
       " 'niviuk': 6253,\n",
       " 'kougar': 5337,\n",
       " 'наличии': 14387,\n",
       " 'хохлома': 19307,\n",
       " 'v3': 8074,\n",
       " '551g': 1794,\n",
       " 'fifa': 4324,\n",
       " '11': 233,\n",
       " 'крепление': 12938,\n",
       " 'projector': 6697,\n",
       " 'floor': 4370,\n",
       " 'stand': 7546,\n",
       " 'рубанок': 16863,\n",
       " 'ppl800a': 6651,\n",
       " 'ветровка': 10006,\n",
       " 'f5': 4242,\n",
       " 'блендер': 9498,\n",
       " 'polaris': 6616,\n",
       " 'core2': 3512,\n",
       " 'оберег': 14733,\n",
       " 'тарелка': 18227,\n",
       " 'домовенком': 11200,\n",
       " 'ортез': 14963,\n",
       " 'голеностопный': 10625,\n",
       " 'сустав': 18102,\n",
       " 'защитные': 11656,\n",
       " 'пленки': 15570,\n",
       " '4s': 1628,\n",
       " 'чулки': 19582,\n",
       " 'компрессионные': 12653,\n",
       " '1070': 198,\n",
       " 'индию': 11922,\n",
       " 'снегокат': 17564,\n",
       " 'монеты': 14119,\n",
       " 'бутылки': 9762,\n",
       " 'поильники': 15784,\n",
       " 'сосок': 17693,\n",
       " 'ложка': 13409,\n",
       " 'ниблер': 14580,\n",
       " 'мойка': 14076,\n",
       " 'приют': 16161,\n",
       " 'bork': 3073,\n",
       " 'z800': 8613,\n",
       " 'мельхиоровый': 13842,\n",
       " 'кофейник': 12854,\n",
       " 'ух': 18887,\n",
       " 'модульная': 14060,\n",
       " 'польская': 15897,\n",
       " ...}"
      ]
     },
     "execution_count": 36,
     "metadata": {},
     "output_type": "execute_result"
    }
   ],
   "source": [
    "print('words in vocab: ', len(count_vectorizer.vocabulary_))\n",
    "count_vectorizer.vocabulary_"
   ]
  },
  {
   "cell_type": "markdown",
   "metadata": {},
   "source": [
    "Убедимся, что необходимые значения хранятся по индексам из словаря:"
   ]
  },
  {
   "cell_type": "code",
   "execution_count": 37,
   "metadata": {},
   "outputs": [
    {
     "data": {
      "text/plain": [
       "2"
      ]
     },
     "execution_count": 37,
     "metadata": {},
     "output_type": "execute_result"
    }
   ],
   "source": [
    "count_vectorizer.transform(['Продам продам'])[0, count_vectorizer.vocabulary_['продам']]"
   ]
  },
  {
   "cell_type": "markdown",
   "metadata": {},
   "source": [
    "Видим, что CountVectorizer автоматически приводит слова к нижнему регистру."
   ]
  },
  {
   "cell_type": "markdown",
   "metadata": {},
   "source": [
    "Важные параметры\n",
    "\n",
    "Класс CountVectorizer содержит все нужные параметры для настройки преобразования под вашу задачу:"
   ]
  },
  {
   "cell_type": "markdown",
   "metadata": {},
   "source": [
    "<pre>\n",
    "<code class=\"language-python\">CountVectorizer(\n",
    "    *,\n",
    "    input='content',\n",
    "    encoding='utf-8',\n",
    "    decode_error='strict',\n",
    "    strip_accents=None,\n",
    "    lowercase=True,\n",
    "    preprocessor=None,\n",
    "    tokenizer=None,\n",
    "    stop_words=None,\n",
    "    token_pattern='(?u)\\\\b\\\\w\\\\w+\\\\b',\n",
    "    ngram_range=(1, 1),\n",
    "    analyzer='word',\n",
    "    max_df=1.0,\n",
    "    min_df=1,\n",
    "    max_features=None,\n",
    "    vocabulary=None,\n",
    "    binary=False,\n",
    "    dtype=&lt;class 'numpy.int64'&gt;,\n",
    ")</code></pre>"
   ]
  },
  {
   "cell_type": "markdown",
   "metadata": {},
   "source": [
    "<p>Рассмотрим наиболее важные из них:</p>\n",
    "\n",
    "<ul>\n",
    "\t<li><code>max_df</code>, <code>min_df</code>&nbsp;&mdash;&nbsp;параметры, позволяющие фильтровать слова по порогу встречаемости. Если вы передаёте в параметры действительные числа от 0 до 1, это это максимальная и минимальная доля встречаемости слова. Если целые, то абсолютное значение встречаемости;</li>\n",
    "\t<li><code>ngram_range</code>&nbsp;&mdash;&nbsp;диапазон n-грамм: (1, 3) &mdash;&nbsp;значит, включить в словарь&nbsp;униграммы, биграммы и тригаммы;</li>\n",
    "\t<li><code>analyzer</code>&nbsp;&mdash;&nbsp;определяет, что считать токеном. Есть возможность токенезировать по словам, буквам и буквам с учётом окончаний слов. Может работать особенно эффективно в сочетании с учётом n-грамм;</li>\n",
    "\t<li><code>token_pattern</code>&nbsp;&mdash; регулярное выражение для токенизации.</li>\n",
    "</ul>\n"
   ]
  },
  {
   "cell_type": "markdown",
   "metadata": {},
   "source": [
    "## Модель логистической регрессии"
   ]
  },
  {
   "cell_type": "markdown",
   "metadata": {},
   "source": [
    "Обучим модель логистической регрессии c параметрами по умолчанию и посчитаем accuracy:"
   ]
  },
  {
   "cell_type": "code",
   "execution_count": 10,
   "metadata": {},
   "outputs": [
    {
     "data": {
      "text/plain": [
       "0.781"
      ]
     },
     "execution_count": 10,
     "metadata": {},
     "output_type": "execute_result"
    }
   ],
   "source": [
    "model = LogisticRegression()\n",
    "model.fit(X_train, y_train)\n",
    "\n",
    "preds = model.predict(X_val)\n",
    "accuracy_score(preds, y_val)"
   ]
  },
  {
   "cell_type": "markdown",
   "metadata": {},
   "source": [
    "Логистическая регрессия позволяет получить не только предсказанные категории, но и вероятности. Предсказания для одного объекта в нашем случае выглядят как вектор из 54 чисел:"
   ]
  },
  {
   "cell_type": "code",
   "execution_count": null,
   "metadata": {},
   "outputs": [],
   "source": [
    "np.round(model.predict_proba(X_val[0]), 3)"
   ]
  },
  {
   "cell_type": "markdown",
   "metadata": {},
   "source": [
    "Проверим свою интуицию по поводу весов полученной модели. Мы знаем, что слова встречающиеся в разных категориях, не должны получить большой вес в модели. Посмотрим на вес слова 'продам' для разных категорий:"
   ]
  },
  {
   "cell_type": "code",
   "execution_count": 595,
   "metadata": {},
   "outputs": [
    {
     "ename": "KeyError",
     "evalue": "'продам'",
     "output_type": "error",
     "traceback": [
      "\u001b[1;31m---------------------------------------------------------------------------\u001b[0m",
      "\u001b[1;31mKeyError\u001b[0m                                  Traceback (most recent call last)",
      "\u001b[1;32m<ipython-input-595-e40b7ce0618d>\u001b[0m in \u001b[0;36m<module>\u001b[1;34m\u001b[0m\n\u001b[1;32m----> 1\u001b[1;33m \u001b[0mmodel\u001b[0m\u001b[1;33m.\u001b[0m\u001b[0mcoef_\u001b[0m\u001b[1;33m[\u001b[0m\u001b[1;33m:\u001b[0m\u001b[1;33m,\u001b[0m \u001b[0mcount_vectorizer\u001b[0m\u001b[1;33m.\u001b[0m\u001b[0mvocabulary_\u001b[0m\u001b[1;33m[\u001b[0m\u001b[1;34m'продам'\u001b[0m\u001b[1;33m]\u001b[0m\u001b[1;33m]\u001b[0m\u001b[1;33m\u001b[0m\u001b[1;33m\u001b[0m\u001b[0m\n\u001b[0m",
      "\u001b[1;31mKeyError\u001b[0m: 'продам'"
     ]
    }
   ],
   "source": [
    "model.coef_[:, count_vectorizer.vocabulary_['продам']]"
   ]
  },
  {
   "cell_type": "markdown",
   "metadata": {},
   "source": [
    "Слова, по которым можно определить категорию, наоборот, должны получить большой вес. Посмотрим на вес для слова 'iphone' для разных категорий:"
   ]
  },
  {
   "cell_type": "code",
   "execution_count": 15,
   "metadata": {},
   "outputs": [
    {
     "data": {
      "text/plain": [
       "array([10.56217783, -0.28302724, -0.25696417, -0.46325024, -0.26310061,\n",
       "       -0.22940678,  1.11852941, -0.27567361, -0.34411253,  4.99828178,\n",
       "       -0.24306577, -0.16299175, -0.35636681, -0.22306383, -0.31211045,\n",
       "       -0.48431989, -0.21636626, -0.44171829, -0.27689242, -0.39043365,\n",
       "       -0.40364638, -0.42376902, -0.25637711, -0.48936954, -0.40933282,\n",
       "       -0.20462596, -0.25986752, -0.43872495, -0.31017565, -0.39299887,\n",
       "       -0.42607865, -0.05391445, -0.25880853, -0.24327095, -0.28220237,\n",
       "       -0.20141102, -0.25101834, -0.51647912, -0.36966218, -0.28072492,\n",
       "       -0.28712178, -0.29960978, -0.26893679, -0.41788875, -0.43457001,\n",
       "       -0.34924486, -0.09181143, -0.48711239, -0.33148956, -0.4553737 ,\n",
       "       -0.32274278, -0.34724939, -0.40069912, -0.48981603])"
      ]
     },
     "execution_count": 15,
     "metadata": {},
     "output_type": "execute_result"
    }
   ],
   "source": [
    "model.coef_[:, count_vectorizer.vocabulary_['iphone']]"
   ]
  },
  {
   "cell_type": "markdown",
   "metadata": {},
   "source": [
    "Действительно, вес при этом слове для некоторых категорий очень большой. Ведь если это слово есть в заголовке, скорее всего, правильной категорией будет что-то начинающееся на 'Бытовая электроника|Телефоны|'. Проверим, так ли это:"
   ]
  },
  {
   "cell_type": "code",
   "execution_count": 16,
   "metadata": {},
   "outputs": [
    {
     "data": {
      "text/plain": [
       "['Бытовая электроника|Телефоны|Другие марки',\n",
       " 'Бытовая электроника|Телефоны|Аксессуары|Чехлы и плёнки',\n",
       " 'Бытовая электроника|Телефоны|iPhone']"
      ]
     },
     "execution_count": 16,
     "metadata": {},
     "output_type": "execute_result"
    }
   ],
   "source": [
    "cat_names = data.set_index('category_id')['name'].to_dict()\n",
    "top_iphone_cats = np.argsort(model.coef_[:, count_vectorizer.vocabulary_['iphone']])[-3:]\n",
    "[cat_names[c] for c in top_iphone_cats]"
   ]
  },
  {
   "cell_type": "code",
   "execution_count": 17,
   "metadata": {},
   "outputs": [
    {
     "data": {
      "text/plain": [
       "array([6, 9, 0], dtype=int64)"
      ]
     },
     "execution_count": 17,
     "metadata": {},
     "output_type": "execute_result"
    }
   ],
   "source": [
    "np.argsort(model.coef_[:, count_vectorizer.vocabulary_['iphone']])[-3:]"
   ]
  },
  {
   "cell_type": "code",
   "execution_count": 18,
   "metadata": {},
   "outputs": [
    {
     "data": {
      "text/plain": [
       "category_id\n",
       "9    Бытовая электроника|Телефоны|Аксессуары|Чехлы ...\n",
       "9    Бытовая электроника|Телефоны|Аксессуары|Чехлы ...\n",
       "9    Бытовая электроника|Телефоны|Аксессуары|Чехлы ...\n",
       "9    Бытовая электроника|Телефоны|Аксессуары|Чехлы ...\n",
       "9    Бытовая электроника|Телефоны|Аксессуары|Чехлы ...\n",
       "                           ...                        \n",
       "9    Бытовая электроника|Телефоны|Аксессуары|Чехлы ...\n",
       "9    Бытовая электроника|Телефоны|Аксессуары|Чехлы ...\n",
       "9    Бытовая электроника|Телефоны|Аксессуары|Чехлы ...\n",
       "9    Бытовая электроника|Телефоны|Аксессуары|Чехлы ...\n",
       "9    Бытовая электроника|Телефоны|Аксессуары|Чехлы ...\n",
       "Name: name, Length: 350, dtype: object"
      ]
     },
     "execution_count": 18,
     "metadata": {},
     "output_type": "execute_result"
    }
   ],
   "source": [
    "data.set_index('category_id')['name'][9]"
   ]
  },
  {
   "cell_type": "markdown",
   "metadata": {},
   "source": [
    "**Ошибки модели**\n",
    "\n",
    "Посмотрим, в каких категориях чаще всего происходят ошибки. Для этого создадим удобный dataframe:"
   ]
  },
  {
   "cell_type": "code",
   "execution_count": 19,
   "metadata": {},
   "outputs": [],
   "source": [
    "models_erros = pd.DataFrame({\n",
    "    'title': val_titles.values,\n",
    "    'preds_category': [cat_names[cat] for cat in preds],\n",
    "    'true_category': [cat_names[cat] for cat in y_val],\n",
    "    'preds_ok': preds == y_val\n",
    "})"
   ]
  },
  {
   "cell_type": "markdown",
   "metadata": {},
   "source": [
    "Выведем 3 случайные ошибки модели:"
   ]
  },
  {
   "cell_type": "code",
   "execution_count": 20,
   "metadata": {},
   "outputs": [
    {
     "data": {
      "text/html": [
       "<div>\n",
       "<style scoped>\n",
       "    .dataframe tbody tr th:only-of-type {\n",
       "        vertical-align: middle;\n",
       "    }\n",
       "\n",
       "    .dataframe tbody tr th {\n",
       "        vertical-align: top;\n",
       "    }\n",
       "\n",
       "    .dataframe thead th {\n",
       "        text-align: right;\n",
       "    }\n",
       "</style>\n",
       "<table border=\"1\" class=\"dataframe\">\n",
       "  <thead>\n",
       "    <tr style=\"text-align: right;\">\n",
       "      <th></th>\n",
       "      <th>title</th>\n",
       "      <th>preds_category</th>\n",
       "      <th>true_category</th>\n",
       "      <th>preds_ok</th>\n",
       "    </tr>\n",
       "    <tr>\n",
       "      <th>item_id</th>\n",
       "      <th></th>\n",
       "      <th></th>\n",
       "      <th></th>\n",
       "      <th></th>\n",
       "    </tr>\n",
       "  </thead>\n",
       "  <tbody>\n",
       "    <tr>\n",
       "      <th>130675</th>\n",
       "      <td>Leagoo elite 1</td>\n",
       "      <td>Хобби и отдых|Велосипеды|Запчасти и аксессуары</td>\n",
       "      <td>Бытовая электроника|Телефоны|Другие марки</td>\n",
       "      <td>False</td>\n",
       "    </tr>\n",
       "    <tr>\n",
       "      <th>118153</th>\n",
       "      <td>Продаю сумку для детских принадлежностей</td>\n",
       "      <td>Личные вещи|Одежда, обувь, аксессуары|Аксессуары</td>\n",
       "      <td>Личные вещи|Товары для детей и игрушки|Товары ...</td>\n",
       "      <td>False</td>\n",
       "    </tr>\n",
       "    <tr>\n",
       "      <th>5677</th>\n",
       "      <td>Yamaha RBX 170</td>\n",
       "      <td>Хобби и отдых|Музыкальные инструменты|Для студ...</td>\n",
       "      <td>Хобби и отдых|Музыкальные инструменты|Гитары и...</td>\n",
       "      <td>False</td>\n",
       "    </tr>\n",
       "  </tbody>\n",
       "</table>\n",
       "</div>"
      ],
      "text/plain": [
       "                                            title  \\\n",
       "item_id                                             \n",
       "130675                             Leagoo elite 1   \n",
       "118153   Продаю сумку для детских принадлежностей   \n",
       "5677                               Yamaha RBX 170   \n",
       "\n",
       "                                            preds_category  \\\n",
       "item_id                                                      \n",
       "130675      Хобби и отдых|Велосипеды|Запчасти и аксессуары   \n",
       "118153    Личные вещи|Одежда, обувь, аксессуары|Аксессуары   \n",
       "5677     Хобби и отдых|Музыкальные инструменты|Для студ...   \n",
       "\n",
       "                                             true_category  preds_ok  \n",
       "item_id                                                               \n",
       "130675           Бытовая электроника|Телефоны|Другие марки     False  \n",
       "118153   Личные вещи|Товары для детей и игрушки|Товары ...     False  \n",
       "5677     Хобби и отдых|Музыкальные инструменты|Гитары и...     False  "
      ]
     },
     "execution_count": 20,
     "metadata": {},
     "output_type": "execute_result"
    }
   ],
   "source": [
    "models_erros[~models_erros['preds_ok']].sample(3)"
   ]
  },
  {
   "cell_type": "markdown",
   "metadata": {},
   "source": [
    "Видим, что в первых двух строчках ошибки, скорее всего, произошли по причине опечаток. Нужно подумать над тем, как повысить устойчивость модели к опечаткам и ошибкам. Этим вам предстоит заняться в домашнем задании.\n",
    "\n",
    "На этом анализ ошибок, конечно же, заканчивать не стоит — но мы не будем продолжать это делать здесь, а оставим в виде упражнения."
   ]
  },
  {
   "cell_type": "markdown",
   "metadata": {},
   "source": [
    "## Word2vec"
   ]
  },
  {
   "cell_type": "markdown",
   "metadata": {},
   "source": [
    "Импортируем gensim – библиотеку, с помощью которой будем обучать модель w2v. Также создадим понадобятся вспомогательные классы, которые будут логировать ошибку после каждой итерации обучения."
   ]
  },
  {
   "cell_type": "code",
   "execution_count": 328,
   "metadata": {},
   "outputs": [
    {
     "name": "stdout",
     "output_type": "stream",
     "text": [
      "Requirement already satisfied: gensim in c:\\users\\temp\\anaconda3\\lib\\site-packages (4.2.0)\n",
      "Requirement already satisfied: scipy>=0.18.1 in c:\\users\\temp\\anaconda3\\lib\\site-packages (from gensim) (1.7.3)\n",
      "Requirement already satisfied: smart-open>=1.8.1 in c:\\users\\temp\\anaconda3\\lib\\site-packages (from gensim) (6.0.0)\n",
      "Requirement already satisfied: Cython==0.29.28 in c:\\users\\temp\\anaconda3\\lib\\site-packages (from gensim) (0.29.28)\n",
      "Requirement already satisfied: numpy>=1.17.0 in c:\\users\\temp\\anaconda3\\lib\\site-packages (from gensim) (1.21.5)\n",
      "Note: you may need to restart the kernel to use updated packages.\n"
     ]
    }
   ],
   "source": [
    "pip install gensim"
   ]
  },
  {
   "cell_type": "code",
   "execution_count": 39,
   "metadata": {},
   "outputs": [
    {
     "name": "stdout",
     "output_type": "stream",
     "text": [
      "4.2.0\n"
     ]
    }
   ],
   "source": [
    "import re\n",
    "import gensim\n",
    "from gensim.models.word2vec import Word2Vec\n",
    "from gensim.models.fasttext import FastText\n",
    "from gensim.models.callbacks import CallbackAny2Vec\n",
    "\n",
    "class LossLogger(CallbackAny2Vec):\n",
    "    def __init__(self):\n",
    "        self.epoch = 0\n",
    "\n",
    "    def on_epoch_end(self, model):\n",
    "        loss = model.get_latest_training_loss()\n",
    "        if self.epoch == 0:\n",
    "            print('Loss after epoch {}: {}'.format(self.epoch, loss))\n",
    "        else:\n",
    "            print('Loss after epoch {}: {}'.format(self.epoch, loss - self.loss_previous_step))\n",
    "        self.epoch += 1\n",
    "        self.loss_previous_step = loss\n",
    "        \n",
    "class EpochLogger(CallbackAny2Vec):\n",
    "    def __init__(self):\n",
    "        self.epoch = 0\n",
    "\n",
    "def on_epoch_end(self, model):\n",
    "    print(f'Epoch {self.epoch}')\n",
    "    self.epoch += 1\n",
    "\n",
    "print(gensim.__version__)"
   ]
  },
  {
   "cell_type": "markdown",
   "metadata": {},
   "source": [
    "Прочитаем данные и выведем первые несколько строк:"
   ]
  },
  {
   "cell_type": "code",
   "execution_count": 374,
   "metadata": {},
   "outputs": [
    {
     "name": "stdout",
     "output_type": "stream",
     "text": [
      "(200000, 2)\n"
     ]
    },
    {
     "data": {
      "text/html": [
       "<div>\n",
       "<style scoped>\n",
       "    .dataframe tbody tr th:only-of-type {\n",
       "        vertical-align: middle;\n",
       "    }\n",
       "\n",
       "    .dataframe tbody tr th {\n",
       "        vertical-align: top;\n",
       "    }\n",
       "\n",
       "    .dataframe thead th {\n",
       "        text-align: right;\n",
       "    }\n",
       "</style>\n",
       "<table border=\"1\" class=\"dataframe\">\n",
       "  <thead>\n",
       "    <tr style=\"text-align: right;\">\n",
       "      <th></th>\n",
       "      <th>item_id</th>\n",
       "      <th>title</th>\n",
       "    </tr>\n",
       "  </thead>\n",
       "  <tbody>\n",
       "    <tr>\n",
       "      <th>30000</th>\n",
       "      <td>377939</td>\n",
       "      <td>1 рубль царские 10 штук</td>\n",
       "    </tr>\n",
       "    <tr>\n",
       "      <th>30001</th>\n",
       "      <td>384779</td>\n",
       "      <td>Напольный насос giyo высокого давления, с мано...</td>\n",
       "    </tr>\n",
       "    <tr>\n",
       "      <th>30002</th>\n",
       "      <td>276889</td>\n",
       "      <td>Sony Xperia m2 Dual</td>\n",
       "    </tr>\n",
       "    <tr>\n",
       "      <th>30003</th>\n",
       "      <td>155718</td>\n",
       "      <td>Zoom B2.1U+ AC Процессор эффектов для бас-гитары</td>\n",
       "    </tr>\n",
       "    <tr>\n",
       "      <th>30004</th>\n",
       "      <td>260705</td>\n",
       "      <td>Люстра Favourite petite 1574-7P</td>\n",
       "    </tr>\n",
       "  </tbody>\n",
       "</table>\n",
       "</div>"
      ],
      "text/plain": [
       "       item_id                                              title\n",
       "30000   377939                            1 рубль царские 10 штук\n",
       "30001   384779  Напольный насос giyo высокого давления, с мано...\n",
       "30002   276889                                Sony Xperia m2 Dual\n",
       "30003   155718   Zoom B2.1U+ AC Процессор эффектов для бас-гитары\n",
       "30004   260705                    Люстра Favourite petite 1574-7P"
      ]
     },
     "execution_count": 374,
     "metadata": {},
     "output_type": "execute_result"
    }
   ],
   "source": [
    "w2v_train_data = pd.read_csv('unlabeled_data.csv',  index_col=0)\n",
    "print(w2v_train_data.shape)\n",
    "w2v_train_data.head()"
   ]
  },
  {
   "cell_type": "markdown",
   "metadata": {},
   "source": [
    "Данные для обучения word2vec — это просто тексты или любые другие наборы последовательностей токенов, для которых можно предположить справедливость дистрибутивной гипотезы. Токенизируем тексты:"
   ]
  },
  {
   "cell_type": "code",
   "execution_count": 375,
   "metadata": {},
   "outputs": [],
   "source": [
    "WORD_PATTERN = '(?u)\\\\b\\\\w\\\\w+\\\\b'  # паттерн для токенизации возьмем из векторайзеров sklearn\n",
    "reg_exp = re.compile(pattern=WORD_PATTERN)  # скомпилируем регулярное выражение\n",
    "sentences = [reg_exp.findall(s.lower()) for s in w2v_train_data.title]"
   ]
  },
  {
   "cell_type": "markdown",
   "metadata": {},
   "source": [
    "Выведем результат токенизации:"
   ]
  },
  {
   "cell_type": "code",
   "execution_count": 376,
   "metadata": {},
   "outputs": [
    {
     "data": {
      "text/plain": [
       "[['рубль', 'царские', '10', 'штук'],\n",
       " ['напольный', 'насос', 'giyo', 'высокого', 'давления', 'манометр'],\n",
       " ['sony', 'xperia', 'm2', 'dual']]"
      ]
     },
     "execution_count": 376,
     "metadata": {},
     "output_type": "execute_result"
    }
   ],
   "source": [
    "sentences[:3]"
   ]
  },
  {
   "cell_type": "code",
   "execution_count": 377,
   "metadata": {},
   "outputs": [
    {
     "data": {
      "text/plain": [
       "1e-06"
      ]
     },
     "execution_count": 377,
     "metadata": {},
     "output_type": "execute_result"
    }
   ],
   "source": [
    "1e-6"
   ]
  },
  {
   "cell_type": "markdown",
   "metadata": {},
   "source": [
    "Обучим w2v с параметрами по усмолчанию: "
   ]
  },
  {
   "cell_type": "code",
   "execution_count": 502,
   "metadata": {},
   "outputs": [
    {
     "name": "stdout",
     "output_type": "stream",
     "text": [
      "Loss after epoch 0: 2826708.25\n",
      "Loss after epoch 1: 1292064.25\n",
      "Loss after epoch 2: 923431.0\n",
      "Loss after epoch 3: 799357.5\n",
      "Loss after epoch 4: 716546.0\n",
      "Loss after epoch 5: 678896.0\n",
      "Loss after epoch 6: 628815.5\n",
      "Loss after epoch 7: 585835.5\n",
      "Loss after epoch 8: 506691.0\n",
      "Loss after epoch 9: 479640.0\n",
      "Loss after epoch 10: 452869.0\n",
      "Loss after epoch 11: 432606.0\n",
      "Loss after epoch 12: 409773.0\n",
      "Loss after epoch 13: 392829.0\n",
      "Loss after epoch 14: 373970.0\n",
      "Loss after epoch 15: 359233.0\n",
      "Loss after epoch 16: 344516.0\n",
      "Loss after epoch 17: 332241.0\n",
      "Loss after epoch 18: 320822.0\n",
      "Loss after epoch 19: 310278.0\n",
      "Loss after epoch 20: 302189.0\n",
      "Loss after epoch 21: 292632.0\n",
      "Loss after epoch 22: 285791.0\n",
      "Loss after epoch 23: 278602.0\n",
      "Loss after epoch 24: 272534.0\n",
      "Loss after epoch 25: 267272.0\n",
      "Loss after epoch 26: 258635.0\n",
      "Loss after epoch 27: 254973.0\n",
      "Loss after epoch 28: 251336.0\n",
      "Loss after epoch 29: 246489.0\n",
      "Loss after epoch 30: 242534.0\n",
      "Loss after epoch 31: 242297.0\n",
      "Loss after epoch 32: 235883.0\n",
      "Loss after epoch 33: 216301.0\n",
      "Loss after epoch 34: 155926.0\n",
      "Loss after epoch 35: 157366.0\n",
      "Loss after epoch 36: 151206.0\n",
      "Loss after epoch 37: 153052.0\n",
      "Loss after epoch 38: 151014.0\n",
      "Loss after epoch 39: 150772.0\n"
     ]
    },
    {
     "data": {
      "text/plain": [
       "(25552454, 29369480)"
      ]
     },
     "execution_count": 502,
     "metadata": {},
     "output_type": "execute_result"
    }
   ],
   "source": [
    "w2v_model = Word2Vec(vector_size=220, window=10, min_count=2, sg=1, negative=10, ns_exponent=0.25, shrink_windows=True)\n",
    "w2v_model.build_vocab(sentences)\n",
    "w2v_model.train(\n",
    "   corpus_iterable=sentences,\n",
    "   total_examples=w2v_model.corpus_count,\n",
    "   epochs=40,\n",
    "   compute_loss=True,\n",
    "   callbacks=[LossLogger()]\n",
    ")"
   ]
  },
  {
   "cell_type": "markdown",
   "metadata": {},
   "source": [
    "Попытаемся понять, получилось ли обучиться. Выведем векторы, близкие к вектору слова 'продам';"
   ]
  },
  {
   "cell_type": "code",
   "execution_count": 503,
   "metadata": {},
   "outputs": [
    {
     "data": {
      "text/plain": [
       "[('медицинскую', 0.4443364143371582),\n",
       " ('новую', 0.43903228640556335),\n",
       " ('хорошую', 0.42489495873451233),\n",
       " ('советскую', 0.4214405417442322),\n",
       " ('прдаю', 0.4194292724132538),\n",
       " ('напольную', 0.4185582399368286),\n",
       " ('продадим', 0.4166226387023926),\n",
       " ('кожаную', 0.41509345173835754),\n",
       " ('красивую', 0.4127601385116577),\n",
       " ('боксерскую', 0.40963295102119446)]"
      ]
     },
     "execution_count": 503,
     "metadata": {},
     "output_type": "execute_result"
    }
   ],
   "source": [
    "w2v_model.wv.similar_by_word('продам')"
   ]
  },
  {
   "cell_type": "markdown",
   "metadata": {},
   "source": [
    "Посмотрим на ещё одно слово. Интересно, что можно поискать слова близкие к слову 'айфон' и тем самым получить написание этого слова на английском:"
   ]
  },
  {
   "cell_type": "code",
   "execution_count": 504,
   "metadata": {},
   "outputs": [
    {
     "data": {
      "text/plain": [
       "[('lunatic', 0.7184357047080994),\n",
       " ('4s8', 0.70102858543396),\n",
       " ('taktik', 0.671530544757843),\n",
       " ('5с', 0.6523693203926086),\n",
       " ('32гиг', 0.647223949432373),\n",
       " ('броне', 0.6435747742652893),\n",
       " ('айфон4', 0.6407101154327393),\n",
       " ('3gs', 0.6404737830162048),\n",
       " ('ronin', 0.6320513486862183),\n",
       " ('покупала', 0.6306703090667725)]"
      ]
     },
     "execution_count": 504,
     "metadata": {},
     "output_type": "execute_result"
    }
   ],
   "source": [
    "w2v_model.wv.similar_by_word('айфон')"
   ]
  },
  {
   "cell_type": "markdown",
   "metadata": {},
   "source": [
    "Напишем класс, которые позволит там получать векторы для заголовков, как сумму векторов входящих в него слов:"
   ]
  },
  {
   "cell_type": "code",
   "execution_count": 505,
   "metadata": {},
   "outputs": [],
   "source": [
    "class Word2VecTransformer:\n",
    "    \n",
    "    def __init__(self, w2v_model, word_pattern):\n",
    "        \n",
    "        self.w2v_model = w2v_model\n",
    "        self.word_pattern = word_pattern\n",
    "        self.re = re.compile(pattern=self.word_pattern)\n",
    "        \n",
    "    def fit(self, X):\n",
    "        return self\n",
    "    \n",
    "    def transform(self, X):\n",
    "        \n",
    "        X_transformed = np.zeros((len(X), self.w2v_model.wv.vector_size))\n",
    "        for i, title in enumerate(X):\n",
    "            \n",
    "            k = 1\n",
    "            title_vector = np.zeros((self.w2v_model.wv.vector_size,))\n",
    "            tokens = self.re.findall(title.lower())\n",
    "            for token in tokens:\n",
    "                if token in self.w2v_model.wv.key_to_index:\n",
    "                    title_vector += self.w2v_model.wv.get_vector(token)\n",
    "                    k += 1\n",
    "                    \n",
    "            X_transformed[i] = title_vector / k\n",
    "        \n",
    "        return X_transformed"
   ]
  },
  {
   "cell_type": "markdown",
   "metadata": {},
   "source": [
    "Трансформируем с помощью него обучающую выборку и обучим логистическую регрессию:"
   ]
  },
  {
   "cell_type": "code",
   "execution_count": 506,
   "metadata": {},
   "outputs": [
    {
     "data": {
      "text/plain": [
       "LogisticRegression(C=1.0, class_weight=None, dual=False, fit_intercept=True,\n",
       "                   intercept_scaling=1, l1_ratio=None, max_iter=100,\n",
       "                   multi_class='auto', n_jobs=None, penalty='l2',\n",
       "                   random_state=None, solver='saga', tol=0.0001, verbose=0,\n",
       "                   warm_start=False)"
      ]
     },
     "execution_count": 506,
     "metadata": {},
     "output_type": "execute_result"
    }
   ],
   "source": [
    "w2v_transformer = Word2VecTransformer(w2v_model=w2v_model, word_pattern=WORD_PATTERN)\n",
    "\n",
    "train_w2v = w2v_transformer.transform(train_titles.values)\n",
    "val_w2v = w2v_transformer.transform(val_titles.values)\n",
    "\n",
    "model_on_w2v = LogisticRegression(solver='saga')\n",
    "model_on_w2v.fit(train_w2v, y_train)"
   ]
  },
  {
   "cell_type": "code",
   "execution_count": 507,
   "metadata": {},
   "outputs": [],
   "source": [
    "# model_on_w2v = LogisticRegression(solver='liblinear')\n",
    "# model_on_w2v.fit(train_w2v, y_train)"
   ]
  },
  {
   "cell_type": "code",
   "execution_count": 508,
   "metadata": {},
   "outputs": [],
   "source": [
    "# from sklearn.linear_model import SGDClassifier\n",
    "# model_on_w2v = SGDClassifier(loss='log')\n",
    "# model_on_w2v.fit(train_w2v, y_train)"
   ]
  },
  {
   "cell_type": "markdown",
   "metadata": {},
   "source": [
    "Оценим качество классификатора:"
   ]
  },
  {
   "cell_type": "code",
   "execution_count": 509,
   "metadata": {},
   "outputs": [
    {
     "data": {
      "text/plain": [
       "0.793"
      ]
     },
     "execution_count": 509,
     "metadata": {},
     "output_type": "execute_result"
    }
   ],
   "source": [
    "preds = model_on_w2v.predict(val_w2v)\n",
    "accuracy_score(preds, y_val)"
   ]
  },
  {
   "cell_type": "code",
   "execution_count": 510,
   "metadata": {},
   "outputs": [
    {
     "data": {
      "text/plain": [
       "array([[19, 23, 22],\n",
       "       [24, 23, 27],\n",
       "       [19, 23, 36],\n",
       "       ...,\n",
       "       [14,  6,  3],\n",
       "       [ 6,  9,  0],\n",
       "       [15, 23, 25]], dtype=int64)"
      ]
     },
     "execution_count": 510,
     "metadata": {},
     "output_type": "execute_result"
    }
   ],
   "source": [
    "result = np.sort(model_on_w2v.predict_proba(val_w2v))[:, -3:]\n",
    "np.argsort(model_on_w2v.predict_proba(val_w2v))[:, -3:]"
   ]
  },
  {
   "cell_type": "code",
   "execution_count": 511,
   "metadata": {},
   "outputs": [],
   "source": [
    "def get_acc(preds, y_answers):\n",
    "    counter = 0\n",
    "    for i, y in enumerate(y_answers):\n",
    "        if y in preds[i]:\n",
    "            counter += 1\n",
    "    return counter / len(preds)\n",
    "        "
   ]
  },
  {
   "cell_type": "code",
   "execution_count": 512,
   "metadata": {},
   "outputs": [
    {
     "data": {
      "text/plain": [
       "0.921"
      ]
     },
     "execution_count": 512,
     "metadata": {},
     "output_type": "execute_result"
    }
   ],
   "source": [
    "get_acc(np.argsort(model_on_w2v.predict_proba(val_w2v))[:, -3:], y_val)"
   ]
  },
  {
   "cell_type": "markdown",
   "metadata": {},
   "source": [
    "Варианты улучшений: \n",
    "\n",
    "* Word2vec не может получить вектора слов, которых не было при обучении модели. Однако есть модель, очень похожая на word2vec, но использующая при обучении буквенные n-гаммы. Эта модель называется Fasttext — в библиотеке gensim есть её реализация;\n",
    "* Метод агрегации, который мы использовали, очень грубый: можно попробовать не суммировать, а считать среднее или суммировать с весами;\n",
    "* Можно попробовать подобрать более оптимальные гиперпараметры w2v: использовать skipgram вместо CBOW, учить с другим размером окна, использовать другой размер вектора, изменить соотношение позитивных и негативных примеров в negative sampling или использовать иерархический софтмакс."
   ]
  },
  {
   "cell_type": "markdown",
   "metadata": {},
   "source": [
    "# Для STEPIK"
   ]
  },
  {
   "cell_type": "code",
   "execution_count": 513,
   "metadata": {},
   "outputs": [
    {
     "data": {
      "text/html": [
       "<div>\n",
       "<style scoped>\n",
       "    .dataframe tbody tr th:only-of-type {\n",
       "        vertical-align: middle;\n",
       "    }\n",
       "\n",
       "    .dataframe tbody tr th {\n",
       "        vertical-align: top;\n",
       "    }\n",
       "\n",
       "    .dataframe thead th {\n",
       "        text-align: right;\n",
       "    }\n",
       "</style>\n",
       "<table border=\"1\" class=\"dataframe\">\n",
       "  <thead>\n",
       "    <tr style=\"text-align: right;\">\n",
       "      <th></th>\n",
       "      <th>title</th>\n",
       "    </tr>\n",
       "  </thead>\n",
       "  <tbody>\n",
       "    <tr>\n",
       "      <th>0</th>\n",
       "      <td>Телевизор Samsung</td>\n",
       "    </tr>\n",
       "    <tr>\n",
       "      <th>1</th>\n",
       "      <td>Игрушки ручной работы (вязание, валяние)</td>\n",
       "    </tr>\n",
       "    <tr>\n",
       "      <th>2</th>\n",
       "      <td>Раковина с ножкой и смесителем</td>\n",
       "    </tr>\n",
       "    <tr>\n",
       "      <th>3</th>\n",
       "      <td>Куколки mattel</td>\n",
       "    </tr>\n",
       "    <tr>\n",
       "      <th>4</th>\n",
       "      <td>Автомобильный сабвуфер активный Kicx ICQ-300BA</td>\n",
       "    </tr>\n",
       "  </tbody>\n",
       "</table>\n",
       "</div>"
      ],
      "text/plain": [
       "                                            title\n",
       "0                               Телевизор Samsung\n",
       "1        Игрушки ручной работы (вязание, валяние)\n",
       "2                  Раковина с ножкой и смесителем\n",
       "3                                  Куколки mattel\n",
       "4  Автомобильный сабвуфер активный Kicx ICQ-300BA"
      ]
     },
     "execution_count": 513,
     "metadata": {},
     "output_type": "execute_result"
    }
   ],
   "source": [
    "df = pd.read_csv('suggest_test.csv')\n",
    "df.head()"
   ]
  },
  {
   "cell_type": "code",
   "execution_count": 514,
   "metadata": {},
   "outputs": [],
   "source": [
    "test_w2v = w2v_transformer.transform(df.title)"
   ]
  },
  {
   "cell_type": "code",
   "execution_count": 515,
   "metadata": {},
   "outputs": [
    {
     "data": {
      "text/plain": [
       "10000"
      ]
     },
     "execution_count": 515,
     "metadata": {},
     "output_type": "execute_result"
    }
   ],
   "source": [
    "len(test_w2v)"
   ]
  },
  {
   "cell_type": "code",
   "execution_count": 516,
   "metadata": {},
   "outputs": [
    {
     "data": {
      "text/plain": [
       "array([[13,  2,  5],\n",
       "       [44, 27, 30],\n",
       "       [19, 23, 21],\n",
       "       ...,\n",
       "       [30, 41, 32],\n",
       "       [21, 30, 26],\n",
       "       [23, 24, 15]], dtype=int64)"
      ]
     },
     "execution_count": 516,
     "metadata": {},
     "output_type": "execute_result"
    }
   ],
   "source": [
    "result = np.argsort(model_on_w2v.predict_proba(test_w2v))[:, -3:]\n",
    "np.argsort(model_on_w2v.predict_proba(test_w2v))[:, -3:]"
   ]
  },
  {
   "cell_type": "code",
   "execution_count": 517,
   "metadata": {},
   "outputs": [],
   "source": [
    "pd.DataFrame(result).to_csv('solution.csv', header=['top1', 'top2', 'top3'], index=False)"
   ]
  },
  {
   "cell_type": "code",
   "execution_count": null,
   "metadata": {},
   "outputs": [],
   "source": []
  },
  {
   "cell_type": "code",
   "execution_count": null,
   "metadata": {},
   "outputs": [],
   "source": []
  },
  {
   "cell_type": "code",
   "execution_count": null,
   "metadata": {},
   "outputs": [],
   "source": []
  },
  {
   "cell_type": "code",
   "execution_count": 416,
   "metadata": {},
   "outputs": [],
   "source": [
    "ft_model = FastText(vector_size=50, window=5, min_count=2, negative=15, min_n=2, max_n=4)\n",
    "ft_model.build_vocab(sentences)"
   ]
  },
  {
   "cell_type": "code",
   "execution_count": 417,
   "metadata": {},
   "outputs": [
    {
     "name": "stdout",
     "output_type": "stream",
     "text": [
      "Loss after epoch 0: 0.0\n",
      "Loss after epoch 1: 0.0\n",
      "Loss after epoch 2: 0.0\n",
      "Loss after epoch 3: 0.0\n",
      "Loss after epoch 4: 0.0\n",
      "Loss after epoch 5: 0.0\n",
      "Loss after epoch 6: 0.0\n",
      "Loss after epoch 7: 0.0\n",
      "Loss after epoch 8: 0.0\n",
      "Loss after epoch 9: 0.0\n",
      "Loss after epoch 10: 0.0\n",
      "Loss after epoch 11: 0.0\n",
      "Loss after epoch 12: 0.0\n",
      "Loss after epoch 13: 0.0\n",
      "Loss after epoch 14: 0.0\n",
      "Loss after epoch 15: 0.0\n",
      "Loss after epoch 16: 0.0\n",
      "Loss after epoch 17: 0.0\n",
      "Loss after epoch 18: 0.0\n",
      "Loss after epoch 19: 0.0\n",
      "Loss after epoch 20: 0.0\n",
      "Loss after epoch 21: 0.0\n",
      "Loss after epoch 22: 0.0\n",
      "Loss after epoch 23: 0.0\n",
      "Loss after epoch 24: 0.0\n",
      "Loss after epoch 25: 0.0\n",
      "Loss after epoch 26: 0.0\n",
      "Loss after epoch 27: 0.0\n",
      "Loss after epoch 28: 0.0\n",
      "Loss after epoch 29: 0.0\n"
     ]
    },
    {
     "data": {
      "text/plain": [
       "(19163645, 22027110)"
      ]
     },
     "execution_count": 417,
     "metadata": {},
     "output_type": "execute_result"
    }
   ],
   "source": [
    "ft_model.train(\n",
    "   corpus_iterable=sentences,\n",
    "   total_examples=ft_model.corpus_count,\n",
    "   epochs=30,\n",
    "   compute_loss=True,\n",
    "   callbacks=[LossLogger()]\n",
    ")"
   ]
  },
  {
   "cell_type": "code",
   "execution_count": 404,
   "metadata": {},
   "outputs": [
    {
     "data": {
      "text/plain": [
       "[('продаю', 0.989808976650238),\n",
       " ('продаём', 0.9528104662895203),\n",
       " ('продаи', 0.948464572429657),\n",
       " ('продадим', 0.9368908405303955),\n",
       " ('продаёться', 0.9241591095924377),\n",
       " ('продаем', 0.9204390048980713),\n",
       " ('продаеться', 0.9085977077484131),\n",
       " ('продать', 0.8988447189331055),\n",
       " ('проодам', 0.8977782130241394),\n",
       " ('продажу', 0.8927575349807739)]"
      ]
     },
     "execution_count": 404,
     "metadata": {},
     "output_type": "execute_result"
    }
   ],
   "source": [
    "ft_model.wv.similar_by_word('продам')"
   ]
  },
  {
   "cell_type": "code",
   "execution_count": 405,
   "metadata": {},
   "outputs": [],
   "source": [
    "class FastTextTransformer:\n",
    "    \n",
    "    def __init__(self, ft_model, word_pattern):\n",
    "        \n",
    "        self.ft_model = ft_model\n",
    "        self.word_pattern = word_pattern\n",
    "        self.re = re.compile(pattern=self.word_pattern)\n",
    "        \n",
    "    def fit(self, X):\n",
    "        return self\n",
    "    \n",
    "    def transform(self, X):\n",
    "        \n",
    "        X_transformed = np.zeros((len(X), self.ft_model.wv.vector_size))\n",
    "        for i, title in enumerate(X):\n",
    "            \n",
    "            title_vector = np.zeros((self.ft_model.wv.vector_size,))\n",
    "            tokens = self.re.findall(title.lower())\n",
    "            k = 1\n",
    "            for token in tokens:\n",
    "                if token in self.ft_model.wv.key_to_index:\n",
    "                    title_vector += self.ft_model.wv.get_vector(token)\n",
    "                    k += 1\n",
    "                    \n",
    "            X_transformed[i] = title_vector / k\n",
    "        \n",
    "        return X_transformed"
   ]
  },
  {
   "cell_type": "code",
   "execution_count": 418,
   "metadata": {},
   "outputs": [
    {
     "data": {
      "text/plain": [
       "LogisticRegression(C=1.0, class_weight=None, dual=False, fit_intercept=True,\n",
       "                   intercept_scaling=1, l1_ratio=None, max_iter=100,\n",
       "                   multi_class='auto', n_jobs=None, penalty='l2',\n",
       "                   random_state=None, solver='liblinear', tol=0.0001, verbose=0,\n",
       "                   warm_start=False)"
      ]
     },
     "execution_count": 418,
     "metadata": {},
     "output_type": "execute_result"
    }
   ],
   "source": [
    "ft_transformer = FastTextTransformer(ft_model=ft_model, word_pattern=WORD_PATTERN)\n",
    "\n",
    "train_ft = ft_transformer.transform(train_titles.values)\n",
    "val_ft = ft_transformer.transform(val_titles.values)\n",
    "\n",
    "model_on_ft = LogisticRegression(solver='liblinear')\n",
    "model_on_ft.fit(train_ft, y_train)"
   ]
  },
  {
   "cell_type": "code",
   "execution_count": 419,
   "metadata": {},
   "outputs": [
    {
     "data": {
      "text/plain": [
       "0.6822"
      ]
     },
     "execution_count": 419,
     "metadata": {},
     "output_type": "execute_result"
    }
   ],
   "source": [
    "preds = model_on_ft.predict(val_ft)\n",
    "accuracy_score(preds, y_val)"
   ]
  },
  {
   "cell_type": "code",
   "execution_count": 420,
   "metadata": {},
   "outputs": [
    {
     "data": {
      "text/plain": [
       "0.8256"
      ]
     },
     "execution_count": 420,
     "metadata": {},
     "output_type": "execute_result"
    }
   ],
   "source": [
    "get_acc(np.argsort(model_on_ft.predict_proba(val_ft))[:, -3:], y_val)"
   ]
  },
  {
   "cell_type": "code",
   "execution_count": 421,
   "metadata": {},
   "outputs": [
    {
     "data": {
      "text/plain": [
       "200000"
      ]
     },
     "execution_count": 421,
     "metadata": {},
     "output_type": "execute_result"
    }
   ],
   "source": [
    "ft_model.corpus_count"
   ]
  },
  {
   "cell_type": "code",
   "execution_count": 382,
   "metadata": {},
   "outputs": [
    {
     "data": {
      "text/plain": [
       "200000"
      ]
     },
     "execution_count": 382,
     "metadata": {},
     "output_type": "execute_result"
    }
   ],
   "source": [
    "w2v_model.corpus_count"
   ]
  },
  {
   "cell_type": "code",
   "execution_count": null,
   "metadata": {},
   "outputs": [],
   "source": []
  }
 ],
 "metadata": {
  "kernelspec": {
   "display_name": "Python 3",
   "language": "python",
   "name": "python3"
  },
  "language_info": {
   "codemirror_mode": {
    "name": "ipython",
    "version": 3
   },
   "file_extension": ".py",
   "mimetype": "text/x-python",
   "name": "python",
   "nbconvert_exporter": "python",
   "pygments_lexer": "ipython3",
   "version": "3.7.6"
  }
 },
 "nbformat": 4,
 "nbformat_minor": 4
}
