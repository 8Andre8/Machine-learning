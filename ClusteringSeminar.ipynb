{
 "cells": [
  {
   "cell_type": "markdown",
   "metadata": {},
   "source": [
    "# Кластеризация\n",
    "\n",
    "На этом семинаре мы займёмся задачей кластеризации векторов, интерпретацией полученных результатов. В частности, посмотрим на задачу выделения отдельных видов товаров в категории объявлений как на задачу кластеризации.\n",
    "\n",
    "Нам предстоит: \n",
    "\n",
    "* посмотреть на подготовку векторов к кластеризации,\n",
    "* реализовать алгоритм KMeans и попробовать разные варианты его инициализации,\n",
    "* изучить примеры интерпретации полученных кластеров,\n",
    "* ознакомиться с подбором параметров DBSCAN,\n",
    "* решить задачу разделения категории на виды товаров."
   ]
  },
  {
   "cell_type": "markdown",
   "metadata": {},
   "source": [
    "## Задача анализа заголовков в категории «Товары для школы»\n",
    "Цель — проанализировать, какие товары продаются в данной категории и какие заголовки там бывают для последующего использования этой информации при решении уже какой-то конкретной задачи.\n",
    "\n",
    "Мы имеем дело с текстовыми данными — чтобы кластеризовать их, нам необходимы вектора. Одними из самых простых методов получения векторов, пригодных для использования в реальных задачах, являются TfidfVectorizer или Word2Vec.\n",
    "\n",
    "В этом шаге мы воспользуемся моделью Word2Vec, предполагая, что она лучше подходит для смыслового анализа слов.\n",
    "\n",
    "Пайплайн получения векторов для заголовков из семинара:"
   ]
  },
  {
   "cell_type": "code",
   "execution_count": 1,
   "metadata": {
    "ExecuteTime": {
     "end_time": "2022-09-16T14:17:52.574544Z",
     "start_time": "2022-09-16T14:17:51.673450Z"
    }
   },
   "outputs": [],
   "source": [
    "import re\n",
    "import ssl\n",
    "from urllib import request\n",
    "\n",
    "import numpy as np\n",
    "import pandas as pd\n",
    "from gensim.models import Word2Vec"
   ]
  },
  {
   "cell_type": "markdown",
   "metadata": {},
   "source": [
    "Данные можно [скачать](https://stepik.org/media/attachments/lesson/535633/titles_for_clustering_original.csv)\n",
    "    или загрузить по ссылке: "
   ]
  },
  {
   "cell_type": "code",
   "execution_count": 136,
   "metadata": {
    "ExecuteTime": {
     "end_time": "2022-09-16T15:03:39.232209Z",
     "start_time": "2022-09-16T15:03:39.204117Z"
    }
   },
   "outputs": [],
   "source": [
    "# загружаем данные\n",
    "ssl._create_default_https_context = ssl._create_unverified_context\n",
    "\n",
    "# DATA_URL = 'https://stepik.org/media/attachments/lesson/535633/titles_for_clustering_original.csv'\n",
    "\n",
    "data = pd.read_csv('./datasets/data_split_into_classes.csv')"
   ]
  },
  {
   "cell_type": "code",
   "execution_count": 137,
   "metadata": {
    "ExecuteTime": {
     "end_time": "2022-09-16T15:03:43.031536Z",
     "start_time": "2022-09-16T15:03:43.006777Z"
    },
    "scrolled": false
   },
   "outputs": [
    {
     "data": {
      "text/html": [
       "<div>\n",
       "<style scoped>\n",
       "    .dataframe tbody tr th:only-of-type {\n",
       "        vertical-align: middle;\n",
       "    }\n",
       "\n",
       "    .dataframe tbody tr th {\n",
       "        vertical-align: top;\n",
       "    }\n",
       "\n",
       "    .dataframe thead th {\n",
       "        text-align: right;\n",
       "    }\n",
       "</style>\n",
       "<table border=\"1\" class=\"dataframe\">\n",
       "  <thead>\n",
       "    <tr style=\"text-align: right;\">\n",
       "      <th></th>\n",
       "      <th>item_id</th>\n",
       "      <th>image_id</th>\n",
       "      <th>title</th>\n",
       "    </tr>\n",
       "  </thead>\n",
       "  <tbody>\n",
       "    <tr>\n",
       "      <th>0</th>\n",
       "      <td>928428250447</td>\n",
       "      <td>9930449149</td>\n",
       "      <td>Беговая дорожка laufstein corsa automatik</td>\n",
       "    </tr>\n",
       "    <tr>\n",
       "      <th>1</th>\n",
       "      <td>172952000262</td>\n",
       "      <td>1770341493</td>\n",
       "      <td>Эллиптический тренажер Torneo Vento C-208</td>\n",
       "    </tr>\n",
       "    <tr>\n",
       "      <th>2</th>\n",
       "      <td>1064720000255</td>\n",
       "      <td>11289835148</td>\n",
       "      <td>Эллиптический тренажер</td>\n",
       "    </tr>\n",
       "    <tr>\n",
       "      <th>3</th>\n",
       "      <td>660092751953</td>\n",
       "      <td>5126102753</td>\n",
       "      <td>Гантели по 10 кг каждая</td>\n",
       "    </tr>\n",
       "    <tr>\n",
       "      <th>4</th>\n",
       "      <td>258603750759</td>\n",
       "      <td>2318932240</td>\n",
       "      <td>Kettler Delta XL</td>\n",
       "    </tr>\n",
       "    <tr>\n",
       "      <th>5</th>\n",
       "      <td>90672500084</td>\n",
       "      <td>1318576304</td>\n",
       "      <td>Эллиптический тренажер торнео</td>\n",
       "    </tr>\n",
       "    <tr>\n",
       "      <th>6</th>\n",
       "      <td>126675250533</td>\n",
       "      <td>1514869208</td>\n",
       "      <td>Продам тренажер, телефон в подарок</td>\n",
       "    </tr>\n",
       "    <tr>\n",
       "      <th>7</th>\n",
       "      <td>73635250131</td>\n",
       "      <td>1235842103</td>\n",
       "      <td>Гиря 16</td>\n",
       "    </tr>\n",
       "    <tr>\n",
       "      <th>8</th>\n",
       "      <td>922164250068</td>\n",
       "      <td>9856241332</td>\n",
       "      <td>Гребля сидя</td>\n",
       "    </tr>\n",
       "    <tr>\n",
       "      <th>9</th>\n",
       "      <td>398470251099</td>\n",
       "      <td>3301326704</td>\n",
       "      <td>Практический новый элиптический тренажер</td>\n",
       "    </tr>\n",
       "  </tbody>\n",
       "</table>\n",
       "</div>"
      ],
      "text/plain": [
       "         item_id     image_id                                      title\n",
       "0   928428250447   9930449149  Беговая дорожка laufstein corsa automatik\n",
       "1   172952000262   1770341493  Эллиптический тренажер Torneo Vento C-208\n",
       "2  1064720000255  11289835148                     Эллиптический тренажер\n",
       "3   660092751953   5126102753                    Гантели по 10 кг каждая\n",
       "4   258603750759   2318932240                           Kettler Delta XL\n",
       "5    90672500084   1318576304              Эллиптический тренажер торнео\n",
       "6   126675250533   1514869208         Продам тренажер, телефон в подарок\n",
       "7    73635250131   1235842103                                    Гиря 16\n",
       "8   922164250068   9856241332                                Гребля сидя\n",
       "9   398470251099   3301326704   Практический новый элиптический тренажер"
      ]
     },
     "execution_count": 137,
     "metadata": {},
     "output_type": "execute_result"
    }
   ],
   "source": [
    "data.head(10)"
   ]
  },
  {
   "cell_type": "code",
   "execution_count": 138,
   "metadata": {
    "ExecuteTime": {
     "end_time": "2022-09-16T15:03:45.072134Z",
     "start_time": "2022-09-16T15:03:45.060779Z"
    }
   },
   "outputs": [
    {
     "data": {
      "text/plain": [
       "(2456, 3)"
      ]
     },
     "execution_count": 138,
     "metadata": {},
     "output_type": "execute_result"
    }
   ],
   "source": [
    "data.shape"
   ]
  },
  {
   "cell_type": "code",
   "execution_count": 139,
   "metadata": {
    "ExecuteTime": {
     "end_time": "2022-09-16T15:03:46.450018Z",
     "start_time": "2022-09-16T15:03:46.425526Z"
    }
   },
   "outputs": [
    {
     "data": {
      "text/html": [
       "<div>\n",
       "<style scoped>\n",
       "    .dataframe tbody tr th:only-of-type {\n",
       "        vertical-align: middle;\n",
       "    }\n",
       "\n",
       "    .dataframe tbody tr th {\n",
       "        vertical-align: top;\n",
       "    }\n",
       "\n",
       "    .dataframe thead th {\n",
       "        text-align: right;\n",
       "    }\n",
       "</style>\n",
       "<table border=\"1\" class=\"dataframe\">\n",
       "  <thead>\n",
       "    <tr style=\"text-align: right;\">\n",
       "      <th></th>\n",
       "      <th>item_id</th>\n",
       "      <th>image_id</th>\n",
       "      <th>title</th>\n",
       "    </tr>\n",
       "  </thead>\n",
       "  <tbody>\n",
       "    <tr>\n",
       "      <th>541</th>\n",
       "      <td>367883001098</td>\n",
       "      <td>3137208199</td>\n",
       "      <td>1000</td>\n",
       "    </tr>\n",
       "  </tbody>\n",
       "</table>\n",
       "</div>"
      ],
      "text/plain": [
       "          item_id    image_id title\n",
       "541  367883001098  3137208199  1000"
      ]
     },
     "execution_count": 139,
     "metadata": {},
     "output_type": "execute_result"
    }
   ],
   "source": [
    "data[data.item_id == 367883001098]"
   ]
  },
  {
   "cell_type": "code",
   "execution_count": 140,
   "metadata": {
    "ExecuteTime": {
     "end_time": "2022-09-16T15:03:48.425896Z",
     "start_time": "2022-09-16T15:03:48.384584Z"
    }
   },
   "outputs": [],
   "source": [
    "# предобработка\n",
    "def preprocessing(text):\n",
    "    \"\"\"Делаем предобработку.\n",
    "    \n",
    "    - приводим к нижнему регистру\n",
    "    - удаляем пунктуацию и цифры\n",
    "    - удаляем английские слова: не имеют большой значимости для данной задачи\n",
    "    :return: строка обработанного текста\n",
    "    \"\"\"\n",
    "    text = re.sub(r'[\\d]', ' ', text.lower())\n",
    "    return ' '.join(text.split())\n",
    "\n",
    "data['title'] = data['title'].apply(preprocessing)\n",
    "# удаляем заголовки, которые стали пустыми после предобработки\n",
    "# mask = data['title'].apply(lambda x: len(x.split()) > 0)\n",
    "# data = data[mask]\n",
    "\n",
    "# data.drop_duplicates('title', inplace=True) - опционально, зависит от цели кластеризации\n",
    "data = data.reset_index(drop=True)"
   ]
  },
  {
   "cell_type": "code",
   "execution_count": 141,
   "metadata": {
    "ExecuteTime": {
     "end_time": "2022-09-16T15:03:51.104199Z",
     "start_time": "2022-09-16T15:03:51.080633Z"
    }
   },
   "outputs": [
    {
     "data": {
      "text/html": [
       "<div>\n",
       "<style scoped>\n",
       "    .dataframe tbody tr th:only-of-type {\n",
       "        vertical-align: middle;\n",
       "    }\n",
       "\n",
       "    .dataframe tbody tr th {\n",
       "        vertical-align: top;\n",
       "    }\n",
       "\n",
       "    .dataframe thead th {\n",
       "        text-align: right;\n",
       "    }\n",
       "</style>\n",
       "<table border=\"1\" class=\"dataframe\">\n",
       "  <thead>\n",
       "    <tr style=\"text-align: right;\">\n",
       "      <th></th>\n",
       "      <th>item_id</th>\n",
       "      <th>image_id</th>\n",
       "      <th>title</th>\n",
       "    </tr>\n",
       "  </thead>\n",
       "  <tbody>\n",
       "    <tr>\n",
       "      <th>0</th>\n",
       "      <td>928428250447</td>\n",
       "      <td>9930449149</td>\n",
       "      <td>беговая дорожка laufstein corsa automatik</td>\n",
       "    </tr>\n",
       "    <tr>\n",
       "      <th>1</th>\n",
       "      <td>172952000262</td>\n",
       "      <td>1770341493</td>\n",
       "      <td>эллиптический тренажер torneo vento c-</td>\n",
       "    </tr>\n",
       "    <tr>\n",
       "      <th>2</th>\n",
       "      <td>1064720000255</td>\n",
       "      <td>11289835148</td>\n",
       "      <td>эллиптический тренажер</td>\n",
       "    </tr>\n",
       "    <tr>\n",
       "      <th>3</th>\n",
       "      <td>660092751953</td>\n",
       "      <td>5126102753</td>\n",
       "      <td>гантели по кг каждая</td>\n",
       "    </tr>\n",
       "    <tr>\n",
       "      <th>4</th>\n",
       "      <td>258603750759</td>\n",
       "      <td>2318932240</td>\n",
       "      <td>kettler delta xl</td>\n",
       "    </tr>\n",
       "    <tr>\n",
       "      <th>5</th>\n",
       "      <td>90672500084</td>\n",
       "      <td>1318576304</td>\n",
       "      <td>эллиптический тренажер торнео</td>\n",
       "    </tr>\n",
       "    <tr>\n",
       "      <th>6</th>\n",
       "      <td>126675250533</td>\n",
       "      <td>1514869208</td>\n",
       "      <td>продам тренажер, телефон в подарок</td>\n",
       "    </tr>\n",
       "    <tr>\n",
       "      <th>7</th>\n",
       "      <td>73635250131</td>\n",
       "      <td>1235842103</td>\n",
       "      <td>гиря</td>\n",
       "    </tr>\n",
       "    <tr>\n",
       "      <th>8</th>\n",
       "      <td>922164250068</td>\n",
       "      <td>9856241332</td>\n",
       "      <td>гребля сидя</td>\n",
       "    </tr>\n",
       "    <tr>\n",
       "      <th>9</th>\n",
       "      <td>398470251099</td>\n",
       "      <td>3301326704</td>\n",
       "      <td>практический новый элиптический тренажер</td>\n",
       "    </tr>\n",
       "  </tbody>\n",
       "</table>\n",
       "</div>"
      ],
      "text/plain": [
       "         item_id     image_id                                      title\n",
       "0   928428250447   9930449149  беговая дорожка laufstein corsa automatik\n",
       "1   172952000262   1770341493     эллиптический тренажер torneo vento c-\n",
       "2  1064720000255  11289835148                     эллиптический тренажер\n",
       "3   660092751953   5126102753                       гантели по кг каждая\n",
       "4   258603750759   2318932240                           kettler delta xl\n",
       "5    90672500084   1318576304              эллиптический тренажер торнео\n",
       "6   126675250533   1514869208         продам тренажер, телефон в подарок\n",
       "7    73635250131   1235842103                                       гиря\n",
       "8   922164250068   9856241332                                гребля сидя\n",
       "9   398470251099   3301326704   практический новый элиптический тренажер"
      ]
     },
     "execution_count": 141,
     "metadata": {},
     "output_type": "execute_result"
    }
   ],
   "source": [
    "data.head(10)"
   ]
  },
  {
   "cell_type": "code",
   "execution_count": 143,
   "metadata": {
    "ExecuteTime": {
     "end_time": "2022-09-16T15:03:58.195648Z",
     "start_time": "2022-09-16T15:03:58.183790Z"
    },
    "scrolled": false
   },
   "outputs": [],
   "source": [
    "data.loc[data['title'] == '', 'title'] = 'a'"
   ]
  },
  {
   "cell_type": "code",
   "execution_count": 233,
   "metadata": {
    "ExecuteTime": {
     "end_time": "2022-09-16T16:09:20.887086Z",
     "start_time": "2022-09-16T16:09:20.477524Z"
    }
   },
   "outputs": [
    {
     "data": {
      "text/plain": [
       "(37238, 53300)"
      ]
     },
     "execution_count": 233,
     "metadata": {},
     "output_type": "execute_result"
    }
   ],
   "source": [
    "# обучение Word2Vec\n",
    "w2v_corpus = [x.split() for x in data['title']]\n",
    "\n",
    "w2v_model = Word2Vec(min_count=0, vector_size=3, hs=1, window=1, seed=0)\n",
    "w2v_model.build_vocab(w2v_corpus)\n",
    "w2v_model.train(w2v_corpus, total_examples=w2v_model.corpus_count, epochs=w2v_model.epochs) "
   ]
  },
  {
   "cell_type": "code",
   "execution_count": 234,
   "metadata": {
    "ExecuteTime": {
     "end_time": "2022-09-16T16:09:21.069817Z",
     "start_time": "2022-09-16T16:09:21.055804Z"
    }
   },
   "outputs": [
    {
     "data": {
      "text/plain": [
       "array([ 0.08493209, -0.084175  ,  0.02150239], dtype=float32)"
      ]
     },
     "execution_count": 234,
     "metadata": {},
     "output_type": "execute_result"
    }
   ],
   "source": [
    "w2v_model.wv['диск']"
   ]
  },
  {
   "cell_type": "code",
   "execution_count": 239,
   "metadata": {
    "ExecuteTime": {
     "end_time": "2022-09-16T16:09:41.746489Z",
     "start_time": "2022-09-16T16:09:41.729412Z"
    }
   },
   "outputs": [
    {
     "data": {
      "text/plain": [
       "1.0501056"
      ]
     },
     "execution_count": 239,
     "metadata": {},
     "output_type": "execute_result"
    }
   ],
   "source": [
    "np.linalg.norm(w2v_model.wv['гантели'] - w2v_model.wv['тренажер'])"
   ]
  },
  {
   "cell_type": "code",
   "execution_count": 240,
   "metadata": {
    "ExecuteTime": {
     "end_time": "2022-09-16T16:09:45.379496Z",
     "start_time": "2022-09-16T16:09:45.248346Z"
    }
   },
   "outputs": [],
   "source": [
    "# получение векторов заголовков из векторов слов\n",
    "w2v_embeddings = []\n",
    "for title_words in w2v_corpus:\n",
    "    # не забываем, что некоторые слова могут не быть в словаре Word2Vec из-за выставленного min_count\n",
    "    title_word_embs = [\n",
    "        w2v_model.wv[word] \n",
    "        for word in title_words \n",
    "        if word in w2v_model.wv.key_to_index\n",
    "    ]\n",
    "    title_emb = sum(title_word_embs) / len(title_word_embs)\n",
    "    w2v_embeddings.append(title_emb)\n",
    "w2v_embeddings = np.vstack(w2v_embeddings)"
   ]
  },
  {
   "cell_type": "code",
   "execution_count": 241,
   "metadata": {
    "ExecuteTime": {
     "end_time": "2022-09-16T16:09:46.038004Z",
     "start_time": "2022-09-16T16:09:46.021272Z"
    }
   },
   "outputs": [
    {
     "data": {
      "text/plain": [
       "(2456, 3)"
      ]
     },
     "execution_count": 241,
     "metadata": {},
     "output_type": "execute_result"
    }
   ],
   "source": [
    "w2v_embeddings.shape"
   ]
  },
  {
   "cell_type": "markdown",
   "metadata": {},
   "source": [
    "## Визуализация кластеров\n"
   ]
  },
  {
   "cell_type": "code",
   "execution_count": 18,
   "metadata": {
    "ExecuteTime": {
     "end_time": "2022-09-16T14:19:00.447756Z",
     "start_time": "2022-09-16T14:19:00.037441Z"
    }
   },
   "outputs": [],
   "source": [
    "import random\n",
    "\n",
    "import matplotlib.cm as cm\n",
    "import matplotlib.pyplot as plt\n",
    "from sklearn.manifold import TSNE\n",
    "from sklearn.cluster import KMeans\n",
    "from sklearn.metrics.pairwise import euclidean_distances"
   ]
  },
  {
   "cell_type": "markdown",
   "metadata": {},
   "source": [
    "Часто используются два базовых метода анализа получившихся кластеров:\n",
    "\n",
    "* Посмотреть на несколько ближайших объектов до каждого центроида, исходя из этого оценить содержимое всего кластера.\n"
   ]
  },
  {
   "cell_type": "code",
   "execution_count": 197,
   "metadata": {
    "ExecuteTime": {
     "end_time": "2022-09-16T16:00:50.670765Z",
     "start_time": "2022-09-16T16:00:46.842401Z"
    },
    "scrolled": false
   },
   "outputs": [
    {
     "name": "stdout",
     "output_type": "stream",
     "text": [
      "Cluster 0:\n",
      "набор гантели + штанга w-образная кг\n",
      "продаю гантели сборные от . до . кг\n",
      "гантели - кг разборные торнео металл\n",
      "штанга кг + гантели ( шт по ) + груша и т. д\n",
      "гиря кг ссср, кг ссср\n",
      "Cluster 1:\n",
      "эллиптический тренажер brumer (ferrum/raizer) k\n",
      "велотренажёр kettler - axos cycle m\n",
      "продаю эллиптический тренажер domyos ve silver\n",
      "cardio slim кардиотренажер для ягодиц\n",
      "kettler crosstrainer vito m -\n"
     ]
    }
   ],
   "source": [
    "kmeans = KMeans(n_clusters=2)\n",
    "kmeans.fit(w2v_embeddings)\n",
    "\n",
    "top = 5\n",
    "clusters = kmeans.labels_\n",
    "dist_to_centers = euclidean_distances(kmeans.cluster_centers_, w2v_embeddings)\n",
    "top_most_similar = np.argsort(dist_to_centers)[:, :top]\n",
    "\n",
    "for clt in np.unique(clusters):\n",
    "    ids = top_most_similar[clt]\n",
    "    most_similar_titles = '\\n'.join(data.iloc[ids]['title'])\n",
    "    print(f'Cluster {clt}:\\n{most_similar_titles}')"
   ]
  },
  {
   "cell_type": "markdown",
   "metadata": {},
   "source": [
    "* Визуализация кластеров в 2D с помощью TSNE — широко распространённый метод визуализации данных высокой размерности. В случае очень большой размерности признакового пространства имеет смысл предварительно уменьшить размерность, например, с помощью PCA, для ускорения вычислений и устранения возможного шума."
   ]
  },
  {
   "cell_type": "code",
   "execution_count": 198,
   "metadata": {
    "ExecuteTime": {
     "end_time": "2022-09-16T16:00:57.682844Z",
     "start_time": "2022-09-16T16:00:57.667837Z"
    }
   },
   "outputs": [],
   "source": [
    "# для каждого кластера сэмплируем не более 20 точек для ускорения TSNE и наглядности картинки\n",
    "sample_i = []\n",
    "for clt in np.unique(clusters):\n",
    "    cluster_mask = clusters == clt\n",
    "    sample_i += random.sample(list(np.where(cluster_mask)[0]), min(20, cluster_mask.sum()))\n",
    "\n",
    "# берем слайс по sample_i\n",
    "sample_embeddings = w2v_embeddings[sample_i]\n",
    "sample_clusters = clusters[sample_i].reshape(-1, 1)\n",
    "sample_texts = data['title'].values[sample_i]"
   ]
  },
  {
   "cell_type": "code",
   "execution_count": 199,
   "metadata": {
    "ExecuteTime": {
     "end_time": "2022-09-16T16:00:58.828071Z",
     "start_time": "2022-09-16T16:00:58.113556Z"
    }
   },
   "outputs": [
    {
     "name": "stderr",
     "output_type": "stream",
     "text": [
      "/home/denis/.local/lib/python3.8/site-packages/sklearn/manifold/_t_sne.py:790: FutureWarning: The default learning rate in TSNE will change from 200.0 to 'auto' in 1.2.\n",
      "  warnings.warn(\n",
      "/home/denis/.local/lib/python3.8/site-packages/sklearn/manifold/_t_sne.py:819: FutureWarning: 'square_distances' has been introduced in 0.24 to help phase out legacy squaring behavior. The 'legacy' setting will be removed in 1.1 (renaming of 0.26), and the default setting will be changed to True. In 1.3, 'square_distances' will be removed altogether, and distances will be squared by default. Set 'square_distances'=True to silence this warning.\n",
      "  warnings.warn(\n",
      "/home/denis/.local/lib/python3.8/site-packages/sklearn/manifold/_t_sne.py:982: FutureWarning: The PCA initialization in TSNE will change to have the standard deviation of PC1 equal to 1e-4 in 1.2. This will ensure better convergence.\n",
      "  warnings.warn(\n"
     ]
    }
   ],
   "source": [
    "# обучаем и применяем TSNE\n",
    "tsne_model = TSNE(perplexity=50, metric='cosine', init='pca', n_iter=2500, random_state=17)\n",
    "reduced_embeddings = tsne_model.fit_transform(sample_embeddings)"
   ]
  },
  {
   "cell_type": "code",
   "execution_count": 200,
   "metadata": {
    "ExecuteTime": {
     "end_time": "2022-09-16T16:01:02.208033Z",
     "start_time": "2022-09-16T16:01:01.362520Z"
    }
   },
   "outputs": [
    {
     "data": {
      "image/png": "[encoded data removed]",
      "text/plain": [
       "<Figure size 1296x1296 with 1 Axes>"
      ]
     },
     "metadata": {
      "needs_background": "light"
     },
     "output_type": "display_data"
    }
   ],
   "source": [
    "not_annotate_thr=0.3\n",
    "plt.figure(figsize=(18, 18)) \n",
    "colors = cm.nipy_spectral(sample_clusters.astype(float) / len(np.unique(sample_clusters)))\n",
    "for i, (x, y) in enumerate(reduced_embeddings):\n",
    "    if np.random.rand() > not_annotate_thr:\n",
    "        plt.scatter(x, y, c=colors[i])\n",
    "        plt.annotate(sample_texts[i],\n",
    "                     xy=(x, y),\n",
    "                     xytext=(5, 2),\n",
    "                     textcoords='offset points',\n",
    "                     ha='right',\n",
    "                     va='bottom', \n",
    "                     size=8)\n",
    "plt.show()"
   ]
  },
  {
   "cell_type": "code",
   "execution_count": 32,
   "metadata": {
    "ExecuteTime": {
     "end_time": "2022-09-16T14:20:54.732150Z",
     "start_time": "2022-09-16T14:20:54.718470Z"
    }
   },
   "outputs": [
    {
     "data": {
      "text/plain": [
       "(array([53]),)"
      ]
     },
     "execution_count": 32,
     "metadata": {},
     "output_type": "execute_result"
    }
   ],
   "source": [
    "indexes = np.where(sample_texts == 'мини штанга')\n",
    "indexes"
   ]
  },
  {
   "cell_type": "code",
   "execution_count": 33,
   "metadata": {
    "ExecuteTime": {
     "end_time": "2022-09-16T14:20:55.805978Z",
     "start_time": "2022-09-16T14:20:55.793590Z"
    }
   },
   "outputs": [
    {
     "data": {
      "text/plain": [
       "array(['мини штанга'], dtype=object)"
      ]
     },
     "execution_count": 33,
     "metadata": {},
     "output_type": "execute_result"
    }
   ],
   "source": [
    "sample_texts[indexes]"
   ]
  },
  {
   "cell_type": "code",
   "execution_count": 34,
   "metadata": {
    "ExecuteTime": {
     "end_time": "2022-09-16T14:20:59.066141Z",
     "start_time": "2022-09-16T14:20:59.052254Z"
    }
   },
   "outputs": [
    {
     "data": {
      "text/plain": [
       "array([[ 558.6577  , -126.592896]], dtype=float32)"
      ]
     },
     "execution_count": 34,
     "metadata": {},
     "output_type": "execute_result"
    }
   ],
   "source": [
    "reduced_embeddings[indexes]"
   ]
  },
  {
   "cell_type": "code",
   "execution_count": null,
   "metadata": {},
   "outputs": [],
   "source": []
  },
  {
   "cell_type": "markdown",
   "metadata": {},
   "source": [
    "[Почему так](https://datascience.stackexchange.com/questions/19025/t-sne-why-equal-data-values-are-visually-not-close)"
   ]
  },
  {
   "cell_type": "markdown",
   "metadata": {},
   "source": [
    "## DBSCAN: краткий обзор\n",
    "\n",
    "Одним из наиболее часто используемых на практике методов кластеризации при неизвестном количестве кластеров является [DBSCAN](https://ru.wikipedia.org/wiki/DBSCAN)— метод кластеризации, основанный на плотности. \n",
    "\n",
    "Метод не применим к данным с большой разницей в плотности кластеров.\n",
    "\n",
    "Основные преимущества:\n",
    "\n",
    "1. Не требует априорного знания о необходимом количестве кластеров;\n",
    "1. Выделяет кластеры произвольной формы;\n",
    "1. Устойчив к выбросам, выделяет шум.\n",
    "\n",
    "Подбор параметров\n",
    "\n",
    "Вся сложность применения метода заключается в подборе двух основных параметров: `min_samples` и `eps`\n",
    "\n",
    "1. `min_samples` параметр определяет сколько объектов должно содержаться в `eps` окрестности выбранного объекта, чтобы этот объект считалась внутрикластерным. Имеет смысл брать только значения ≥3, на практике часто бывает достаточно ограничить поиски значениями от 3 до 9, но это носит лишь рекомендательный характер и не отрицает наличия оптимальной пары с `eps` вне данного отрезка\n",
    "1. `eps` параметр определяет размер окрестности. Чтобы больше определиться с областью поиска, для начала нужно выбрать функцию расстояния, так как для ненормированных векторов значения `euclidean_distances` и `cosine_distances` скорее всего лежат в разных диапазонах\n",
    "\n",
    "Далее можно воспользоваться двумя методами подбора: \n",
    "* Метод колена: для выбранного min_samples определяется подходящий eps\n",
    "\n",
    "*Идея*: для каждого объекта выборки считается расстояние до n-го соседа, где n выбирается равным `min_samples` . После этого расстояния сортируются и отрисовываются. В качестве `eps` берётся значение расстояния в точке с максимальной кривизной, предполагая, что точки с сильно растущим расстоянием до n-го соседа являются выбросами.\n",
    "\n",
    "Для поиска оптимальной точки можно воспользоваться библиотекой [kneed](https://kneed.readthedocs.io/en/stable/index.html) и ее классом [KneeLocator](https://kneed.readthedocs.io/en/stable/api.html#kneelocator). Суть его заключается в построении интерполирующей функции по заданным точкам (часто из класса полиномиальных функций) и выбора точки (среди заданных) с максимальным значением кривизны полученного интерполянта. В общепринятой формулировке метода колена значения расстояний располагаются в порядке возрастания, следовательно, имеем выпуклую кривую `curve='convex'` с порядком обхода по возрастанию `direction='increasing'`, параметр `interp_method='interp1d'` or `'polynomial'` отвечает методу интерполяции точек."
   ]
  },
  {
   "cell_type": "code",
   "execution_count": 24,
   "metadata": {
    "ExecuteTime": {
     "end_time": "2022-09-15T14:38:14.532300Z",
     "start_time": "2022-09-15T14:38:12.731642Z"
    }
   },
   "outputs": [
    {
     "name": "stdout",
     "output_type": "stream",
     "text": [
      "Defaulting to user installation because normal site-packages is not writeable\n",
      "Requirement already satisfied: kneed in /home/denis/.local/lib/python3.8/site-packages (0.8.1)\n",
      "Requirement already satisfied: numpy>=1.14.2 in /home/denis/.local/lib/python3.8/site-packages (from kneed) (1.21.4)\n",
      "Requirement already satisfied: scipy>=1.0.0 in /home/denis/.local/lib/python3.8/site-packages (from kneed) (1.7.3)\n",
      "\u001b[33mWARNING: There was an error checking the latest version of pip.\u001b[0m\u001b[33m\n",
      "\u001b[0m"
     ]
    }
   ],
   "source": [
    "!pip install kneed"
   ]
  },
  {
   "cell_type": "code",
   "execution_count": 35,
   "metadata": {
    "ExecuteTime": {
     "end_time": "2022-09-16T14:21:05.894234Z",
     "start_time": "2022-09-16T14:21:05.886504Z"
    }
   },
   "outputs": [],
   "source": [
    "from sklearn.metrics import pairwise_distances"
   ]
  },
  {
   "cell_type": "code",
   "execution_count": 242,
   "metadata": {
    "ExecuteTime": {
     "end_time": "2022-09-16T16:09:52.839743Z",
     "start_time": "2022-09-16T16:09:52.558725Z"
    }
   },
   "outputs": [
    {
     "data": {
      "text/plain": [
       "(2456, 2456)"
      ]
     },
     "execution_count": 242,
     "metadata": {},
     "output_type": "execute_result"
    }
   ],
   "source": [
    "distances = pairwise_distances(w2v_embeddings)\n",
    "distances.shape"
   ]
  },
  {
   "cell_type": "code",
   "execution_count": 243,
   "metadata": {
    "ExecuteTime": {
     "end_time": "2022-09-16T16:09:52.859058Z",
     "start_time": "2022-09-16T16:09:52.851899Z"
    }
   },
   "outputs": [],
   "source": [
    "n = 6"
   ]
  },
  {
   "cell_type": "code",
   "execution_count": 244,
   "metadata": {
    "ExecuteTime": {
     "end_time": "2022-09-16T16:09:53.339903Z",
     "start_time": "2022-09-16T16:09:52.911511Z"
    }
   },
   "outputs": [],
   "source": [
    "sorted_distances = np.sort(distances, axis=1)\n",
    "sorted_nth_distanses = np.sort(sorted_distances[:, n - 1])"
   ]
  },
  {
   "cell_type": "code",
   "execution_count": 245,
   "metadata": {
    "ExecuteTime": {
     "end_time": "2022-09-16T16:09:53.518281Z",
     "start_time": "2022-09-16T16:09:53.342253Z"
    }
   },
   "outputs": [
    {
     "name": "stdout",
     "output_type": "stream",
     "text": [
      "0.085600585\n"
     ]
    },
    {
     "data": {
      "text/plain": [
       "<Figure size 360x360 with 0 Axes>"
      ]
     },
     "metadata": {},
     "output_type": "display_data"
    },
    {
     "data": {
      "image/png": "[encoded data removed]",
      "text/plain": [
       "<Figure size 432x432 with 1 Axes>"
      ]
     },
     "metadata": {
      "needs_background": "light"
     },
     "output_type": "display_data"
    }
   ],
   "source": [
    "from kneed import KneeLocator\n",
    "knee = KneeLocator(np.arange(len(sorted_distances)), \n",
    "                   sorted_nth_distanses, \n",
    "                   curve='convex', \n",
    "                   direction='increasing', \n",
    "                   interp_method='polynomial')\n",
    "\n",
    "fig = plt.figure(figsize=(5, 5))\n",
    "knee.plot_knee()\n",
    "plt.xlabel(\"Points\")\n",
    "plt.ylabel(\"Distance\")\n",
    "print(sorted_nth_distanses[knee.knee])"
   ]
  },
  {
   "cell_type": "markdown",
   "metadata": {},
   "source": [
    "В качестве параметров для `DBSCAN` выбираются значения `eps=0.84`, `min_samples=7`, `metric='euclidean'`.\n",
    "\n",
    "На практике бывает полезно перебрать `eps` в небольшой окрестности найденного оптимального значения из-за зависимости оптимума от выбранного метода и степени интерполяции, попробовать разную интерполяцию и разные значения для n."
   ]
  },
  {
   "cell_type": "markdown",
   "metadata": {},
   "source": [
    "* Метод силуэта: \n",
    "\n",
    "*Идея*: перебирая по сетке значения для `min_samples` и `eps` , выбрать те, которые приводят к наибольшему значению [силуэт-метрики](https://scikit-learn.org/stable/modules/generated/sklearn.metrics.silhouette_score.html)."
   ]
  },
  {
   "cell_type": "code",
   "execution_count": 247,
   "metadata": {
    "ExecuteTime": {
     "end_time": "2022-09-16T16:11:16.016223Z",
     "start_time": "2022-09-16T16:10:07.931878Z"
    },
    "scrolled": true
   },
   "outputs": [
    {
     "name": "stdout",
     "output_type": "stream",
     "text": [
      "number of clusters = 3\n",
      "eps = 0.077, ms = 9: 0.2047\n",
      "number of clusters = 3\n",
      "eps = 0.081, ms = 8: 0.2182\n",
      "number of clusters = 3\n",
      "eps = 0.081, ms = 9: 0.2098\n",
      "number of clusters = 3\n",
      "eps = 0.085, ms = 8: 0.2250\n",
      "number of clusters = 3\n",
      "eps = 0.085, ms = 9: 0.2205\n",
      "number of clusters = 2\n",
      "eps = 0.088, ms = 7: 0.3245\n",
      "number of clusters = 2\n",
      "eps = 0.088, ms = 8: 0.3161\n",
      "number of clusters = 2\n",
      "eps = 0.092, ms = 7: 0.3347\n",
      "number of clusters = 2\n",
      "eps = 0.092, ms = 8: 0.3308\n",
      "number of clusters = 2\n",
      "eps = 0.092, ms = 9: 0.3234\n",
      "number of clusters = 2\n",
      "eps = 0.096, ms = 7: 0.3458\n",
      "number of clusters = 2\n",
      "eps = 0.096, ms = 8: 0.3443\n",
      "number of clusters = 2\n",
      "eps = 0.096, ms = 9: 0.3373\n",
      "number of clusters = 5\n",
      "eps = 0.100, ms = 3: 0.2235\n",
      "number of clusters = 2\n",
      "eps = 0.100, ms = 4: 0.3827\n",
      "number of clusters = 2\n",
      "eps = 0.100, ms = 7: 0.3576\n",
      "number of clusters = 2\n",
      "eps = 0.100, ms = 8: 0.3562\n",
      "number of clusters = 2\n",
      "eps = 0.100, ms = 9: 0.3560\n",
      "number of clusters = 5\n",
      "eps = 0.104, ms = 3: 0.2287\n",
      "number of clusters = 2\n",
      "eps = 0.104, ms = 4: 0.3886\n",
      "number of clusters = 3\n",
      "eps = 0.104, ms = 5: 0.2554\n",
      "number of clusters = 2\n",
      "eps = 0.104, ms = 6: 0.3820\n",
      "number of clusters = 2\n",
      "eps = 0.104, ms = 7: 0.3708\n",
      "number of clusters = 2\n",
      "eps = 0.104, ms = 8: 0.3679\n",
      "number of clusters = 2\n",
      "eps = 0.104, ms = 9: 0.3679\n",
      "number of clusters = 4\n",
      "eps = 0.108, ms = 3: 0.2866\n",
      "number of clusters = 2\n",
      "eps = 0.108, ms = 4: 0.4041\n",
      "number of clusters = 2\n",
      "eps = 0.108, ms = 5: 0.3958\n",
      "number of clusters = 2\n",
      "eps = 0.108, ms = 6: 0.3911\n",
      "number of clusters = 3\n",
      "eps = 0.108, ms = 7: 0.2425\n",
      "number of clusters = 2\n",
      "eps = 0.108, ms = 8: 0.3753\n",
      "number of clusters = 2\n",
      "eps = 0.108, ms = 9: 0.3735\n",
      "number of clusters = 4\n",
      "eps = 0.112, ms = 3: 0.2900\n",
      "number of clusters = 2\n",
      "eps = 0.112, ms = 4: 0.4089\n",
      "number of clusters = 2\n",
      "eps = 0.112, ms = 5: 0.4008\n",
      "number of clusters = 2\n",
      "eps = 0.112, ms = 6: 0.3988\n",
      "number of clusters = 2\n",
      "eps = 0.112, ms = 7: 0.3980\n",
      "number of clusters = 2\n",
      "eps = 0.112, ms = 8: 0.3917\n",
      "number of clusters = 2\n",
      "eps = 0.112, ms = 9: 0.3816\n",
      "number of clusters = 4\n",
      "eps = 0.115, ms = 3: 0.2900\n",
      "number of clusters = 2\n",
      "eps = 0.115, ms = 4: 0.4101\n",
      "number of clusters = 2\n",
      "eps = 0.115, ms = 5: 0.4101\n",
      "number of clusters = 2\n",
      "eps = 0.115, ms = 6: 0.4029\n",
      "number of clusters = 2\n",
      "eps = 0.115, ms = 7: 0.4005\n",
      "number of clusters = 2\n",
      "eps = 0.115, ms = 8: 0.3988\n",
      "number of clusters = 2\n",
      "eps = 0.115, ms = 9: 0.3893\n",
      "number of clusters = 3\n",
      "eps = 0.119, ms = 3: 0.3569\n",
      "number of clusters = 2\n",
      "eps = 0.119, ms = 4: 0.4200\n",
      "number of clusters = 2\n",
      "eps = 0.119, ms = 5: 0.4155\n",
      "number of clusters = 2\n",
      "eps = 0.119, ms = 6: 0.4079\n",
      "number of clusters = 2\n",
      "eps = 0.119, ms = 7: 0.4092\n",
      "number of clusters = 2\n",
      "eps = 0.119, ms = 8: 0.4054\n",
      "number of clusters = 2\n",
      "eps = 0.119, ms = 9: 0.3977\n",
      "number of clusters = 3\n",
      "eps = 0.123, ms = 3: 0.3612\n",
      "number of clusters = 2\n",
      "eps = 0.123, ms = 4: 0.4237\n",
      "number of clusters = 2\n",
      "eps = 0.123, ms = 5: 0.4206\n",
      "number of clusters = 2\n",
      "eps = 0.123, ms = 6: 0.4137\n",
      "number of clusters = 2\n",
      "eps = 0.123, ms = 7: 0.4140\n",
      "number of clusters = 2\n",
      "eps = 0.123, ms = 8: 0.4108\n",
      "number of clusters = 2\n",
      "eps = 0.123, ms = 9: 0.4062\n",
      "number of clusters = 3\n",
      "eps = 0.127, ms = 3: 0.3711\n",
      "number of clusters = 2\n",
      "eps = 0.127, ms = 4: 0.4289\n",
      "number of clusters = 2\n",
      "eps = 0.127, ms = 5: 0.4289\n",
      "number of clusters = 2\n",
      "eps = 0.127, ms = 6: 0.4219\n",
      "number of clusters = 2\n",
      "eps = 0.127, ms = 7: 0.4184\n",
      "number of clusters = 2\n",
      "eps = 0.127, ms = 8: 0.4144\n",
      "number of clusters = 2\n",
      "eps = 0.127, ms = 9: 0.4098\n",
      "number of clusters = 3\n",
      "eps = 0.131, ms = 3: 0.3711\n",
      "number of clusters = 2\n",
      "eps = 0.131, ms = 4: 0.4314\n",
      "number of clusters = 2\n",
      "eps = 0.131, ms = 5: 0.4289\n",
      "number of clusters = 2\n",
      "eps = 0.131, ms = 6: 0.4219\n",
      "number of clusters = 2\n",
      "eps = 0.131, ms = 7: 0.4210\n",
      "number of clusters = 2\n",
      "eps = 0.131, ms = 8: 0.4168\n",
      "number of clusters = 2\n",
      "eps = 0.131, ms = 9: 0.4135\n",
      "number of clusters = 3\n",
      "eps = 0.135, ms = 3: 0.3711\n",
      "number of clusters = 2\n",
      "eps = 0.135, ms = 4: 0.4314\n",
      "number of clusters = 2\n",
      "eps = 0.135, ms = 5: 0.4314\n",
      "number of clusters = 2\n",
      "eps = 0.135, ms = 6: 0.4287\n",
      "number of clusters = 2\n",
      "eps = 0.135, ms = 7: 0.4270\n",
      "number of clusters = 2\n",
      "eps = 0.135, ms = 8: 0.4289\n",
      "number of clusters = 2\n",
      "eps = 0.135, ms = 9: 0.4175\n",
      "number of clusters = 3\n",
      "eps = 0.138, ms = 3: 0.3868\n",
      "number of clusters = 2\n",
      "eps = 0.138, ms = 4: 0.4475\n",
      "number of clusters = 2\n",
      "eps = 0.138, ms = 5: 0.4427\n",
      "number of clusters = 2\n",
      "eps = 0.138, ms = 6: 0.4395\n",
      "number of clusters = 2\n",
      "eps = 0.138, ms = 7: 0.4379\n",
      "number of clusters = 2\n",
      "eps = 0.138, ms = 8: 0.4381\n",
      "number of clusters = 2\n",
      "eps = 0.138, ms = 9: 0.4379\n",
      "number of clusters = 3\n",
      "eps = 0.142, ms = 3: 0.3942\n",
      "number of clusters = 2\n",
      "eps = 0.142, ms = 4: 0.4527\n",
      "number of clusters = 2\n",
      "eps = 0.142, ms = 5: 0.4527\n",
      "number of clusters = 2\n",
      "eps = 0.142, ms = 6: 0.4499\n",
      "number of clusters = 2\n",
      "eps = 0.142, ms = 7: 0.4499\n",
      "number of clusters = 2\n",
      "eps = 0.142, ms = 8: 0.4500\n",
      "number of clusters = 2\n",
      "eps = 0.142, ms = 9: 0.4442\n",
      "number of clusters = 2\n",
      "eps = 0.146, ms = 3: 0.4636\n",
      "number of clusters = 2\n",
      "eps = 0.146, ms = 4: 0.4504\n",
      "number of clusters = 2\n",
      "eps = 0.146, ms = 5: 0.4540\n",
      "number of clusters = 2\n",
      "eps = 0.146, ms = 6: 0.4540\n",
      "number of clusters = 2\n",
      "eps = 0.146, ms = 7: 0.4540\n",
      "number of clusters = 2\n",
      "eps = 0.146, ms = 8: 0.4545\n",
      "number of clusters = 2\n",
      "eps = 0.146, ms = 9: 0.4545\n",
      "number of clusters = 2\n",
      "eps = 0.150, ms = 3: 0.4636\n",
      "number of clusters = 2\n",
      "eps = 0.150, ms = 4: 0.4563\n",
      "number of clusters = 2\n",
      "eps = 0.150, ms = 5: 0.4598\n",
      "number of clusters = 2\n",
      "eps = 0.150, ms = 6: 0.4551\n",
      "number of clusters = 2\n",
      "eps = 0.150, ms = 7: 0.4551\n",
      "number of clusters = 2\n",
      "eps = 0.150, ms = 8: 0.4555\n",
      "number of clusters = 2\n",
      "eps = 0.150, ms = 9: 0.4555\n",
      "number of clusters = 2\n",
      "eps = 0.154, ms = 3: 0.4770\n",
      "number of clusters = 2\n",
      "eps = 0.154, ms = 4: 0.4680\n",
      "number of clusters = 2\n",
      "eps = 0.154, ms = 5: 0.4704\n",
      "number of clusters = 2\n",
      "eps = 0.154, ms = 6: 0.4596\n",
      "number of clusters = 2\n",
      "eps = 0.154, ms = 7: 0.4596\n",
      "number of clusters = 2\n",
      "eps = 0.154, ms = 8: 0.4596\n",
      "number of clusters = 2\n",
      "eps = 0.154, ms = 9: 0.4596\n",
      "number of clusters = 2\n",
      "eps = 0.158, ms = 3: 0.4804\n",
      "number of clusters = 2\n",
      "eps = 0.158, ms = 4: 0.4804\n",
      "number of clusters = 2\n",
      "eps = 0.158, ms = 5: 0.4722\n",
      "number of clusters = 2\n",
      "eps = 0.158, ms = 6: 0.4601\n",
      "number of clusters = 2\n",
      "eps = 0.158, ms = 7: 0.4601\n",
      "number of clusters = 2\n",
      "eps = 0.158, ms = 8: 0.4601\n",
      "number of clusters = 2\n",
      "eps = 0.158, ms = 9: 0.4601\n",
      "number of clusters = 2\n",
      "eps = 0.162, ms = 3: 0.4777\n",
      "number of clusters = 2\n",
      "eps = 0.162, ms = 4: 0.4811\n",
      "number of clusters = 2\n",
      "eps = 0.162, ms = 5: 0.4722\n",
      "number of clusters = 2\n",
      "eps = 0.162, ms = 6: 0.4722\n",
      "number of clusters = 2\n",
      "eps = 0.162, ms = 7: 0.4653\n",
      "number of clusters = 2\n",
      "eps = 0.162, ms = 8: 0.4653\n",
      "number of clusters = 2\n",
      "eps = 0.162, ms = 9: 0.4653\n",
      "number of clusters = 2\n",
      "eps = 0.165, ms = 3: 0.4777\n",
      "number of clusters = 2\n",
      "eps = 0.165, ms = 4: 0.4811\n",
      "number of clusters = 2\n",
      "eps = 0.165, ms = 5: 0.4722\n",
      "number of clusters = 2\n",
      "eps = 0.165, ms = 6: 0.4722\n",
      "number of clusters = 2\n",
      "eps = 0.165, ms = 7: 0.4722\n",
      "number of clusters = 2\n",
      "eps = 0.165, ms = 8: 0.4722\n",
      "number of clusters = 2\n",
      "eps = 0.165, ms = 9: 0.4722\n",
      "number of clusters = 2\n",
      "eps = 0.169, ms = 3: 0.4856\n",
      "number of clusters = 2\n",
      "eps = 0.169, ms = 4: 0.4888\n",
      "number of clusters = 2\n",
      "eps = 0.169, ms = 5: 0.4777\n",
      "number of clusters = 2\n",
      "eps = 0.169, ms = 6: 0.4777\n",
      "number of clusters = 2\n",
      "eps = 0.169, ms = 7: 0.4777\n",
      "number of clusters = 2\n",
      "eps = 0.169, ms = 8: 0.4777\n",
      "number of clusters = 2\n",
      "eps = 0.169, ms = 9: 0.4777\n",
      "number of clusters = 2\n",
      "eps = 0.173, ms = 3: 0.5070\n",
      "number of clusters = 2\n",
      "eps = 0.173, ms = 4: 0.5092\n",
      "number of clusters = 2\n",
      "eps = 0.173, ms = 5: 0.4922\n",
      "number of clusters = 2\n",
      "eps = 0.173, ms = 6: 0.4909\n",
      "number of clusters = 2\n",
      "eps = 0.173, ms = 7: 0.4909\n",
      "number of clusters = 2\n",
      "eps = 0.173, ms = 8: 0.4909\n",
      "number of clusters = 2\n",
      "eps = 0.173, ms = 9: 0.4909\n",
      "number of clusters = 2\n",
      "eps = 0.177, ms = 3: 0.5070\n",
      "number of clusters = 2\n",
      "eps = 0.177, ms = 4: 0.5092\n",
      "number of clusters = 2\n",
      "eps = 0.177, ms = 5: 0.4922\n",
      "number of clusters = 2\n",
      "eps = 0.177, ms = 6: 0.4922\n",
      "number of clusters = 2\n",
      "eps = 0.177, ms = 7: 0.4922\n",
      "number of clusters = 2\n",
      "eps = 0.177, ms = 8: 0.4922\n",
      "number of clusters = 2\n",
      "eps = 0.177, ms = 9: 0.4922\n",
      "number of clusters = 2\n",
      "eps = 0.181, ms = 3: 0.5070\n",
      "number of clusters = 2\n",
      "eps = 0.181, ms = 4: 0.5092\n",
      "number of clusters = 2\n",
      "eps = 0.181, ms = 5: 0.4922\n"
     ]
    },
    {
     "name": "stdout",
     "output_type": "stream",
     "text": [
      "number of clusters = 2\n",
      "eps = 0.181, ms = 6: 0.4922\n",
      "number of clusters = 2\n",
      "eps = 0.181, ms = 7: 0.4922\n",
      "number of clusters = 2\n",
      "eps = 0.181, ms = 8: 0.4922\n",
      "number of clusters = 2\n",
      "eps = 0.181, ms = 9: 0.4922\n",
      "number of clusters = 2\n",
      "eps = 0.185, ms = 3: 0.5070\n",
      "number of clusters = 2\n",
      "eps = 0.185, ms = 4: 0.5092\n",
      "number of clusters = 2\n",
      "eps = 0.185, ms = 5: 0.4922\n",
      "number of clusters = 2\n",
      "eps = 0.185, ms = 6: 0.4922\n",
      "number of clusters = 2\n",
      "eps = 0.185, ms = 7: 0.4922\n",
      "number of clusters = 2\n",
      "eps = 0.185, ms = 8: 0.4922\n",
      "number of clusters = 2\n",
      "eps = 0.185, ms = 9: 0.4922\n",
      "number of clusters = 2\n",
      "eps = 0.188, ms = 3: 0.5137\n",
      "number of clusters = 2\n",
      "eps = 0.188, ms = 4: 0.5147\n",
      "number of clusters = 2\n",
      "eps = 0.188, ms = 5: 0.4955\n",
      "number of clusters = 2\n",
      "eps = 0.188, ms = 6: 0.4955\n",
      "number of clusters = 2\n",
      "eps = 0.188, ms = 7: 0.4955\n",
      "number of clusters = 2\n",
      "eps = 0.188, ms = 8: 0.4955\n",
      "number of clusters = 2\n",
      "eps = 0.188, ms = 9: 0.4955\n",
      "number of clusters = 2\n",
      "eps = 0.192, ms = 3: 0.5027\n",
      "number of clusters = 2\n",
      "eps = 0.192, ms = 4: 0.5060\n",
      "number of clusters = 2\n",
      "eps = 0.192, ms = 5: 0.4847\n",
      "number of clusters = 2\n",
      "eps = 0.192, ms = 6: 0.4955\n",
      "number of clusters = 2\n",
      "eps = 0.192, ms = 7: 0.4955\n",
      "number of clusters = 2\n",
      "eps = 0.192, ms = 8: 0.4955\n",
      "number of clusters = 2\n",
      "eps = 0.192, ms = 9: 0.4955\n",
      "number of clusters = 2\n",
      "eps = 0.196, ms = 3: 0.5027\n",
      "number of clusters = 2\n",
      "eps = 0.196, ms = 4: 0.5060\n",
      "number of clusters = 2\n",
      "eps = 0.196, ms = 5: 0.4847\n",
      "number of clusters = 2\n",
      "eps = 0.196, ms = 6: 0.4955\n",
      "number of clusters = 2\n",
      "eps = 0.196, ms = 7: 0.4955\n",
      "number of clusters = 2\n",
      "eps = 0.196, ms = 8: 0.4955\n",
      "number of clusters = 2\n",
      "eps = 0.196, ms = 9: 0.4955\n",
      "number of clusters = 2\n",
      "eps = 0.200, ms = 3: 0.5027\n",
      "number of clusters = 2\n",
      "eps = 0.200, ms = 4: 0.5060\n",
      "number of clusters = 2\n",
      "eps = 0.200, ms = 5: 0.4847\n",
      "number of clusters = 2\n",
      "eps = 0.200, ms = 6: 0.4955\n",
      "number of clusters = 2\n",
      "eps = 0.200, ms = 7: 0.4955\n",
      "number of clusters = 2\n",
      "eps = 0.200, ms = 8: 0.4955\n",
      "number of clusters = 2\n",
      "eps = 0.200, ms = 9: 0.4955\n"
     ]
    }
   ],
   "source": [
    "from sklearn.cluster import DBSCAN\n",
    "from sklearn.metrics import silhouette_score\n",
    "\n",
    "for eps in np.linspace(0.05, 0.2, 40):\n",
    "    for ms in [3, 4, 5, 6, 7, 8, 9]:\n",
    "        clustering = DBSCAN(eps=eps, min_samples=ms, metric='euclidean', n_jobs=-1)\n",
    "        clusters = clustering.fit_predict(w2v_embeddings)\n",
    "        if np.unique(clusters).shape[0] < 2:\n",
    "            continue\n",
    "        score = silhouette_score(w2v_embeddings, clusters)\n",
    "        if score > 0.2:\n",
    "            print(f'number of clusters = {np.unique(clusters).shape[0]}')\n",
    "            print(f'eps = {eps:0.3f}, ms = {ms}: {score:0.4f}')"
   ]
  },
  {
   "cell_type": "markdown",
   "metadata": {},
   "source": [
    "В домашнем задании будет два пункта:\n",
    "\n",
    "* Реализовать KMeans\n",
    "* Выполнить кластеризацию и разбиение заданной категории на виды товаров"
   ]
  },
  {
   "cell_type": "code",
   "execution_count": 277,
   "metadata": {
    "ExecuteTime": {
     "end_time": "2022-09-16T16:26:28.697984Z",
     "start_time": "2022-09-16T16:26:28.241407Z"
    }
   },
   "outputs": [],
   "source": [
    "clustering = DBSCAN(eps=11, min_samples=5, metric='euclidean', n_jobs=-1)\n",
    "clusters = clustering.fit_predict(embeddings[:, :256])"
   ]
  },
  {
   "cell_type": "code",
   "execution_count": 278,
   "metadata": {
    "ExecuteTime": {
     "end_time": "2022-09-16T16:26:29.119857Z",
     "start_time": "2022-09-16T16:26:28.768910Z"
    }
   },
   "outputs": [
    {
     "data": {
      "text/plain": [
       "0.10333856"
      ]
     },
     "execution_count": 278,
     "metadata": {},
     "output_type": "execute_result"
    }
   ],
   "source": [
    "score = silhouette_score(embeddings[:, :256], clusters)\n",
    "score"
   ]
  },
  {
   "cell_type": "code",
   "execution_count": 250,
   "metadata": {
    "ExecuteTime": {
     "end_time": "2022-09-16T16:12:15.784375Z",
     "start_time": "2022-09-16T16:12:15.770897Z"
    }
   },
   "outputs": [
    {
     "data": {
      "text/plain": [
       "(2,)"
      ]
     },
     "execution_count": 250,
     "metadata": {},
     "output_type": "execute_result"
    }
   ],
   "source": [
    "np.unique(clusters).shape"
   ]
  },
  {
   "cell_type": "code",
   "execution_count": 279,
   "metadata": {
    "ExecuteTime": {
     "end_time": "2022-09-16T16:26:32.081674Z",
     "start_time": "2022-09-16T16:26:32.074085Z"
    }
   },
   "outputs": [],
   "source": [
    "pd.DataFrame(clusters).to_csv('solution.csv', header=['cluster'], index=False)"
   ]
  },
  {
   "cell_type": "code",
   "execution_count": 280,
   "metadata": {
    "ExecuteTime": {
     "end_time": "2022-09-16T16:26:38.051123Z",
     "start_time": "2022-09-16T16:26:38.038957Z"
    }
   },
   "outputs": [
    {
     "data": {
      "text/plain": [
       "(2456,)"
      ]
     },
     "execution_count": 280,
     "metadata": {},
     "output_type": "execute_result"
    }
   ],
   "source": [
    "clusters.shape"
   ]
  },
  {
   "cell_type": "code",
   "execution_count": 184,
   "metadata": {
    "ExecuteTime": {
     "end_time": "2022-09-16T15:55:36.719512Z",
     "start_time": "2022-09-16T15:55:36.711583Z"
    }
   },
   "outputs": [],
   "source": [
    "from sklearn.metrics.cluster import homogeneity_score"
   ]
  },
  {
   "cell_type": "code",
   "execution_count": 190,
   "metadata": {
    "ExecuteTime": {
     "end_time": "2022-09-16T15:55:54.718472Z",
     "start_time": "2022-09-16T15:55:54.712225Z"
    }
   },
   "outputs": [
    {
     "name": "stdout",
     "output_type": "stream",
     "text": [
      "1.000000\n"
     ]
    }
   ],
   "source": [
    "print(\"%.6f\" % homogeneity_score([0, 0, 1, 1], [1, 1, 0, 0]))"
   ]
  },
  {
   "cell_type": "code",
   "execution_count": 252,
   "metadata": {
    "ExecuteTime": {
     "end_time": "2022-09-16T16:13:56.975499Z",
     "start_time": "2022-09-16T16:13:56.948655Z"
    }
   },
   "outputs": [],
   "source": [
    "with open('./datasets/image_embeddings.npy', 'rb') as f:\n",
    "    embeddings = np.load(f)"
   ]
  },
  {
   "cell_type": "code",
   "execution_count": 253,
   "metadata": {
    "ExecuteTime": {
     "end_time": "2022-09-16T16:16:05.135351Z",
     "start_time": "2022-09-16T16:14:20.853201Z"
    }
   },
   "outputs": [],
   "source": [
    "for eps in np.linspace(0.05, 0.2, 40):\n",
    "    for ms in [3, 4, 5, 6, 7, 8, 9]:\n",
    "        clustering = DBSCAN(eps=eps, min_samples=ms, metric='euclidean', n_jobs=-1)\n",
    "        clusters = clustering.fit_predict(embeddings)\n",
    "        if np.unique(clusters).shape[0] < 2:\n",
    "            continue\n",
    "        score = silhouette_score(embeddings, clusters)\n",
    "        if score > 0.2:\n",
    "            print(f'number of clusters = {np.unique(clusters).shape[0]}')\n",
    "            print(f'eps = {eps:0.3f}, ms = {ms}: {score:0.4f}')"
   ]
  },
  {
   "cell_type": "code",
   "execution_count": 255,
   "metadata": {
    "ExecuteTime": {
     "end_time": "2022-09-16T16:16:22.556217Z",
     "start_time": "2022-09-16T16:16:22.543895Z"
    }
   },
   "outputs": [
    {
     "data": {
      "text/plain": [
       "(2456, 512)"
      ]
     },
     "execution_count": 255,
     "metadata": {},
     "output_type": "execute_result"
    }
   ],
   "source": [
    "embeddings.shape"
   ]
  },
  {
   "cell_type": "code",
   "execution_count": 258,
   "metadata": {
    "ExecuteTime": {
     "end_time": "2022-09-16T16:17:25.987074Z",
     "start_time": "2022-09-16T16:17:25.179683Z"
    }
   },
   "outputs": [],
   "source": [
    "distances = pairwise_distances(embeddings)\n",
    "sorted_distances = np.sort(distances, axis=1)\n",
    "sorted_nth_distanses = np.sort(sorted_distances[:, n - 1])"
   ]
  },
  {
   "cell_type": "code",
   "execution_count": 260,
   "metadata": {
    "ExecuteTime": {
     "end_time": "2022-09-16T16:18:29.186876Z",
     "start_time": "2022-09-16T16:18:24.753031Z"
    }
   },
   "outputs": [
    {
     "name": "stdout",
     "output_type": "stream",
     "text": [
      "9.37243\n",
      "9.58124\n",
      "9.884228\n",
      "10.034015\n",
      "10.229684\n",
      "10.462961\n",
      "10.562888\n"
     ]
    }
   ],
   "source": [
    "for n in [3, 4, 5, 6, 7, 8, 9]:\n",
    "    distances = pairwise_distances(embeddings)\n",
    "    sorted_distances = np.sort(distances, axis=1)\n",
    "    sorted_nth_distanses = np.sort(sorted_distances[:, n - 1])\n",
    "\n",
    "    knee = KneeLocator(np.arange(len(sorted_distances)), \n",
    "                       sorted_nth_distanses, \n",
    "                       curve='convex', \n",
    "                       direction='increasing', \n",
    "                       interp_method='polynomial')\n",
    "    print(sorted_nth_distanses[knee.knee])"
   ]
  },
  {
   "cell_type": "code",
   "execution_count": 281,
   "metadata": {
    "ExecuteTime": {
     "end_time": "2022-09-16T16:34:38.651013Z",
     "start_time": "2022-09-16T16:29:02.519560Z"
    },
    "scrolled": true
   },
   "outputs": [
    {
     "name": "stdout",
     "output_type": "stream",
     "text": [
      "n_emb = 50, number of clusters = 15, eps = 5.421, ms = 7: 0.1252\n",
      "n_emb = 50, number of clusters = 14, eps = 5.421, ms = 8: 0.1392\n",
      "n_emb = 50, number of clusters = 16, eps = 5.421, ms = 9: 0.1157\n",
      "n_emb = 50, number of clusters = 26, eps = 5.842, ms = 4: 0.1271\n",
      "n_emb = 50, number of clusters = 25, eps = 5.842, ms = 5: 0.1390\n",
      "n_emb = 50, number of clusters = 20, eps = 5.842, ms = 6: 0.1489\n",
      "n_emb = 50, number of clusters = 20, eps = 5.842, ms = 7: 0.1355\n",
      "n_emb = 50, number of clusters = 16, eps = 5.842, ms = 8: 0.1481\n",
      "n_emb = 50, number of clusters = 15, eps = 5.842, ms = 9: 0.1472\n",
      "n_emb = 50, number of clusters = 25, eps = 6.263, ms = 4: 0.1020\n",
      "n_emb = 50, number of clusters = 22, eps = 6.263, ms = 5: 0.1435\n",
      "n_emb = 50, number of clusters = 19, eps = 6.263, ms = 6: 0.1688\n",
      "n_emb = 50, number of clusters = 17, eps = 6.263, ms = 7: 0.1740\n",
      "n_emb = 50, number of clusters = 15, eps = 6.263, ms = 8: 0.1731\n",
      "n_emb = 50, number of clusters = 15, eps = 6.263, ms = 9: 0.1625\n",
      "n_emb = 50, number of clusters = 18, eps = 6.684, ms = 6: 0.1502\n",
      "n_emb = 50, number of clusters = 17, eps = 6.684, ms = 7: 0.1501\n",
      "n_emb = 50, number of clusters = 15, eps = 6.684, ms = 8: 0.1546\n",
      "n_emb = 50, number of clusters = 13, eps = 6.684, ms = 9: 0.1595\n",
      "n_emb = 50, number of clusters = 10, eps = 7.105, ms = 9: 0.1081\n",
      "n_emb = 50, number of clusters = 2, eps = 9.211, ms = 7: 0.1043\n",
      "n_emb = 50, number of clusters = 2, eps = 9.211, ms = 8: 0.1043\n",
      "n_emb = 50, number of clusters = 2, eps = 9.211, ms = 9: 0.1043\n",
      "n_emb = 50, number of clusters = 2, eps = 9.632, ms = 9: 0.1090\n",
      "n_emb = 50, number of clusters = 2, eps = 10.053, ms = 8: 0.1004\n",
      "n_emb = 50, number of clusters = 2, eps = 10.053, ms = 9: 0.1004\n",
      "n_emb = 100, number of clusters = 12, eps = 6.684, ms = 9: 0.1015\n",
      "n_emb = 100, number of clusters = 28, eps = 7.105, ms = 4: 0.1045\n",
      "n_emb = 100, number of clusters = 22, eps = 7.105, ms = 5: 0.1259\n",
      "n_emb = 100, number of clusters = 17, eps = 7.105, ms = 6: 0.1376\n",
      "n_emb = 100, number of clusters = 16, eps = 7.105, ms = 7: 0.1334\n",
      "n_emb = 100, number of clusters = 12, eps = 7.105, ms = 8: 0.1392\n",
      "n_emb = 100, number of clusters = 13, eps = 7.105, ms = 9: 0.1292\n",
      "n_emb = 100, number of clusters = 18, eps = 7.526, ms = 6: 0.1074\n",
      "n_emb = 100, number of clusters = 16, eps = 7.526, ms = 7: 0.1202\n",
      "n_emb = 100, number of clusters = 13, eps = 7.526, ms = 8: 0.1195\n",
      "n_emb = 100, number of clusters = 11, eps = 7.526, ms = 9: 0.1197\n",
      "n_emb = 100, number of clusters = 17, eps = 7.947, ms = 6: 0.1063\n",
      "n_emb = 100, number of clusters = 15, eps = 7.947, ms = 7: 0.1408\n",
      "n_emb = 100, number of clusters = 15, eps = 7.947, ms = 8: 0.1400\n",
      "n_emb = 100, number of clusters = 13, eps = 7.947, ms = 9: 0.1397\n",
      "n_emb = 100, number of clusters = 3, eps = 10.053, ms = 7: 0.1033\n",
      "n_emb = 100, number of clusters = 3, eps = 10.053, ms = 8: 0.1030\n",
      "n_emb = 100, number of clusters = 2, eps = 10.053, ms = 9: 0.1131\n",
      "n_emb = 100, number of clusters = 3, eps = 10.474, ms = 5: 0.1039\n",
      "n_emb = 100, number of clusters = 3, eps = 10.474, ms = 6: 0.1036\n",
      "n_emb = 100, number of clusters = 2, eps = 10.474, ms = 7: 0.1184\n",
      "n_emb = 100, number of clusters = 2, eps = 10.474, ms = 8: 0.1152\n",
      "n_emb = 100, number of clusters = 2, eps = 10.474, ms = 9: 0.1186\n",
      "n_emb = 100, number of clusters = 4, eps = 10.895, ms = 3: 0.1032\n",
      "n_emb = 100, number of clusters = 4, eps = 10.895, ms = 4: 0.1114\n",
      "n_emb = 100, number of clusters = 3, eps = 10.895, ms = 5: 0.1226\n",
      "n_emb = 100, number of clusters = 3, eps = 10.895, ms = 6: 0.1226\n",
      "n_emb = 100, number of clusters = 2, eps = 10.895, ms = 7: 0.1448\n",
      "n_emb = 100, number of clusters = 2, eps = 10.895, ms = 8: 0.1430\n",
      "n_emb = 100, number of clusters = 2, eps = 10.895, ms = 9: 0.1430\n",
      "n_emb = 100, number of clusters = 4, eps = 11.316, ms = 4: 0.1118\n",
      "n_emb = 100, number of clusters = 3, eps = 11.316, ms = 5: 0.1230\n",
      "n_emb = 100, number of clusters = 3, eps = 11.316, ms = 6: 0.1230\n",
      "n_emb = 100, number of clusters = 2, eps = 11.316, ms = 7: 0.1460\n",
      "n_emb = 100, number of clusters = 2, eps = 11.316, ms = 8: 0.1460\n",
      "n_emb = 100, number of clusters = 2, eps = 11.316, ms = 9: 0.1460\n",
      "n_emb = 100, number of clusters = 3, eps = 11.737, ms = 3: 0.1121\n",
      "n_emb = 100, number of clusters = 3, eps = 11.737, ms = 4: 0.1121\n",
      "n_emb = 100, number of clusters = 3, eps = 11.737, ms = 5: 0.1121\n",
      "n_emb = 100, number of clusters = 3, eps = 11.737, ms = 6: 0.1121\n",
      "n_emb = 100, number of clusters = 2, eps = 11.737, ms = 7: 0.1303\n",
      "n_emb = 100, number of clusters = 2, eps = 11.737, ms = 8: 0.1303\n",
      "n_emb = 100, number of clusters = 2, eps = 11.737, ms = 9: 0.1303\n",
      "n_emb = 100, number of clusters = 2, eps = 12.158, ms = 3: 0.1364\n",
      "n_emb = 100, number of clusters = 2, eps = 12.158, ms = 4: 0.1364\n",
      "n_emb = 100, number of clusters = 2, eps = 12.158, ms = 5: 0.1364\n",
      "n_emb = 100, number of clusters = 2, eps = 12.158, ms = 6: 0.1364\n",
      "n_emb = 100, number of clusters = 2, eps = 12.158, ms = 7: 0.1364\n",
      "n_emb = 100, number of clusters = 2, eps = 12.158, ms = 8: 0.1346\n",
      "n_emb = 100, number of clusters = 2, eps = 12.158, ms = 9: 0.1346\n",
      "n_emb = 100, number of clusters = 2, eps = 12.579, ms = 6: 0.1471\n",
      "n_emb = 100, number of clusters = 2, eps = 12.579, ms = 7: 0.1471\n",
      "n_emb = 100, number of clusters = 2, eps = 12.579, ms = 8: 0.1471\n",
      "n_emb = 100, number of clusters = 2, eps = 12.579, ms = 9: 0.1471\n",
      "n_emb = 200, number of clusters = 13, eps = 7.526, ms = 6: 0.1054\n",
      "n_emb = 200, number of clusters = 10, eps = 7.526, ms = 9: 0.1066\n",
      "n_emb = 200, number of clusters = 10, eps = 7.947, ms = 7: 0.1014\n",
      "n_emb = 200, number of clusters = 11, eps = 7.947, ms = 8: 0.1162\n",
      "n_emb = 200, number of clusters = 10, eps = 7.947, ms = 9: 0.1171\n",
      "n_emb = 200, number of clusters = 16, eps = 8.368, ms = 6: 0.1042\n",
      "n_emb = 200, number of clusters = 14, eps = 8.368, ms = 7: 0.1042\n",
      "n_emb = 200, number of clusters = 10, eps = 8.368, ms = 8: 0.1095\n",
      "n_emb = 200, number of clusters = 10, eps = 8.368, ms = 9: 0.1053\n",
      "n_emb = 200, number of clusters = 4, eps = 10.895, ms = 5: 0.1035\n",
      "n_emb = 200, number of clusters = 4, eps = 10.895, ms = 6: 0.1035\n",
      "n_emb = 200, number of clusters = 2, eps = 10.895, ms = 7: 0.1190\n",
      "n_emb = 200, number of clusters = 2, eps = 10.895, ms = 8: 0.1202\n",
      "n_emb = 200, number of clusters = 2, eps = 10.895, ms = 9: 0.1176\n",
      "n_emb = 200, number of clusters = 4, eps = 11.316, ms = 4: 0.1074\n",
      "n_emb = 200, number of clusters = 3, eps = 11.316, ms = 5: 0.1132\n",
      "n_emb = 200, number of clusters = 3, eps = 11.316, ms = 6: 0.1127\n",
      "n_emb = 200, number of clusters = 2, eps = 11.316, ms = 7: 0.1221\n",
      "n_emb = 200, number of clusters = 2, eps = 11.316, ms = 8: 0.1231\n",
      "n_emb = 200, number of clusters = 2, eps = 11.316, ms = 9: 0.1205\n",
      "n_emb = 200, number of clusters = 4, eps = 11.737, ms = 3: 0.1037\n",
      "n_emb = 200, number of clusters = 4, eps = 11.737, ms = 4: 0.1108\n",
      "n_emb = 200, number of clusters = 3, eps = 11.737, ms = 5: 0.1211\n",
      "n_emb = 200, number of clusters = 3, eps = 11.737, ms = 6: 0.1185\n",
      "n_emb = 200, number of clusters = 2, eps = 11.737, ms = 7: 0.1289\n",
      "n_emb = 200, number of clusters = 2, eps = 11.737, ms = 8: 0.1289\n",
      "n_emb = 200, number of clusters = 2, eps = 11.737, ms = 9: 0.1246\n",
      "n_emb = 200, number of clusters = 4, eps = 12.158, ms = 3: 0.1071\n",
      "n_emb = 200, number of clusters = 4, eps = 12.158, ms = 4: 0.1144\n",
      "n_emb = 200, number of clusters = 3, eps = 12.158, ms = 5: 0.1260\n",
      "n_emb = 200, number of clusters = 3, eps = 12.158, ms = 6: 0.1260\n",
      "n_emb = 200, number of clusters = 2, eps = 12.158, ms = 7: 0.1422\n",
      "n_emb = 200, number of clusters = 2, eps = 12.158, ms = 8: 0.1408\n",
      "n_emb = 200, number of clusters = 2, eps = 12.158, ms = 9: 0.1387\n",
      "n_emb = 200, number of clusters = 4, eps = 12.579, ms = 3: 0.1140\n",
      "n_emb = 200, number of clusters = 4, eps = 12.579, ms = 4: 0.1140\n",
      "n_emb = 200, number of clusters = 3, eps = 12.579, ms = 5: 0.1224\n",
      "n_emb = 200, number of clusters = 3, eps = 12.579, ms = 6: 0.1224\n",
      "n_emb = 200, number of clusters = 2, eps = 12.579, ms = 7: 0.1382\n",
      "n_emb = 200, number of clusters = 2, eps = 12.579, ms = 8: 0.1382\n",
      "n_emb = 200, number of clusters = 2, eps = 12.579, ms = 9: 0.1382\n",
      "n_emb = 200, number of clusters = 3, eps = 13.000, ms = 3: 0.1308\n",
      "n_emb = 200, number of clusters = 3, eps = 13.000, ms = 4: 0.1308\n",
      "n_emb = 200, number of clusters = 2, eps = 13.000, ms = 5: 0.1463\n",
      "n_emb = 200, number of clusters = 2, eps = 13.000, ms = 6: 0.1463\n"
     ]
    },
    {
     "name": "stdout",
     "output_type": "stream",
     "text": [
      "n_emb = 200, number of clusters = 2, eps = 13.000, ms = 7: 0.1463\n",
      "n_emb = 200, number of clusters = 2, eps = 13.000, ms = 8: 0.1463\n",
      "n_emb = 200, number of clusters = 2, eps = 13.000, ms = 9: 0.1463\n",
      "n_emb = 300, number of clusters = 14, eps = 7.947, ms = 6: 0.1074\n",
      "n_emb = 300, number of clusters = 12, eps = 7.947, ms = 7: 0.1087\n",
      "n_emb = 300, number of clusters = 13, eps = 7.947, ms = 8: 0.1012\n",
      "n_emb = 300, number of clusters = 9, eps = 8.368, ms = 8: 0.1255\n",
      "n_emb = 300, number of clusters = 9, eps = 8.368, ms = 9: 0.1243\n",
      "n_emb = 300, number of clusters = 15, eps = 8.789, ms = 6: 0.1083\n",
      "n_emb = 300, number of clusters = 14, eps = 8.789, ms = 7: 0.1069\n",
      "n_emb = 300, number of clusters = 10, eps = 8.789, ms = 8: 0.1086\n",
      "n_emb = 300, number of clusters = 10, eps = 8.789, ms = 9: 0.1048\n",
      "n_emb = 300, number of clusters = 5, eps = 11.316, ms = 4: 0.1020\n",
      "n_emb = 300, number of clusters = 4, eps = 11.316, ms = 5: 0.1062\n",
      "n_emb = 300, number of clusters = 3, eps = 11.316, ms = 6: 0.1151\n",
      "n_emb = 300, number of clusters = 2, eps = 11.316, ms = 7: 0.1232\n",
      "n_emb = 300, number of clusters = 2, eps = 11.316, ms = 8: 0.1232\n",
      "n_emb = 300, number of clusters = 2, eps = 11.316, ms = 9: 0.1221\n",
      "n_emb = 300, number of clusters = 4, eps = 11.737, ms = 4: 0.1097\n",
      "n_emb = 300, number of clusters = 3, eps = 11.737, ms = 5: 0.1179\n",
      "n_emb = 300, number of clusters = 3, eps = 11.737, ms = 6: 0.1180\n",
      "n_emb = 300, number of clusters = 2, eps = 11.737, ms = 7: 0.1283\n",
      "n_emb = 300, number of clusters = 2, eps = 11.737, ms = 8: 0.1269\n",
      "n_emb = 300, number of clusters = 2, eps = 11.737, ms = 9: 0.1273\n",
      "n_emb = 300, number of clusters = 4, eps = 12.158, ms = 3: 0.1088\n",
      "n_emb = 300, number of clusters = 4, eps = 12.158, ms = 4: 0.1127\n",
      "n_emb = 300, number of clusters = 3, eps = 12.158, ms = 5: 0.1202\n",
      "n_emb = 300, number of clusters = 3, eps = 12.158, ms = 6: 0.1202\n",
      "n_emb = 300, number of clusters = 2, eps = 12.158, ms = 7: 0.1297\n",
      "n_emb = 300, number of clusters = 2, eps = 12.158, ms = 8: 0.1297\n",
      "n_emb = 300, number of clusters = 2, eps = 12.158, ms = 9: 0.1271\n",
      "n_emb = 300, number of clusters = 4, eps = 12.579, ms = 3: 0.1108\n",
      "n_emb = 300, number of clusters = 4, eps = 12.579, ms = 4: 0.1153\n",
      "n_emb = 300, number of clusters = 3, eps = 12.579, ms = 5: 0.1296\n",
      "n_emb = 300, number of clusters = 3, eps = 12.579, ms = 6: 0.1296\n",
      "n_emb = 300, number of clusters = 2, eps = 12.579, ms = 7: 0.1460\n",
      "n_emb = 300, number of clusters = 2, eps = 12.579, ms = 8: 0.1405\n",
      "n_emb = 300, number of clusters = 2, eps = 12.579, ms = 9: 0.1401\n",
      "n_emb = 300, number of clusters = 3, eps = 13.000, ms = 3: 0.1256\n",
      "n_emb = 300, number of clusters = 3, eps = 13.000, ms = 4: 0.1322\n",
      "n_emb = 300, number of clusters = 2, eps = 13.000, ms = 5: 0.1615\n",
      "n_emb = 300, number of clusters = 2, eps = 13.000, ms = 6: 0.1615\n",
      "n_emb = 300, number of clusters = 2, eps = 13.000, ms = 7: 0.1615\n",
      "n_emb = 300, number of clusters = 2, eps = 13.000, ms = 8: 0.1531\n",
      "n_emb = 300, number of clusters = 2, eps = 13.000, ms = 9: 0.1575\n",
      "n_emb = 400, number of clusters = 9, eps = 7.947, ms = 9: 0.1093\n",
      "n_emb = 400, number of clusters = 10, eps = 8.368, ms = 7: 0.1090\n",
      "n_emb = 400, number of clusters = 9, eps = 8.368, ms = 8: 0.1171\n",
      "n_emb = 400, number of clusters = 8, eps = 8.368, ms = 9: 0.1154\n",
      "n_emb = 400, number of clusters = 8, eps = 8.789, ms = 8: 0.1185\n",
      "n_emb = 400, number of clusters = 8, eps = 8.789, ms = 9: 0.1262\n",
      "n_emb = 400, number of clusters = 5, eps = 11.737, ms = 4: 0.1045\n",
      "n_emb = 400, number of clusters = 4, eps = 11.737, ms = 5: 0.1093\n",
      "n_emb = 400, number of clusters = 3, eps = 11.737, ms = 6: 0.1193\n",
      "n_emb = 400, number of clusters = 2, eps = 11.737, ms = 7: 0.1296\n",
      "n_emb = 400, number of clusters = 2, eps = 11.737, ms = 8: 0.1285\n",
      "n_emb = 400, number of clusters = 2, eps = 11.737, ms = 9: 0.1269\n",
      "n_emb = 400, number of clusters = 4, eps = 12.158, ms = 3: 0.1133\n",
      "n_emb = 400, number of clusters = 4, eps = 12.158, ms = 4: 0.1119\n",
      "n_emb = 400, number of clusters = 3, eps = 12.158, ms = 5: 0.1219\n",
      "n_emb = 400, number of clusters = 3, eps = 12.158, ms = 6: 0.1219\n",
      "n_emb = 400, number of clusters = 2, eps = 12.158, ms = 7: 0.1305\n",
      "n_emb = 400, number of clusters = 2, eps = 12.158, ms = 8: 0.1321\n",
      "n_emb = 400, number of clusters = 2, eps = 12.158, ms = 9: 0.1307\n",
      "n_emb = 400, number of clusters = 4, eps = 12.579, ms = 3: 0.1096\n",
      "n_emb = 400, number of clusters = 4, eps = 12.579, ms = 4: 0.1141\n",
      "n_emb = 400, number of clusters = 3, eps = 12.579, ms = 5: 0.1236\n",
      "n_emb = 400, number of clusters = 3, eps = 12.579, ms = 6: 0.1236\n",
      "n_emb = 400, number of clusters = 2, eps = 12.579, ms = 7: 0.1331\n",
      "n_emb = 400, number of clusters = 2, eps = 12.579, ms = 8: 0.1331\n",
      "n_emb = 400, number of clusters = 2, eps = 12.579, ms = 9: 0.1306\n",
      "n_emb = 400, number of clusters = 3, eps = 13.000, ms = 3: 0.1203\n",
      "n_emb = 400, number of clusters = 3, eps = 13.000, ms = 4: 0.1301\n",
      "n_emb = 400, number of clusters = 2, eps = 13.000, ms = 5: 0.1586\n",
      "n_emb = 400, number of clusters = 2, eps = 13.000, ms = 6: 0.1586\n",
      "n_emb = 400, number of clusters = 2, eps = 13.000, ms = 7: 0.1497\n",
      "n_emb = 400, number of clusters = 2, eps = 13.000, ms = 8: 0.1497\n",
      "n_emb = 400, number of clusters = 2, eps = 13.000, ms = 9: 0.1478\n"
     ]
    }
   ],
   "source": [
    "for n_emb in [50, 100, 200, 300, 400]:\n",
    "    for eps in np.linspace(5, 13, 20):\n",
    "        for ms in [3, 4, 5, 6, 7, 8, 9]:\n",
    "            clustering = DBSCAN(eps=eps, min_samples=ms, metric='euclidean', n_jobs=-1)\n",
    "            clusters = clustering.fit_predict(embeddings[:, :n_emb])\n",
    "            if np.unique(clusters).shape[0] < 2:\n",
    "                continue\n",
    "            score = silhouette_score(embeddings[:, :n_emb], clusters)\n",
    "            if score > 0.1:\n",
    "                print(f'n_emb = {n_emb}, number of clusters = {np.unique(clusters).shape[0]}, eps = {eps:0.3f}, ms = {ms}: {score:0.4f}')"
   ]
  },
  {
   "cell_type": "code",
   "execution_count": 275,
   "metadata": {
    "ExecuteTime": {
     "end_time": "2022-09-16T16:25:13.861056Z",
     "start_time": "2022-09-16T16:25:13.847652Z"
    }
   },
   "outputs": [
    {
     "data": {
      "text/plain": [
       "(2456, 256)"
      ]
     },
     "execution_count": 275,
     "metadata": {},
     "output_type": "execute_result"
    }
   ],
   "source": [
    "embeddings[:, :256].shape"
   ]
  },
  {
   "cell_type": "code",
   "execution_count": null,
   "metadata": {},
   "outputs": [],
   "source": [
    "n_emb = 50, number of clusters = 17, eps = 6.263, ms = 7: 0.1740\n",
    "n_emb = 100, number of clusters = 2, eps = 12.579, ms = 6: 0.1471\n",
    "n_emb = 200, number of clusters = 2, eps = 13.000, ms = 5: 0.1463\n",
    "n_emb = 300, number of clusters = 2, eps = 13.000, ms = 5: 0.1615\n",
    "n_emb = 400, number of clusters = 2, eps = 13.000, ms = 6: 0.1586"
   ]
  },
  {
   "cell_type": "code",
   "execution_count": 294,
   "metadata": {
    "ExecuteTime": {
     "end_time": "2022-09-16T16:50:44.656877Z",
     "start_time": "2022-09-16T16:50:44.102732Z"
    }
   },
   "outputs": [
    {
     "data": {
      "text/plain": [
       "0.17399569"
      ]
     },
     "execution_count": 294,
     "metadata": {},
     "output_type": "execute_result"
    }
   ],
   "source": [
    "clustering = DBSCAN(eps=6.263, min_samples=7, metric='euclidean', n_jobs=-1)\n",
    "clusters = clustering.fit_predict(embeddings[:, :50])\n",
    "score = silhouette_score(embeddings[:, :50], clusters)\n",
    "score"
   ]
  },
  {
   "cell_type": "code",
   "execution_count": 295,
   "metadata": {
    "ExecuteTime": {
     "end_time": "2022-09-16T16:50:45.503128Z",
     "start_time": "2022-09-16T16:50:45.491281Z"
    }
   },
   "outputs": [
    {
     "data": {
      "text/plain": [
       "(2456,)"
      ]
     },
     "execution_count": 295,
     "metadata": {},
     "output_type": "execute_result"
    }
   ],
   "source": [
    "clusters.shape"
   ]
  },
  {
   "cell_type": "code",
   "execution_count": 296,
   "metadata": {
    "ExecuteTime": {
     "end_time": "2022-09-16T16:50:46.330410Z",
     "start_time": "2022-09-16T16:50:46.309253Z"
    }
   },
   "outputs": [],
   "source": [
    "pd.DataFrame(clusters).to_csv('solution.csv', header=['cluster'], index=False)"
   ]
  },
  {
   "cell_type": "code",
   "execution_count": null,
   "metadata": {},
   "outputs": [],
   "source": []
  }
 ],
 "metadata": {
  "kernelspec": {
   "display_name": "Python 3",
   "language": "python",
   "name": "python3"
  },
  "language_info": {
   "codemirror_mode": {
    "name": "ipython",
    "version": 3
   },
   "file_extension": ".py",
   "mimetype": "text/x-python",
   "name": "python",
   "nbconvert_exporter": "python",
   "pygments_lexer": "ipython3",
   "version": "3.7.6"
  },
  "toc": {
   "base_numbering": 1,
   "nav_menu": {},
   "number_sections": true,
   "sideBar": true,
   "skip_h1_title": false,
   "title_cell": "Table of Contents",
   "title_sidebar": "Contents",
   "toc_cell": false,
   "toc_position": {},
   "toc_section_display": true,
   "toc_window_display": false
  }
 },
 "nbformat": 4,
 "nbformat_minor": 5
}
