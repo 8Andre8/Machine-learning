{
 "cells": [
  {
   "cell_type": "code",
   "execution_count": 110,
   "metadata": {},
   "outputs": [
    {
     "name": "stdout",
     "output_type": "stream",
     "text": [
      "1 1 1 0 0 0\n",
      "1 0\n"
     ]
    }
   ],
   "source": [
    "import numpy as np\n",
    "\n",
    "# следует реализовать данный вид инициализации\n",
    "# без нее тесты скорее всего не пройдут\n",
    "def k_plus_plus(X: np.ndarray, k: int, random_state: int = 27) -> np.ndarray:\n",
    "    \"\"\"Инициализация центроидов алгоритмом k-means++.\n",
    "\n",
    "    :param X: исходная выборка\n",
    "    :param k: количество кластеров\n",
    "    :return: набор центроидов в одном np.array\n",
    "    \"\"\"\n",
    "    n = len(X)\n",
    "    centroids = []\n",
    "    x_start_ind = np.random.randint(0, n)\n",
    "    x_start = X[x_start_ind]\n",
    "    centroids.append(x_start)\n",
    "    distances = [np.inf for i in range(n)]\n",
    "    for _ in range(k - 1):\n",
    "        for i in range(n):\n",
    "            for j in range(len(centroids)):\n",
    "                cur_distance = calculate_distance(X[i], centroids[j])\n",
    "                if cur_distance < distances[i]:\n",
    "                    distances[i] = cur_distance\n",
    "        sum_distances = np.sum(distances)\n",
    "        probs = [d / sum_distances for d in distances]\n",
    "        segments = [0]\n",
    "        k = 0\n",
    "        for p in probs:\n",
    "            next_border = k + p\n",
    "            segments.append(next_border)\n",
    "            k += p\n",
    "        r = np.random.random()\n",
    "        for i in range(len(segments) - 1):\n",
    "            if r >= segments[i] and r < segments[i + 1]:\n",
    "                next_ind = i\n",
    "                break\n",
    "        centroids.append(X[next_ind])\n",
    "    return np.array(centroids)\n",
    "\n",
    "def calculate_distance(x1, x2):\n",
    "    # норма евклида без корня - корень извлекать необязательно, так как порядок не поменяется\n",
    "    return np.sum((x2 - x1)**2)\n",
    "def calculate_distance_sqrt(x1, x2):\n",
    "    # норма евклида без корня - корень извлекать необязательно, так как порядок не поменяется\n",
    "    return np.sqrt(np.sum((x2 - x1)**2))\n",
    "    \n",
    "\n",
    "class KMeans:\n",
    "    def __init__(self, n_clusters=8, tol=0.0001, max_iter=300, random_state=None):\n",
    "        self.n_clusters = n_clusters\n",
    "        self.tol = tol\n",
    "        self.max_iter = max_iter\n",
    "        self.random_state = random_state\n",
    "\n",
    "    def fit(self, X):\n",
    "        np.random.seed(self.random_state)\n",
    "\n",
    "        n_samples = X.shape[0]\n",
    "        n_features = X.shape[1]\n",
    "\n",
    "        # инициализируем центры кластеров\n",
    "        # centers.shape = (n_clusters, n_features)\n",
    "        centers = k_plus_plus(X, self.n_clusters)\n",
    "\n",
    "        for n_iter in range(self.max_iter):\n",
    "            # считаем расстояние от точек из X до центроидов\n",
    "            distances = []\n",
    "            for i in range(n_samples):\n",
    "                distances_for_one_x = []\n",
    "                for j in range(self.n_clusters):\n",
    "                    cur_distance = calculate_distance(X[i], centers[j])\n",
    "                    distances_for_one_x.append(cur_distance)\n",
    "                distances.append(distances_for_one_x)\n",
    "            # определяем метки как индекс ближайшего для каждой точки центроида  \n",
    "            labels = np.argmin(distances, axis=1)\n",
    "\n",
    "            old_centers = centers.copy()\n",
    "            for c in range(self.n_clusters):\n",
    "                # пересчитываем центроид \n",
    "                # новый центроид есть среднее точек X с меткой рассматриваемого центроида\n",
    "                inds = [ind for ind, label in enumerate(labels) if label == c]\n",
    "                centers[c, :] = X[inds].mean(axis=0)\n",
    "\n",
    "            # записываем условие сходимости\n",
    "            # норма Фробениуса разности центров кластеров двух последовательных итераций < tol\n",
    "            if np.linalg.norm(old_centers - centers) < self.tol:\n",
    "                break\n",
    "\n",
    "        # cчитаем инерцию\n",
    "        # сумма квадратов расстояний от точек до их ближайших центров кластеров\n",
    "        inertia = np.sum([calculate_distance_sqrt(X[i], labels[i]) for i, val in enumerate(X)])\n",
    "\n",
    "        self.cluster_centers_ = centers\n",
    "        self.labels_ = labels\n",
    "        self.inertia_ = inertia\n",
    "        self.n_iter_ = n_iter\n",
    "        return self\n",
    "\n",
    "\n",
    "    def predict(self, X):\n",
    "        # определяем метку для каждого элемента X на основании обученных центров кластеров \n",
    "        distances = []\n",
    "        for i in range(len(X)):\n",
    "            distances_for_one_x = []\n",
    "            for j in range(self.n_clusters):\n",
    "                cur_distance = calculate_distance(X[i], self.cluster_centers_[j])\n",
    "                distances_for_one_x.append(cur_distance)\n",
    "            distances.append(distances_for_one_x)\n",
    "        # определяем метки как индекс ближайшего для каждой точки центроида  \n",
    "        labels = np.argmin(distances, axis=1)\n",
    "        return labels\n",
    "\n",
    "    def fit_predict(self, X):\n",
    "        return self.fit(X).labels_\n",
    "\n",
    "\n",
    "def read_input():\n",
    "    n1, n2, k = 6, 2, 2\n",
    "\n",
    "    read_line = lambda x: list(map(float, x.split()))\n",
    "    X_train = np.array([[1, 2],\n",
    "                       [1, 4],\n",
    "                       [1, 0],\n",
    "                       [10, 2],\n",
    "                       [10, 4],\n",
    "                       [10, 0]\n",
    "                       ])\n",
    "    X_test = np.array([[0, 0],\n",
    "                     [12, 3]])\n",
    "\n",
    "    return X_train, X_test, k\n",
    "\n",
    "def solution():\n",
    "    X_train, X_test, k = read_input()\n",
    "    kmeans = KMeans(n_clusters=k, tol=1e-8, random_state=27)\n",
    "    kmeans.fit(X_train)\n",
    "    train_labels = kmeans.labels_\n",
    "    test_labels = kmeans.predict(X_test)\n",
    "\n",
    "    print(' '.join(map(str, train_labels)))\n",
    "    print(' '.join(map(str, test_labels)))\n",
    "\n",
    "solution()"
   ]
  },
  {
   "cell_type": "code",
   "execution_count": null,
   "metadata": {},
   "outputs": [],
   "source": []
  },
  {
   "cell_type": "code",
   "execution_count": 19,
   "metadata": {},
   "outputs": [
    {
     "data": {
      "text/plain": [
       "83"
      ]
     },
     "execution_count": 19,
     "metadata": {},
     "output_type": "execute_result"
    }
   ],
   "source": [
    "np.random.randint(100)"
   ]
  },
  {
   "cell_type": "code",
   "execution_count": 20,
   "metadata": {},
   "outputs": [
    {
     "data": {
      "text/plain": [
       "array([1, 4])"
      ]
     },
     "execution_count": 20,
     "metadata": {},
     "output_type": "execute_result"
    }
   ],
   "source": [
    "X__ = np.array([[1, 2],\n",
    "                       [1, 4],\n",
    "                       [1, 0],\n",
    "                       [10, 2],\n",
    "                       [10, 4],\n",
    "                       [10, 0]\n",
    "                       ])\n",
    "X__[1]"
   ]
  },
  {
   "cell_type": "code",
   "execution_count": 61,
   "metadata": {},
   "outputs": [
    {
     "data": {
      "text/plain": [
       "array([0, 0, 1], dtype=int64)"
      ]
     },
     "execution_count": 61,
     "metadata": {},
     "output_type": "execute_result"
    }
   ],
   "source": [
    "a= np.array([[1, 4, 2],\n",
    "        [1, 2, 2,],\n",
    "        [4, 2, 5]])\n",
    "np.argmin(a, axis=1)"
   ]
  },
  {
   "cell_type": "code",
   "execution_count": 55,
   "metadata": {},
   "outputs": [
    {
     "data": {
      "text/plain": [
       "[False, True, False, True, True, False]"
      ]
     },
     "execution_count": 55,
     "metadata": {},
     "output_type": "execute_result"
    }
   ],
   "source": [
    "a = np.array([1, 2, 3, 2, 2, 3])\n",
    "b = [el == 2 for el in a]\n",
    "b"
   ]
  },
  {
   "cell_type": "code",
   "execution_count": 63,
   "metadata": {},
   "outputs": [
    {
     "data": {
      "text/plain": [
       "array([2.33333333, 3.66666667])"
      ]
     },
     "execution_count": 63,
     "metadata": {},
     "output_type": "execute_result"
    }
   ],
   "source": [
    "d = [0, 2]\n",
    "a[d].mean(axis=1)"
   ]
  },
  {
   "cell_type": "code",
   "execution_count": 64,
   "metadata": {},
   "outputs": [
    {
     "data": {
      "text/plain": [
       "array([[1, 4, 2],\n",
       "       [1, 2, 2],\n",
       "       [4, 2, 5]])"
      ]
     },
     "execution_count": 64,
     "metadata": {},
     "output_type": "execute_result"
    }
   ],
   "source": [
    "a"
   ]
  },
  {
   "cell_type": "code",
   "execution_count": null,
   "metadata": {},
   "outputs": [],
   "source": []
  }
 ],
 "metadata": {
  "kernelspec": {
   "display_name": "Python 3",
   "language": "python",
   "name": "python3"
  },
  "language_info": {
   "codemirror_mode": {
    "name": "ipython",
    "version": 3
   },
   "file_extension": ".py",
   "mimetype": "text/x-python",
   "name": "python",
   "nbconvert_exporter": "python",
   "pygments_lexer": "ipython3",
   "version": "3.7.6"
  }
 },
 "nbformat": 4,
 "nbformat_minor": 4
}
