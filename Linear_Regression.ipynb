{
 "cells": [
  {
   "cell_type": "markdown",
   "metadata": {},
   "source": [
    "# Линейная регрессия\n",
    "\n",
    "На основе набора данных об измерениях роста и веса решим следующую задачу.\n",
    "\n",
    "Обучим модель линейной регрессии оценивать  вес человека. Для начала построим одномерную модель, где в качестве единственного признака будет только вес, который человек сообщил о себе сам (repwt). Для обучения линейной модели будем использовать класс из библиотеки scikit-learn - [LinearRegression](http://scikit-learn.org/stable/modules/generated/sklearn.linear_model.LinearRegression.html)\n",
    "\n",
    "Файл с данными - [Davis.csv](https://github.com/sdukshis/ml-intro/blob/master/datasets/Davis.csv)\n",
    "\n",
    "Затем расширим набор признаков, добавив данные об измеренном и сообщенном весе, а также данные об поле человека. И оценим, как изменится среднеквадратическая ошибка.\n",
    "\n",
    "В некоторых строках встречаются пропуски. Будем убирать их из таблицы вместе со всей строкой с помощью [pandas.DataFrame.dropna](https://pandas.pydata.org/pandas-docs/stable/generated/pandas.DataFrame.dropna.html)"
   ]
  },
  {
   "cell_type": "code",
   "execution_count": 45,
   "metadata": {},
   "outputs": [
    {
     "name": "stdout",
     "output_type": "stream",
     "text": [
      "Populating the interactive namespace from numpy and matplotlib\n"
     ]
    }
   ],
   "source": [
    "import pandas as pd\n",
    "%pylab inline"
   ]
  },
  {
   "cell_type": "code",
   "execution_count": 46,
   "metadata": {},
   "outputs": [
    {
     "data": {
      "text/html": [
       "<div>\n",
       "<style scoped>\n",
       "    .dataframe tbody tr th:only-of-type {\n",
       "        vertical-align: middle;\n",
       "    }\n",
       "\n",
       "    .dataframe tbody tr th {\n",
       "        vertical-align: top;\n",
       "    }\n",
       "\n",
       "    .dataframe thead th {\n",
       "        text-align: right;\n",
       "    }\n",
       "</style>\n",
       "<table border=\"1\" class=\"dataframe\">\n",
       "  <thead>\n",
       "    <tr style=\"text-align: right;\">\n",
       "      <th></th>\n",
       "      <th>sex</th>\n",
       "      <th>weight</th>\n",
       "      <th>height</th>\n",
       "      <th>repwt</th>\n",
       "      <th>repht</th>\n",
       "    </tr>\n",
       "  </thead>\n",
       "  <tbody>\n",
       "    <tr>\n",
       "      <th>1</th>\n",
       "      <td>M</td>\n",
       "      <td>77</td>\n",
       "      <td>182</td>\n",
       "      <td>77.0</td>\n",
       "      <td>180.0</td>\n",
       "    </tr>\n",
       "    <tr>\n",
       "      <th>2</th>\n",
       "      <td>F</td>\n",
       "      <td>58</td>\n",
       "      <td>161</td>\n",
       "      <td>51.0</td>\n",
       "      <td>159.0</td>\n",
       "    </tr>\n",
       "    <tr>\n",
       "      <th>3</th>\n",
       "      <td>F</td>\n",
       "      <td>53</td>\n",
       "      <td>161</td>\n",
       "      <td>54.0</td>\n",
       "      <td>158.0</td>\n",
       "    </tr>\n",
       "    <tr>\n",
       "      <th>4</th>\n",
       "      <td>M</td>\n",
       "      <td>68</td>\n",
       "      <td>177</td>\n",
       "      <td>70.0</td>\n",
       "      <td>175.0</td>\n",
       "    </tr>\n",
       "    <tr>\n",
       "      <th>5</th>\n",
       "      <td>F</td>\n",
       "      <td>59</td>\n",
       "      <td>157</td>\n",
       "      <td>59.0</td>\n",
       "      <td>155.0</td>\n",
       "    </tr>\n",
       "    <tr>\n",
       "      <th>...</th>\n",
       "      <td>...</td>\n",
       "      <td>...</td>\n",
       "      <td>...</td>\n",
       "      <td>...</td>\n",
       "      <td>...</td>\n",
       "    </tr>\n",
       "    <tr>\n",
       "      <th>196</th>\n",
       "      <td>M</td>\n",
       "      <td>74</td>\n",
       "      <td>175</td>\n",
       "      <td>71.0</td>\n",
       "      <td>175.0</td>\n",
       "    </tr>\n",
       "    <tr>\n",
       "      <th>197</th>\n",
       "      <td>M</td>\n",
       "      <td>83</td>\n",
       "      <td>180</td>\n",
       "      <td>80.0</td>\n",
       "      <td>180.0</td>\n",
       "    </tr>\n",
       "    <tr>\n",
       "      <th>198</th>\n",
       "      <td>M</td>\n",
       "      <td>81</td>\n",
       "      <td>175</td>\n",
       "      <td>NaN</td>\n",
       "      <td>NaN</td>\n",
       "    </tr>\n",
       "    <tr>\n",
       "      <th>199</th>\n",
       "      <td>M</td>\n",
       "      <td>90</td>\n",
       "      <td>181</td>\n",
       "      <td>91.0</td>\n",
       "      <td>178.0</td>\n",
       "    </tr>\n",
       "    <tr>\n",
       "      <th>200</th>\n",
       "      <td>M</td>\n",
       "      <td>79</td>\n",
       "      <td>177</td>\n",
       "      <td>81.0</td>\n",
       "      <td>178.0</td>\n",
       "    </tr>\n",
       "  </tbody>\n",
       "</table>\n",
       "<p>200 rows × 5 columns</p>\n",
       "</div>"
      ],
      "text/plain": [
       "    sex  weight  height  repwt  repht\n",
       "1     M      77     182   77.0  180.0\n",
       "2     F      58     161   51.0  159.0\n",
       "3     F      53     161   54.0  158.0\n",
       "4     M      68     177   70.0  175.0\n",
       "5     F      59     157   59.0  155.0\n",
       "..   ..     ...     ...    ...    ...\n",
       "196   M      74     175   71.0  175.0\n",
       "197   M      83     180   80.0  180.0\n",
       "198   M      81     175    NaN    NaN\n",
       "199   M      90     181   91.0  178.0\n",
       "200   M      79     177   81.0  178.0\n",
       "\n",
       "[200 rows x 5 columns]"
      ]
     },
     "execution_count": 46,
     "metadata": {},
     "output_type": "execute_result"
    }
   ],
   "source": [
    "ds = pd.read_csv('https://raw.githubusercontent.com/sdukshis/ml-intro/master/datasets/Davis.csv', index_col=0)\n",
    "ds"
   ]
  },
  {
   "cell_type": "code",
   "execution_count": 47,
   "metadata": {},
   "outputs": [],
   "source": [
    "random_point = 8 # For representation"
   ]
  },
  {
   "cell_type": "code",
   "execution_count": 48,
   "metadata": {},
   "outputs": [],
   "source": [
    "# Using linear regression for the prediction of human height\n",
    "import pandas as pd\n",
    "from sklearn.linear_model import LinearRegression\n",
    "from sklearn.model_selection import train_test_split\n",
    "from sklearn.metrics import mean_squared_error\n",
    "from sklearn.metrics import mean_absolute_error\n",
    "import matplotlib.pyplot as plt\n",
    "# Reading data\n",
    "df = pd.read_csv('https://raw.githubusercontent.com/sdukshis/ml-intro/master/datasets/Davis.csv', index_col=0)\n",
    "# Deliting NaN-values\n",
    "df = df.dropna()\n",
    "X = df.replace('M', 1).replace('F', 0).loc[:, ['sex', 'weight', 'repwt']]\n",
    "y = df.loc[:, 'height']\n",
    "# Dividing the total sample into training and test samples\n",
    "x_train_3_signs, x_test_3_signs, y_train, y_test = train_test_split(X, y, test_size = 0.3, random_state = random_point)\n",
    "df_x_train = pd.DataFrame(x_train_3_signs, columns = ['sex', 'weight', 'repwt'])\n",
    "df_x_test = pd.DataFrame(x_test_3_signs, columns = ['sex', 'weight', 'repwt'])\n",
    "df_x_train.drop(columns = ['sex', 'repwt'], inplace = True)\n",
    "df_x_test.drop(columns = ['sex', 'repwt'], inplace = True)\n",
    "x_test_1_sign = df_x_test.values\n",
    "x_train_1_sign = df_x_train.values"
   ]
  },
  {
   "cell_type": "code",
   "execution_count": 49,
   "metadata": {},
   "outputs": [
    {
     "name": "stdout",
     "output_type": "stream",
     "text": [
      "Linear regression (1 sign) - weight:\n",
      "R^2 (1 sign) = 0.5651464381504732\n",
      "MSE (1 sign) = 31.709, MAE (1 sign) = 4.170\n",
      "\n"
     ]
    },
    {
     "data": {
      "text/plain": [
       "Text(0, 0.5, 'Height (cm)')"
      ]
     },
     "execution_count": 49,
     "metadata": {},
     "output_type": "execute_result"
    },
    {
     "data": {
      "image/png": "[encoded data removed]",
      "text/plain": [
       "<Figure size 720x432 with 1 Axes>"
      ]
     },
     "metadata": {
      "needs_background": "light"
     },
     "output_type": "display_data"
    }
   ],
   "source": [
    "# Linear regression (1 sign)\n",
    "skm = LinearRegression()\n",
    "skm.fit(x_train_1_sign, y_train)\n",
    "y_predict = skm.predict(x_test_1_sign) \n",
    "mse_1_sign = mean_squared_error(y_test, y_predict)\n",
    "mae_1 = mean_absolute_error(y_test, y_predict)\n",
    "print(\"Linear regression (1 sign) - weight:\")\n",
    "print(\"R^2 (1 sign) =\", skm.score(x_train_1_sign, y_train))\n",
    "print(\"MSE (1 sign) = %.3f, MAE (1 sign) = %.3f\" % (mse_1_sign, mae_1))\n",
    "print()\n",
    "\n",
    "# Data visualization \n",
    "plt.figure(figsize=(10, 6))\n",
    "plt.scatter(x_test_1_sign, y_test, color ='b')\n",
    "y_predict = skm.predict(x_test_1_sign) \n",
    "plt.plot(x_test_1_sign, y_predict, 'k')\n",
    "plt.title('Linear regression model (1 sign)', fontsize = 20, fontweight=\"bold\")\n",
    "plt.legend(['Prediction', 'Test data set'], fontsize = 15)\n",
    "plt.xlabel(\"Weight (kg)\", fontsize = 15, fontweight=\"bold\")\n",
    "plt.ylabel(\"Height (cm)\", fontsize = 15, fontweight=\"bold\")"
   ]
  },
  {
   "cell_type": "code",
   "execution_count": 50,
   "metadata": {},
   "outputs": [
    {
     "name": "stdout",
     "output_type": "stream",
     "text": [
      "Linear regression (3 signs) - sex, weight, repwt:\n",
      "R^2 (3 signs) = 0.6532867292382812\n",
      "MSE (3 signs) = 23.920, MAE (3 signs) = 3.631\n",
      "\n"
     ]
    },
    {
     "data": {
      "image/png": "[encoded data removed]",
      "text/plain": [
       "<Figure size 720x432 with 1 Axes>"
      ]
     },
     "metadata": {
      "needs_background": "light"
     },
     "output_type": "display_data"
    }
   ],
   "source": [
    "# Linear regression (3 signs)\n",
    "skm.fit(x_train_3_signs, y_train)\n",
    "print(\"Linear regression (3 signs) - sex, weight, repwt:\")\n",
    "print(\"R^2 (3 signs) =\", skm.score(x_train_3_signs, y_train))\n",
    "y_predict = skm.predict(x_test_3_signs) \n",
    "mse_3_signs = mean_squared_error(y_test, y_predict)\n",
    "mae_3 = mean_absolute_error(y_test, y_predict)\n",
    "print(\"MSE (3 signs) = %.3f, MAE (3 signs) = %.3f\" % (mse_3_signs, mae_3))\n",
    "print()\n",
    "# Getting weights of model\n",
    "coef = skm.coef_\n",
    "coef = np.append(coef, skm.intercept_)\n",
    "# Data visualization \n",
    "plt.figure(figsize=(10, 6))\n",
    "# Reduction of the dimensionality\n",
    "p1 = plt.scatter(x_test_3_signs['sex'].values * coef[0] + x_test_3_signs['weight'].values * coef[1] + \\\n",
    "                 x_test_3_signs['repwt'].values * coef[2] + coef[3], y_test, c = 'blue', label = \"Test data set\")\n",
    "p2 = plt.plot(x_test_3_signs['sex'].values * coef[0] + x_test_3_signs['weight'].values * coef[1] + \\\n",
    "                 x_test_3_signs['repwt'].values * coef[2] + coef[3], y_predict, c = 'red', label = \"Prediction\")\n",
    "plt.legend(fontsize = 15)\n",
    "plt.title('Linear regression model (3 signs)', fontsize = 20, fontweight=\"bold\")\n",
    "plt.ylabel(\"Height (cm)\", fontsize = 15, fontweight=\"bold\")\n",
    "plt.show()"
   ]
  },
  {
   "cell_type": "code",
   "execution_count": 51,
   "metadata": {},
   "outputs": [
    {
     "name": "stdout",
     "output_type": "stream",
     "text": [
      "The mean square error (MSE), when expanding the feature space, decreased by 24.56%\n"
     ]
    }
   ],
   "source": [
    "print(\"The mean square error (MSE), when expanding the feature space, decreased by {:.2f}%\".format((1 - mse_3_signs / mse_1_sign) * 100))"
   ]
  }
 ],
 "metadata": {
  "kernelspec": {
   "display_name": "Python 3",
   "language": "python",
   "name": "python3"
  },
  "language_info": {
   "codemirror_mode": {
    "name": "ipython",
    "version": 3
   },
   "file_extension": ".py",
   "mimetype": "text/x-python",
   "name": "python",
   "nbconvert_exporter": "python",
   "pygments_lexer": "ipython3",
   "version": "3.7.6"
  }
 },
 "nbformat": 4,
 "nbformat_minor": 2
}
